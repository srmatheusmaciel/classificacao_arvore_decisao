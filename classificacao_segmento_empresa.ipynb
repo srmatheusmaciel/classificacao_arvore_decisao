{
 "cells": [
  {
   "cell_type": "code",
   "execution_count": 58,
   "metadata": {},
   "outputs": [],
   "source": [
    "### pipenv install scikit-learn pandas plotly matplotlib pingouin nbformat ipykernel optuna ipywidgets gradio\n",
    "\n",
    "# EDA\n",
    "import pandas as pd\n",
    "import numpy as np\n",
    "import pingouin as pg\n",
    "import plotly.express as px\n",
    "import plotly.figure_factory as ff\n",
    "import matplotlib.pyplot as plt \n",
    "\n",
    "# ML\n",
    "from sklearn.model_selection import cross_validate, StratifiedKFold, cross_val_predict, cross_val_score\n",
    "from sklearn.preprocessing import OneHotEncoder\n",
    "from sklearn.compose import ColumnTransformer\n",
    "from sklearn.pipeline import Pipeline\n",
    "from sklearn.impute import SimpleImputer\n",
    "from sklearn.tree import DecisionTreeClassifier, plot_tree\n",
    "from sklearn.metrics import classification_report, confusion_matrix, ConfusionMatrixDisplay\n",
    "\n",
    "# Hyperparameter optimization\n",
    "import optuna\n"
   ]
  },
  {
   "cell_type": "code",
   "execution_count": 59,
   "metadata": {},
   "outputs": [],
   "source": [
    "# Carregar o dataset\n",
    "df_segmento = pd.read_csv('./datasets/dataset_segmento_cliente.csv')"
   ]
  },
  {
   "cell_type": "markdown",
   "metadata": {},
   "source": [
    "### EDA"
   ]
  },
  {
   "cell_type": "code",
   "execution_count": 60,
   "metadata": {},
   "outputs": [
    {
     "data": {
      "text/html": [
       "<div>\n",
       "<style scoped>\n",
       "    .dataframe tbody tr th:only-of-type {\n",
       "        vertical-align: middle;\n",
       "    }\n",
       "\n",
       "    .dataframe tbody tr th {\n",
       "        vertical-align: top;\n",
       "    }\n",
       "\n",
       "    .dataframe thead th {\n",
       "        text-align: right;\n",
       "    }\n",
       "</style>\n",
       "<table border=\"1\" class=\"dataframe\">\n",
       "  <thead>\n",
       "    <tr style=\"text-align: right;\">\n",
       "      <th></th>\n",
       "      <th>atividade_economica</th>\n",
       "      <th>faturamento_mensal</th>\n",
       "      <th>numero_de_funcionarios</th>\n",
       "      <th>localizacao</th>\n",
       "      <th>idade</th>\n",
       "      <th>inovacao</th>\n",
       "      <th>segmento_de_cliente</th>\n",
       "    </tr>\n",
       "  </thead>\n",
       "  <tbody>\n",
       "    <tr>\n",
       "      <th>0</th>\n",
       "      <td>Comércio</td>\n",
       "      <td>713109.95</td>\n",
       "      <td>12</td>\n",
       "      <td>Rio de Janeiro</td>\n",
       "      <td>6</td>\n",
       "      <td>1</td>\n",
       "      <td>Bronze</td>\n",
       "    </tr>\n",
       "    <tr>\n",
       "      <th>1</th>\n",
       "      <td>Comércio</td>\n",
       "      <td>790714.38</td>\n",
       "      <td>9</td>\n",
       "      <td>São Paulo</td>\n",
       "      <td>15</td>\n",
       "      <td>0</td>\n",
       "      <td>Bronze</td>\n",
       "    </tr>\n",
       "    <tr>\n",
       "      <th>2</th>\n",
       "      <td>Comércio</td>\n",
       "      <td>1197239.33</td>\n",
       "      <td>17</td>\n",
       "      <td>São Paulo</td>\n",
       "      <td>4</td>\n",
       "      <td>9</td>\n",
       "      <td>Silver</td>\n",
       "    </tr>\n",
       "    <tr>\n",
       "      <th>3</th>\n",
       "      <td>Indústria</td>\n",
       "      <td>449185.78</td>\n",
       "      <td>15</td>\n",
       "      <td>São Paulo</td>\n",
       "      <td>6</td>\n",
       "      <td>0</td>\n",
       "      <td>Starter</td>\n",
       "    </tr>\n",
       "    <tr>\n",
       "      <th>4</th>\n",
       "      <td>Agronegócio</td>\n",
       "      <td>1006373.16</td>\n",
       "      <td>15</td>\n",
       "      <td>São Paulo</td>\n",
       "      <td>15</td>\n",
       "      <td>8</td>\n",
       "      <td>Silver</td>\n",
       "    </tr>\n",
       "    <tr>\n",
       "      <th>5</th>\n",
       "      <td>Serviços</td>\n",
       "      <td>1629562.41</td>\n",
       "      <td>16</td>\n",
       "      <td>Rio de Janeiro</td>\n",
       "      <td>11</td>\n",
       "      <td>4</td>\n",
       "      <td>Silver</td>\n",
       "    </tr>\n",
       "    <tr>\n",
       "      <th>6</th>\n",
       "      <td>Serviços</td>\n",
       "      <td>771179.95</td>\n",
       "      <td>13</td>\n",
       "      <td>Vitória</td>\n",
       "      <td>0</td>\n",
       "      <td>1</td>\n",
       "      <td>Starter</td>\n",
       "    </tr>\n",
       "    <tr>\n",
       "      <th>7</th>\n",
       "      <td>Serviços</td>\n",
       "      <td>707837.61</td>\n",
       "      <td>16</td>\n",
       "      <td>São Paulo</td>\n",
       "      <td>10</td>\n",
       "      <td>6</td>\n",
       "      <td>Silver</td>\n",
       "    </tr>\n",
       "    <tr>\n",
       "      <th>8</th>\n",
       "      <td>Comércio</td>\n",
       "      <td>888983.66</td>\n",
       "      <td>17</td>\n",
       "      <td>Belo Horizonte</td>\n",
       "      <td>10</td>\n",
       "      <td>1</td>\n",
       "      <td>Bronze</td>\n",
       "    </tr>\n",
       "    <tr>\n",
       "      <th>9</th>\n",
       "      <td>Indústria</td>\n",
       "      <td>1098512.64</td>\n",
       "      <td>13</td>\n",
       "      <td>Rio de Janeiro</td>\n",
       "      <td>9</td>\n",
       "      <td>3</td>\n",
       "      <td>Bronze</td>\n",
       "    </tr>\n",
       "  </tbody>\n",
       "</table>\n",
       "</div>"
      ],
      "text/plain": [
       "  atividade_economica  faturamento_mensal  numero_de_funcionarios  \\\n",
       "0            Comércio           713109.95                      12   \n",
       "1            Comércio           790714.38                       9   \n",
       "2            Comércio          1197239.33                      17   \n",
       "3           Indústria           449185.78                      15   \n",
       "4         Agronegócio          1006373.16                      15   \n",
       "5            Serviços          1629562.41                      16   \n",
       "6            Serviços           771179.95                      13   \n",
       "7            Serviços           707837.61                      16   \n",
       "8            Comércio           888983.66                      17   \n",
       "9           Indústria          1098512.64                      13   \n",
       "\n",
       "      localizacao  idade  inovacao segmento_de_cliente  \n",
       "0  Rio de Janeiro      6         1              Bronze  \n",
       "1       São Paulo     15         0              Bronze  \n",
       "2       São Paulo      4         9              Silver  \n",
       "3       São Paulo      6         0             Starter  \n",
       "4       São Paulo     15         8              Silver  \n",
       "5  Rio de Janeiro     11         4              Silver  \n",
       "6         Vitória      0         1             Starter  \n",
       "7       São Paulo     10         6              Silver  \n",
       "8  Belo Horizonte     10         1              Bronze  \n",
       "9  Rio de Janeiro      9         3              Bronze  "
      ]
     },
     "execution_count": 60,
     "metadata": {},
     "output_type": "execute_result"
    }
   ],
   "source": [
    "# visualizar os dados \n",
    "df_segmento.head(10)"
   ]
  },
  {
   "cell_type": "code",
   "execution_count": 61,
   "metadata": {},
   "outputs": [
    {
     "name": "stdout",
     "output_type": "stream",
     "text": [
      "<class 'pandas.core.frame.DataFrame'>\n",
      "RangeIndex: 500 entries, 0 to 499\n",
      "Data columns (total 7 columns):\n",
      " #   Column                  Non-Null Count  Dtype  \n",
      "---  ------                  --------------  -----  \n",
      " 0   atividade_economica     500 non-null    object \n",
      " 1   faturamento_mensal      500 non-null    float64\n",
      " 2   numero_de_funcionarios  500 non-null    int64  \n",
      " 3   localizacao             500 non-null    object \n",
      " 4   idade                   500 non-null    int64  \n",
      " 5   inovacao                500 non-null    int64  \n",
      " 6   segmento_de_cliente     500 non-null    object \n",
      "dtypes: float64(1), int64(3), object(3)\n",
      "memory usage: 27.5+ KB\n"
     ]
    }
   ],
   "source": [
    "# Estrutura do dataset\n",
    "df_segmento.info()"
   ]
  },
  {
   "cell_type": "code",
   "execution_count": 62,
   "metadata": {},
   "outputs": [
    {
     "data": {
      "text/plain": [
       "array(['Comércio', 'Indústria', 'Agronegócio', 'Serviços'], dtype=object)"
      ]
     },
     "execution_count": 62,
     "metadata": {},
     "output_type": "execute_result"
    }
   ],
   "source": [
    "# valores possíveis - Variaveis categoricas\n",
    "df_segmento['atividade_economica'].unique()"
   ]
  },
  {
   "cell_type": "code",
   "execution_count": 63,
   "metadata": {},
   "outputs": [
    {
     "data": {
      "text/plain": [
       "array(['Rio de Janeiro', 'São Paulo', 'Vitória', 'Belo Horizonte'],\n",
       "      dtype=object)"
      ]
     },
     "execution_count": 63,
     "metadata": {},
     "output_type": "execute_result"
    }
   ],
   "source": [
    "# valores possíveis - Variaveis categoricas\n",
    "df_segmento['localizacao'].unique()"
   ]
  },
  {
   "cell_type": "code",
   "execution_count": 64,
   "metadata": {},
   "outputs": [
    {
     "data": {
      "text/plain": [
       "array(['Bronze', 'Silver', 'Starter', 'Gold'], dtype=object)"
      ]
     },
     "execution_count": 64,
     "metadata": {},
     "output_type": "execute_result"
    }
   ],
   "source": [
    "# valores possíveis - Variaveis categoricas\n",
    "df_segmento['segmento_de_cliente'].unique()"
   ]
  },
  {
   "cell_type": "code",
   "execution_count": 65,
   "metadata": {},
   "outputs": [
    {
     "data": {
      "text/plain": [
       "array([1, 0, 9, 8, 4, 6, 3, 7, 5, 2])"
      ]
     },
     "execution_count": 65,
     "metadata": {},
     "output_type": "execute_result"
    }
   ],
   "source": [
    "# valores possíveis - Variaveis categoricas\n",
    "df_segmento['inovacao'].unique()"
   ]
  },
  {
   "cell_type": "code",
   "execution_count": 66,
   "metadata": {},
   "outputs": [
    {
     "data": {
      "text/plain": [
       "segmento_de_cliente\n",
       "Silver     260\n",
       "Bronze     202\n",
       "Starter     22\n",
       "Gold        16\n",
       "Name: count, dtype: int64"
      ]
     },
     "execution_count": 66,
     "metadata": {},
     "output_type": "execute_result"
    }
   ],
   "source": [
    "# Distribuição da variavel segmento_de_cliente (target)\n",
    "contagem_target = df_segmento['segmento_de_cliente'].value_counts()\n",
    "contagem_target"
   ]
  },
  {
   "cell_type": "code",
   "execution_count": 67,
   "metadata": {},
   "outputs": [],
   "source": [
    "# Criar uma lista ordenada do target\n",
    "lista_segmentos = ['Starter', 'Bronze', 'Silver', 'Gold']"
   ]
  },
  {
   "cell_type": "code",
   "execution_count": 68,
   "metadata": {},
   "outputs": [
    {
     "data": {
      "application/vnd.plotly.v1+json": {
       "config": {
        "plotlyServerURL": "https://plot.ly"
       },
       "data": [
        {
         "hovertemplate": "segmento_de_cliente=%{x}<br>value=%{y}<extra></extra>",
         "legendgroup": "Starter",
         "marker": {
          "color": "#636efa",
          "pattern": {
           "shape": ""
          }
         },
         "name": "Starter",
         "orientation": "v",
         "showlegend": true,
         "textposition": "auto",
         "type": "bar",
         "x": [
          "Starter"
         ],
         "xaxis": "x",
         "y": {
          "bdata": "Fg==",
          "dtype": "i1"
         },
         "yaxis": "y"
        },
        {
         "hovertemplate": "segmento_de_cliente=%{x}<br>value=%{y}<extra></extra>",
         "legendgroup": "Bronze",
         "marker": {
          "color": "#EF553B",
          "pattern": {
           "shape": ""
          }
         },
         "name": "Bronze",
         "orientation": "v",
         "showlegend": true,
         "textposition": "auto",
         "type": "bar",
         "x": [
          "Bronze"
         ],
         "xaxis": "x",
         "y": {
          "bdata": "ygA=",
          "dtype": "i2"
         },
         "yaxis": "y"
        },
        {
         "hovertemplate": "segmento_de_cliente=%{x}<br>value=%{y}<extra></extra>",
         "legendgroup": "Silver",
         "marker": {
          "color": "#00cc96",
          "pattern": {
           "shape": ""
          }
         },
         "name": "Silver",
         "orientation": "v",
         "showlegend": true,
         "textposition": "auto",
         "type": "bar",
         "x": [
          "Silver"
         ],
         "xaxis": "x",
         "y": {
          "bdata": "BAE=",
          "dtype": "i2"
         },
         "yaxis": "y"
        },
        {
         "hovertemplate": "segmento_de_cliente=%{x}<br>value=%{y}<extra></extra>",
         "legendgroup": "Gold",
         "marker": {
          "color": "#ab63fa",
          "pattern": {
           "shape": ""
          }
         },
         "name": "Gold",
         "orientation": "v",
         "showlegend": true,
         "textposition": "auto",
         "type": "bar",
         "x": [
          "Gold"
         ],
         "xaxis": "x",
         "y": {
          "bdata": "EA==",
          "dtype": "i1"
         },
         "yaxis": "y"
        }
       ],
       "layout": {
        "barmode": "relative",
        "legend": {
         "title": {
          "text": "segmento_de_cliente"
         },
         "tracegroupgap": 0
        },
        "template": {
         "data": {
          "bar": [
           {
            "error_x": {
             "color": "#2a3f5f"
            },
            "error_y": {
             "color": "#2a3f5f"
            },
            "marker": {
             "line": {
              "color": "#E5ECF6",
              "width": 0.5
             },
             "pattern": {
              "fillmode": "overlay",
              "size": 10,
              "solidity": 0.2
             }
            },
            "type": "bar"
           }
          ],
          "barpolar": [
           {
            "marker": {
             "line": {
              "color": "#E5ECF6",
              "width": 0.5
             },
             "pattern": {
              "fillmode": "overlay",
              "size": 10,
              "solidity": 0.2
             }
            },
            "type": "barpolar"
           }
          ],
          "carpet": [
           {
            "aaxis": {
             "endlinecolor": "#2a3f5f",
             "gridcolor": "white",
             "linecolor": "white",
             "minorgridcolor": "white",
             "startlinecolor": "#2a3f5f"
            },
            "baxis": {
             "endlinecolor": "#2a3f5f",
             "gridcolor": "white",
             "linecolor": "white",
             "minorgridcolor": "white",
             "startlinecolor": "#2a3f5f"
            },
            "type": "carpet"
           }
          ],
          "choropleth": [
           {
            "colorbar": {
             "outlinewidth": 0,
             "ticks": ""
            },
            "type": "choropleth"
           }
          ],
          "contour": [
           {
            "colorbar": {
             "outlinewidth": 0,
             "ticks": ""
            },
            "colorscale": [
             [
              0,
              "#0d0887"
             ],
             [
              0.1111111111111111,
              "#46039f"
             ],
             [
              0.2222222222222222,
              "#7201a8"
             ],
             [
              0.3333333333333333,
              "#9c179e"
             ],
             [
              0.4444444444444444,
              "#bd3786"
             ],
             [
              0.5555555555555556,
              "#d8576b"
             ],
             [
              0.6666666666666666,
              "#ed7953"
             ],
             [
              0.7777777777777778,
              "#fb9f3a"
             ],
             [
              0.8888888888888888,
              "#fdca26"
             ],
             [
              1,
              "#f0f921"
             ]
            ],
            "type": "contour"
           }
          ],
          "contourcarpet": [
           {
            "colorbar": {
             "outlinewidth": 0,
             "ticks": ""
            },
            "type": "contourcarpet"
           }
          ],
          "heatmap": [
           {
            "colorbar": {
             "outlinewidth": 0,
             "ticks": ""
            },
            "colorscale": [
             [
              0,
              "#0d0887"
             ],
             [
              0.1111111111111111,
              "#46039f"
             ],
             [
              0.2222222222222222,
              "#7201a8"
             ],
             [
              0.3333333333333333,
              "#9c179e"
             ],
             [
              0.4444444444444444,
              "#bd3786"
             ],
             [
              0.5555555555555556,
              "#d8576b"
             ],
             [
              0.6666666666666666,
              "#ed7953"
             ],
             [
              0.7777777777777778,
              "#fb9f3a"
             ],
             [
              0.8888888888888888,
              "#fdca26"
             ],
             [
              1,
              "#f0f921"
             ]
            ],
            "type": "heatmap"
           }
          ],
          "histogram": [
           {
            "marker": {
             "pattern": {
              "fillmode": "overlay",
              "size": 10,
              "solidity": 0.2
             }
            },
            "type": "histogram"
           }
          ],
          "histogram2d": [
           {
            "colorbar": {
             "outlinewidth": 0,
             "ticks": ""
            },
            "colorscale": [
             [
              0,
              "#0d0887"
             ],
             [
              0.1111111111111111,
              "#46039f"
             ],
             [
              0.2222222222222222,
              "#7201a8"
             ],
             [
              0.3333333333333333,
              "#9c179e"
             ],
             [
              0.4444444444444444,
              "#bd3786"
             ],
             [
              0.5555555555555556,
              "#d8576b"
             ],
             [
              0.6666666666666666,
              "#ed7953"
             ],
             [
              0.7777777777777778,
              "#fb9f3a"
             ],
             [
              0.8888888888888888,
              "#fdca26"
             ],
             [
              1,
              "#f0f921"
             ]
            ],
            "type": "histogram2d"
           }
          ],
          "histogram2dcontour": [
           {
            "colorbar": {
             "outlinewidth": 0,
             "ticks": ""
            },
            "colorscale": [
             [
              0,
              "#0d0887"
             ],
             [
              0.1111111111111111,
              "#46039f"
             ],
             [
              0.2222222222222222,
              "#7201a8"
             ],
             [
              0.3333333333333333,
              "#9c179e"
             ],
             [
              0.4444444444444444,
              "#bd3786"
             ],
             [
              0.5555555555555556,
              "#d8576b"
             ],
             [
              0.6666666666666666,
              "#ed7953"
             ],
             [
              0.7777777777777778,
              "#fb9f3a"
             ],
             [
              0.8888888888888888,
              "#fdca26"
             ],
             [
              1,
              "#f0f921"
             ]
            ],
            "type": "histogram2dcontour"
           }
          ],
          "mesh3d": [
           {
            "colorbar": {
             "outlinewidth": 0,
             "ticks": ""
            },
            "type": "mesh3d"
           }
          ],
          "parcoords": [
           {
            "line": {
             "colorbar": {
              "outlinewidth": 0,
              "ticks": ""
             }
            },
            "type": "parcoords"
           }
          ],
          "pie": [
           {
            "automargin": true,
            "type": "pie"
           }
          ],
          "scatter": [
           {
            "fillpattern": {
             "fillmode": "overlay",
             "size": 10,
             "solidity": 0.2
            },
            "type": "scatter"
           }
          ],
          "scatter3d": [
           {
            "line": {
             "colorbar": {
              "outlinewidth": 0,
              "ticks": ""
             }
            },
            "marker": {
             "colorbar": {
              "outlinewidth": 0,
              "ticks": ""
             }
            },
            "type": "scatter3d"
           }
          ],
          "scattercarpet": [
           {
            "marker": {
             "colorbar": {
              "outlinewidth": 0,
              "ticks": ""
             }
            },
            "type": "scattercarpet"
           }
          ],
          "scattergeo": [
           {
            "marker": {
             "colorbar": {
              "outlinewidth": 0,
              "ticks": ""
             }
            },
            "type": "scattergeo"
           }
          ],
          "scattergl": [
           {
            "marker": {
             "colorbar": {
              "outlinewidth": 0,
              "ticks": ""
             }
            },
            "type": "scattergl"
           }
          ],
          "scattermap": [
           {
            "marker": {
             "colorbar": {
              "outlinewidth": 0,
              "ticks": ""
             }
            },
            "type": "scattermap"
           }
          ],
          "scattermapbox": [
           {
            "marker": {
             "colorbar": {
              "outlinewidth": 0,
              "ticks": ""
             }
            },
            "type": "scattermapbox"
           }
          ],
          "scatterpolar": [
           {
            "marker": {
             "colorbar": {
              "outlinewidth": 0,
              "ticks": ""
             }
            },
            "type": "scatterpolar"
           }
          ],
          "scatterpolargl": [
           {
            "marker": {
             "colorbar": {
              "outlinewidth": 0,
              "ticks": ""
             }
            },
            "type": "scatterpolargl"
           }
          ],
          "scatterternary": [
           {
            "marker": {
             "colorbar": {
              "outlinewidth": 0,
              "ticks": ""
             }
            },
            "type": "scatterternary"
           }
          ],
          "surface": [
           {
            "colorbar": {
             "outlinewidth": 0,
             "ticks": ""
            },
            "colorscale": [
             [
              0,
              "#0d0887"
             ],
             [
              0.1111111111111111,
              "#46039f"
             ],
             [
              0.2222222222222222,
              "#7201a8"
             ],
             [
              0.3333333333333333,
              "#9c179e"
             ],
             [
              0.4444444444444444,
              "#bd3786"
             ],
             [
              0.5555555555555556,
              "#d8576b"
             ],
             [
              0.6666666666666666,
              "#ed7953"
             ],
             [
              0.7777777777777778,
              "#fb9f3a"
             ],
             [
              0.8888888888888888,
              "#fdca26"
             ],
             [
              1,
              "#f0f921"
             ]
            ],
            "type": "surface"
           }
          ],
          "table": [
           {
            "cells": {
             "fill": {
              "color": "#EBF0F8"
             },
             "line": {
              "color": "white"
             }
            },
            "header": {
             "fill": {
              "color": "#C8D4E3"
             },
             "line": {
              "color": "white"
             }
            },
            "type": "table"
           }
          ]
         },
         "layout": {
          "annotationdefaults": {
           "arrowcolor": "#2a3f5f",
           "arrowhead": 0,
           "arrowwidth": 1
          },
          "autotypenumbers": "strict",
          "coloraxis": {
           "colorbar": {
            "outlinewidth": 0,
            "ticks": ""
           }
          },
          "colorscale": {
           "diverging": [
            [
             0,
             "#8e0152"
            ],
            [
             0.1,
             "#c51b7d"
            ],
            [
             0.2,
             "#de77ae"
            ],
            [
             0.3,
             "#f1b6da"
            ],
            [
             0.4,
             "#fde0ef"
            ],
            [
             0.5,
             "#f7f7f7"
            ],
            [
             0.6,
             "#e6f5d0"
            ],
            [
             0.7,
             "#b8e186"
            ],
            [
             0.8,
             "#7fbc41"
            ],
            [
             0.9,
             "#4d9221"
            ],
            [
             1,
             "#276419"
            ]
           ],
           "sequential": [
            [
             0,
             "#0d0887"
            ],
            [
             0.1111111111111111,
             "#46039f"
            ],
            [
             0.2222222222222222,
             "#7201a8"
            ],
            [
             0.3333333333333333,
             "#9c179e"
            ],
            [
             0.4444444444444444,
             "#bd3786"
            ],
            [
             0.5555555555555556,
             "#d8576b"
            ],
            [
             0.6666666666666666,
             "#ed7953"
            ],
            [
             0.7777777777777778,
             "#fb9f3a"
            ],
            [
             0.8888888888888888,
             "#fdca26"
            ],
            [
             1,
             "#f0f921"
            ]
           ],
           "sequentialminus": [
            [
             0,
             "#0d0887"
            ],
            [
             0.1111111111111111,
             "#46039f"
            ],
            [
             0.2222222222222222,
             "#7201a8"
            ],
            [
             0.3333333333333333,
             "#9c179e"
            ],
            [
             0.4444444444444444,
             "#bd3786"
            ],
            [
             0.5555555555555556,
             "#d8576b"
            ],
            [
             0.6666666666666666,
             "#ed7953"
            ],
            [
             0.7777777777777778,
             "#fb9f3a"
            ],
            [
             0.8888888888888888,
             "#fdca26"
            ],
            [
             1,
             "#f0f921"
            ]
           ]
          },
          "colorway": [
           "#636efa",
           "#EF553B",
           "#00cc96",
           "#ab63fa",
           "#FFA15A",
           "#19d3f3",
           "#FF6692",
           "#B6E880",
           "#FF97FF",
           "#FECB52"
          ],
          "font": {
           "color": "#2a3f5f"
          },
          "geo": {
           "bgcolor": "white",
           "lakecolor": "white",
           "landcolor": "#E5ECF6",
           "showlakes": true,
           "showland": true,
           "subunitcolor": "white"
          },
          "hoverlabel": {
           "align": "left"
          },
          "hovermode": "closest",
          "mapbox": {
           "style": "light"
          },
          "paper_bgcolor": "white",
          "plot_bgcolor": "#E5ECF6",
          "polar": {
           "angularaxis": {
            "gridcolor": "white",
            "linecolor": "white",
            "ticks": ""
           },
           "bgcolor": "#E5ECF6",
           "radialaxis": {
            "gridcolor": "white",
            "linecolor": "white",
            "ticks": ""
           }
          },
          "scene": {
           "xaxis": {
            "backgroundcolor": "#E5ECF6",
            "gridcolor": "white",
            "gridwidth": 2,
            "linecolor": "white",
            "showbackground": true,
            "ticks": "",
            "zerolinecolor": "white"
           },
           "yaxis": {
            "backgroundcolor": "#E5ECF6",
            "gridcolor": "white",
            "gridwidth": 2,
            "linecolor": "white",
            "showbackground": true,
            "ticks": "",
            "zerolinecolor": "white"
           },
           "zaxis": {
            "backgroundcolor": "#E5ECF6",
            "gridcolor": "white",
            "gridwidth": 2,
            "linecolor": "white",
            "showbackground": true,
            "ticks": "",
            "zerolinecolor": "white"
           }
          },
          "shapedefaults": {
           "line": {
            "color": "#2a3f5f"
           }
          },
          "ternary": {
           "aaxis": {
            "gridcolor": "white",
            "linecolor": "white",
            "ticks": ""
           },
           "baxis": {
            "gridcolor": "white",
            "linecolor": "white",
            "ticks": ""
           },
           "bgcolor": "#E5ECF6",
           "caxis": {
            "gridcolor": "white",
            "linecolor": "white",
            "ticks": ""
           }
          },
          "title": {
           "x": 0.05
          },
          "xaxis": {
           "automargin": true,
           "gridcolor": "white",
           "linecolor": "white",
           "ticks": "",
           "title": {
            "standoff": 15
           },
           "zerolinecolor": "white",
           "zerolinewidth": 2
          },
          "yaxis": {
           "automargin": true,
           "gridcolor": "white",
           "linecolor": "white",
           "ticks": "",
           "title": {
            "standoff": 15
           },
           "zerolinecolor": "white",
           "zerolinewidth": 2
          }
         }
        },
        "title": {
         "text": "Distribuição da variável target"
        },
        "xaxis": {
         "anchor": "y",
         "categoryarray": [
          "Starter",
          "Bronze",
          "Silver",
          "Gold"
         ],
         "categoryorder": "array",
         "domain": [
          0,
          1
         ],
         "title": {
          "text": "segmento_de_cliente"
         }
        },
        "yaxis": {
         "anchor": "x",
         "domain": [
          0,
          1
         ],
         "title": {
          "text": "value"
         }
        }
       }
      }
     },
     "metadata": {},
     "output_type": "display_data"
    }
   ],
   "source": [
    "# distribuição da variavel - Contagem\n",
    "px.bar(contagem_target,color=contagem_target.index ,\n",
    "       category_orders={'segmento_de_cliente': lista_segmentos}, \n",
    "       title='Distribuição da variável target')"
   ]
  },
  {
   "cell_type": "code",
   "execution_count": 69,
   "metadata": {},
   "outputs": [
    {
     "data": {
      "application/vnd.plotly.v1+json": {
       "config": {
        "plotlyServerURL": "https://plot.ly"
       },
       "data": [
        {
         "hovertemplate": "segmento_de_cliente=%{x}<br>value=%{y}<extra></extra>",
         "legendgroup": "Starter",
         "marker": {
          "color": "#636efa",
          "pattern": {
           "shape": ""
          }
         },
         "name": "Starter",
         "orientation": "v",
         "showlegend": true,
         "textposition": "auto",
         "type": "bar",
         "x": [
          "Starter"
         ],
         "xaxis": "x",
         "y": {
          "bdata": "mZmZmZmZEUA=",
          "dtype": "f8"
         },
         "yaxis": "y"
        },
        {
         "hovertemplate": "segmento_de_cliente=%{x}<br>value=%{y}<extra></extra>",
         "legendgroup": "Bronze",
         "marker": {
          "color": "#EF553B",
          "pattern": {
           "shape": ""
          }
         },
         "name": "Bronze",
         "orientation": "v",
         "showlegend": true,
         "textposition": "auto",
         "type": "bar",
         "x": [
          "Bronze"
         ],
         "xaxis": "x",
         "y": {
          "bdata": "NDMzMzMzREA=",
          "dtype": "f8"
         },
         "yaxis": "y"
        },
        {
         "hovertemplate": "segmento_de_cliente=%{x}<br>value=%{y}<extra></extra>",
         "legendgroup": "Silver",
         "marker": {
          "color": "#00cc96",
          "pattern": {
           "shape": ""
          }
         },
         "name": "Silver",
         "orientation": "v",
         "showlegend": true,
         "textposition": "auto",
         "type": "bar",
         "x": [
          "Silver"
         ],
         "xaxis": "x",
         "y": {
          "bdata": "AAAAAAAASkA=",
          "dtype": "f8"
         },
         "yaxis": "y"
        },
        {
         "hovertemplate": "segmento_de_cliente=%{x}<br>value=%{y}<extra></extra>",
         "legendgroup": "Gold",
         "marker": {
          "color": "#ab63fa",
          "pattern": {
           "shape": ""
          }
         },
         "name": "Gold",
         "orientation": "v",
         "showlegend": true,
         "textposition": "auto",
         "type": "bar",
         "x": [
          "Gold"
         ],
         "xaxis": "x",
         "y": {
          "bdata": "mpmZmZmZCUA=",
          "dtype": "f8"
         },
         "yaxis": "y"
        }
       ],
       "layout": {
        "barmode": "relative",
        "legend": {
         "title": {
          "text": "segmento_de_cliente"
         },
         "tracegroupgap": 0
        },
        "template": {
         "data": {
          "bar": [
           {
            "error_x": {
             "color": "#2a3f5f"
            },
            "error_y": {
             "color": "#2a3f5f"
            },
            "marker": {
             "line": {
              "color": "#E5ECF6",
              "width": 0.5
             },
             "pattern": {
              "fillmode": "overlay",
              "size": 10,
              "solidity": 0.2
             }
            },
            "type": "bar"
           }
          ],
          "barpolar": [
           {
            "marker": {
             "line": {
              "color": "#E5ECF6",
              "width": 0.5
             },
             "pattern": {
              "fillmode": "overlay",
              "size": 10,
              "solidity": 0.2
             }
            },
            "type": "barpolar"
           }
          ],
          "carpet": [
           {
            "aaxis": {
             "endlinecolor": "#2a3f5f",
             "gridcolor": "white",
             "linecolor": "white",
             "minorgridcolor": "white",
             "startlinecolor": "#2a3f5f"
            },
            "baxis": {
             "endlinecolor": "#2a3f5f",
             "gridcolor": "white",
             "linecolor": "white",
             "minorgridcolor": "white",
             "startlinecolor": "#2a3f5f"
            },
            "type": "carpet"
           }
          ],
          "choropleth": [
           {
            "colorbar": {
             "outlinewidth": 0,
             "ticks": ""
            },
            "type": "choropleth"
           }
          ],
          "contour": [
           {
            "colorbar": {
             "outlinewidth": 0,
             "ticks": ""
            },
            "colorscale": [
             [
              0,
              "#0d0887"
             ],
             [
              0.1111111111111111,
              "#46039f"
             ],
             [
              0.2222222222222222,
              "#7201a8"
             ],
             [
              0.3333333333333333,
              "#9c179e"
             ],
             [
              0.4444444444444444,
              "#bd3786"
             ],
             [
              0.5555555555555556,
              "#d8576b"
             ],
             [
              0.6666666666666666,
              "#ed7953"
             ],
             [
              0.7777777777777778,
              "#fb9f3a"
             ],
             [
              0.8888888888888888,
              "#fdca26"
             ],
             [
              1,
              "#f0f921"
             ]
            ],
            "type": "contour"
           }
          ],
          "contourcarpet": [
           {
            "colorbar": {
             "outlinewidth": 0,
             "ticks": ""
            },
            "type": "contourcarpet"
           }
          ],
          "heatmap": [
           {
            "colorbar": {
             "outlinewidth": 0,
             "ticks": ""
            },
            "colorscale": [
             [
              0,
              "#0d0887"
             ],
             [
              0.1111111111111111,
              "#46039f"
             ],
             [
              0.2222222222222222,
              "#7201a8"
             ],
             [
              0.3333333333333333,
              "#9c179e"
             ],
             [
              0.4444444444444444,
              "#bd3786"
             ],
             [
              0.5555555555555556,
              "#d8576b"
             ],
             [
              0.6666666666666666,
              "#ed7953"
             ],
             [
              0.7777777777777778,
              "#fb9f3a"
             ],
             [
              0.8888888888888888,
              "#fdca26"
             ],
             [
              1,
              "#f0f921"
             ]
            ],
            "type": "heatmap"
           }
          ],
          "histogram": [
           {
            "marker": {
             "pattern": {
              "fillmode": "overlay",
              "size": 10,
              "solidity": 0.2
             }
            },
            "type": "histogram"
           }
          ],
          "histogram2d": [
           {
            "colorbar": {
             "outlinewidth": 0,
             "ticks": ""
            },
            "colorscale": [
             [
              0,
              "#0d0887"
             ],
             [
              0.1111111111111111,
              "#46039f"
             ],
             [
              0.2222222222222222,
              "#7201a8"
             ],
             [
              0.3333333333333333,
              "#9c179e"
             ],
             [
              0.4444444444444444,
              "#bd3786"
             ],
             [
              0.5555555555555556,
              "#d8576b"
             ],
             [
              0.6666666666666666,
              "#ed7953"
             ],
             [
              0.7777777777777778,
              "#fb9f3a"
             ],
             [
              0.8888888888888888,
              "#fdca26"
             ],
             [
              1,
              "#f0f921"
             ]
            ],
            "type": "histogram2d"
           }
          ],
          "histogram2dcontour": [
           {
            "colorbar": {
             "outlinewidth": 0,
             "ticks": ""
            },
            "colorscale": [
             [
              0,
              "#0d0887"
             ],
             [
              0.1111111111111111,
              "#46039f"
             ],
             [
              0.2222222222222222,
              "#7201a8"
             ],
             [
              0.3333333333333333,
              "#9c179e"
             ],
             [
              0.4444444444444444,
              "#bd3786"
             ],
             [
              0.5555555555555556,
              "#d8576b"
             ],
             [
              0.6666666666666666,
              "#ed7953"
             ],
             [
              0.7777777777777778,
              "#fb9f3a"
             ],
             [
              0.8888888888888888,
              "#fdca26"
             ],
             [
              1,
              "#f0f921"
             ]
            ],
            "type": "histogram2dcontour"
           }
          ],
          "mesh3d": [
           {
            "colorbar": {
             "outlinewidth": 0,
             "ticks": ""
            },
            "type": "mesh3d"
           }
          ],
          "parcoords": [
           {
            "line": {
             "colorbar": {
              "outlinewidth": 0,
              "ticks": ""
             }
            },
            "type": "parcoords"
           }
          ],
          "pie": [
           {
            "automargin": true,
            "type": "pie"
           }
          ],
          "scatter": [
           {
            "fillpattern": {
             "fillmode": "overlay",
             "size": 10,
             "solidity": 0.2
            },
            "type": "scatter"
           }
          ],
          "scatter3d": [
           {
            "line": {
             "colorbar": {
              "outlinewidth": 0,
              "ticks": ""
             }
            },
            "marker": {
             "colorbar": {
              "outlinewidth": 0,
              "ticks": ""
             }
            },
            "type": "scatter3d"
           }
          ],
          "scattercarpet": [
           {
            "marker": {
             "colorbar": {
              "outlinewidth": 0,
              "ticks": ""
             }
            },
            "type": "scattercarpet"
           }
          ],
          "scattergeo": [
           {
            "marker": {
             "colorbar": {
              "outlinewidth": 0,
              "ticks": ""
             }
            },
            "type": "scattergeo"
           }
          ],
          "scattergl": [
           {
            "marker": {
             "colorbar": {
              "outlinewidth": 0,
              "ticks": ""
             }
            },
            "type": "scattergl"
           }
          ],
          "scattermap": [
           {
            "marker": {
             "colorbar": {
              "outlinewidth": 0,
              "ticks": ""
             }
            },
            "type": "scattermap"
           }
          ],
          "scattermapbox": [
           {
            "marker": {
             "colorbar": {
              "outlinewidth": 0,
              "ticks": ""
             }
            },
            "type": "scattermapbox"
           }
          ],
          "scatterpolar": [
           {
            "marker": {
             "colorbar": {
              "outlinewidth": 0,
              "ticks": ""
             }
            },
            "type": "scatterpolar"
           }
          ],
          "scatterpolargl": [
           {
            "marker": {
             "colorbar": {
              "outlinewidth": 0,
              "ticks": ""
             }
            },
            "type": "scatterpolargl"
           }
          ],
          "scatterternary": [
           {
            "marker": {
             "colorbar": {
              "outlinewidth": 0,
              "ticks": ""
             }
            },
            "type": "scatterternary"
           }
          ],
          "surface": [
           {
            "colorbar": {
             "outlinewidth": 0,
             "ticks": ""
            },
            "colorscale": [
             [
              0,
              "#0d0887"
             ],
             [
              0.1111111111111111,
              "#46039f"
             ],
             [
              0.2222222222222222,
              "#7201a8"
             ],
             [
              0.3333333333333333,
              "#9c179e"
             ],
             [
              0.4444444444444444,
              "#bd3786"
             ],
             [
              0.5555555555555556,
              "#d8576b"
             ],
             [
              0.6666666666666666,
              "#ed7953"
             ],
             [
              0.7777777777777778,
              "#fb9f3a"
             ],
             [
              0.8888888888888888,
              "#fdca26"
             ],
             [
              1,
              "#f0f921"
             ]
            ],
            "type": "surface"
           }
          ],
          "table": [
           {
            "cells": {
             "fill": {
              "color": "#EBF0F8"
             },
             "line": {
              "color": "white"
             }
            },
            "header": {
             "fill": {
              "color": "#C8D4E3"
             },
             "line": {
              "color": "white"
             }
            },
            "type": "table"
           }
          ]
         },
         "layout": {
          "annotationdefaults": {
           "arrowcolor": "#2a3f5f",
           "arrowhead": 0,
           "arrowwidth": 1
          },
          "autotypenumbers": "strict",
          "coloraxis": {
           "colorbar": {
            "outlinewidth": 0,
            "ticks": ""
           }
          },
          "colorscale": {
           "diverging": [
            [
             0,
             "#8e0152"
            ],
            [
             0.1,
             "#c51b7d"
            ],
            [
             0.2,
             "#de77ae"
            ],
            [
             0.3,
             "#f1b6da"
            ],
            [
             0.4,
             "#fde0ef"
            ],
            [
             0.5,
             "#f7f7f7"
            ],
            [
             0.6,
             "#e6f5d0"
            ],
            [
             0.7,
             "#b8e186"
            ],
            [
             0.8,
             "#7fbc41"
            ],
            [
             0.9,
             "#4d9221"
            ],
            [
             1,
             "#276419"
            ]
           ],
           "sequential": [
            [
             0,
             "#0d0887"
            ],
            [
             0.1111111111111111,
             "#46039f"
            ],
            [
             0.2222222222222222,
             "#7201a8"
            ],
            [
             0.3333333333333333,
             "#9c179e"
            ],
            [
             0.4444444444444444,
             "#bd3786"
            ],
            [
             0.5555555555555556,
             "#d8576b"
            ],
            [
             0.6666666666666666,
             "#ed7953"
            ],
            [
             0.7777777777777778,
             "#fb9f3a"
            ],
            [
             0.8888888888888888,
             "#fdca26"
            ],
            [
             1,
             "#f0f921"
            ]
           ],
           "sequentialminus": [
            [
             0,
             "#0d0887"
            ],
            [
             0.1111111111111111,
             "#46039f"
            ],
            [
             0.2222222222222222,
             "#7201a8"
            ],
            [
             0.3333333333333333,
             "#9c179e"
            ],
            [
             0.4444444444444444,
             "#bd3786"
            ],
            [
             0.5555555555555556,
             "#d8576b"
            ],
            [
             0.6666666666666666,
             "#ed7953"
            ],
            [
             0.7777777777777778,
             "#fb9f3a"
            ],
            [
             0.8888888888888888,
             "#fdca26"
            ],
            [
             1,
             "#f0f921"
            ]
           ]
          },
          "colorway": [
           "#636efa",
           "#EF553B",
           "#00cc96",
           "#ab63fa",
           "#FFA15A",
           "#19d3f3",
           "#FF6692",
           "#B6E880",
           "#FF97FF",
           "#FECB52"
          ],
          "font": {
           "color": "#2a3f5f"
          },
          "geo": {
           "bgcolor": "white",
           "lakecolor": "white",
           "landcolor": "#E5ECF6",
           "showlakes": true,
           "showland": true,
           "subunitcolor": "white"
          },
          "hoverlabel": {
           "align": "left"
          },
          "hovermode": "closest",
          "mapbox": {
           "style": "light"
          },
          "paper_bgcolor": "white",
          "plot_bgcolor": "#E5ECF6",
          "polar": {
           "angularaxis": {
            "gridcolor": "white",
            "linecolor": "white",
            "ticks": ""
           },
           "bgcolor": "#E5ECF6",
           "radialaxis": {
            "gridcolor": "white",
            "linecolor": "white",
            "ticks": ""
           }
          },
          "scene": {
           "xaxis": {
            "backgroundcolor": "#E5ECF6",
            "gridcolor": "white",
            "gridwidth": 2,
            "linecolor": "white",
            "showbackground": true,
            "ticks": "",
            "zerolinecolor": "white"
           },
           "yaxis": {
            "backgroundcolor": "#E5ECF6",
            "gridcolor": "white",
            "gridwidth": 2,
            "linecolor": "white",
            "showbackground": true,
            "ticks": "",
            "zerolinecolor": "white"
           },
           "zaxis": {
            "backgroundcolor": "#E5ECF6",
            "gridcolor": "white",
            "gridwidth": 2,
            "linecolor": "white",
            "showbackground": true,
            "ticks": "",
            "zerolinecolor": "white"
           }
          },
          "shapedefaults": {
           "line": {
            "color": "#2a3f5f"
           }
          },
          "ternary": {
           "aaxis": {
            "gridcolor": "white",
            "linecolor": "white",
            "ticks": ""
           },
           "baxis": {
            "gridcolor": "white",
            "linecolor": "white",
            "ticks": ""
           },
           "bgcolor": "#E5ECF6",
           "caxis": {
            "gridcolor": "white",
            "linecolor": "white",
            "ticks": ""
           }
          },
          "title": {
           "x": 0.05
          },
          "xaxis": {
           "automargin": true,
           "gridcolor": "white",
           "linecolor": "white",
           "ticks": "",
           "title": {
            "standoff": 15
           },
           "zerolinecolor": "white",
           "zerolinewidth": 2
          },
          "yaxis": {
           "automargin": true,
           "gridcolor": "white",
           "linecolor": "white",
           "ticks": "",
           "title": {
            "standoff": 15
           },
           "zerolinecolor": "white",
           "zerolinewidth": 2
          }
         }
        },
        "title": {
         "text": "Distribuição da variável target"
        },
        "xaxis": {
         "anchor": "y",
         "categoryarray": [
          "Starter",
          "Bronze",
          "Silver",
          "Gold"
         ],
         "categoryorder": "array",
         "domain": [
          0,
          1
         ],
         "title": {
          "text": "segmento_de_cliente"
         }
        },
        "yaxis": {
         "anchor": "x",
         "domain": [
          0,
          1
         ],
         "title": {
          "text": "value"
         }
        }
       }
      }
     },
     "metadata": {},
     "output_type": "display_data"
    }
   ],
   "source": [
    "# Distribuição da variavel Target - Percentual\n",
    "percentual_target = contagem_target / len(df_segmento) * 100\n",
    "px.bar(percentual_target,color=percentual_target.index ,\n",
    "       category_orders={'segmento_de_cliente': lista_segmentos}, \n",
    "       title='Distribuição da variável target')"
   ]
  },
  {
   "cell_type": "code",
   "execution_count": 70,
   "metadata": {},
   "outputs": [
    {
     "data": {
      "application/vnd.plotly.v1+json": {
       "config": {
        "plotlyServerURL": "https://plot.ly"
       },
       "data": [
        {
         "hovertemplate": "localizacao=%{x}<br>value=%{y}<extra></extra>",
         "legendgroup": "Vitória",
         "marker": {
          "color": "#636efa",
          "pattern": {
           "shape": ""
          }
         },
         "name": "Vitória",
         "orientation": "v",
         "showlegend": true,
         "textposition": "auto",
         "type": "bar",
         "x": [
          "Vitória"
         ],
         "xaxis": "x",
         "y": {
          "bdata": "Z2ZmZmZmO0A=",
          "dtype": "f8"
         },
         "yaxis": "y"
        },
        {
         "hovertemplate": "localizacao=%{x}<br>value=%{y}<extra></extra>",
         "legendgroup": "Rio de Janeiro",
         "marker": {
          "color": "#EF553B",
          "pattern": {
           "shape": ""
          }
         },
         "name": "Rio de Janeiro",
         "orientation": "v",
         "showlegend": true,
         "textposition": "auto",
         "type": "bar",
         "x": [
          "Rio de Janeiro"
         ],
         "xaxis": "x",
         "y": {
          "bdata": "NDMzMzMzOkA=",
          "dtype": "f8"
         },
         "yaxis": "y"
        },
        {
         "hovertemplate": "localizacao=%{x}<br>value=%{y}<extra></extra>",
         "legendgroup": "São Paulo",
         "marker": {
          "color": "#00cc96",
          "pattern": {
           "shape": ""
          }
         },
         "name": "São Paulo",
         "orientation": "v",
         "showlegend": true,
         "textposition": "auto",
         "type": "bar",
         "x": [
          "São Paulo"
         ],
         "xaxis": "x",
         "y": {
          "bdata": "MzMzMzMzOEA=",
          "dtype": "f8"
         },
         "yaxis": "y"
        },
        {
         "hovertemplate": "localizacao=%{x}<br>value=%{y}<extra></extra>",
         "legendgroup": "Belo Horizonte",
         "marker": {
          "color": "#ab63fa",
          "pattern": {
           "shape": ""
          }
         },
         "name": "Belo Horizonte",
         "orientation": "v",
         "showlegend": true,
         "textposition": "auto",
         "type": "bar",
         "x": [
          "Belo Horizonte"
         ],
         "xaxis": "x",
         "y": {
          "bdata": "MzMzMzMzNkA=",
          "dtype": "f8"
         },
         "yaxis": "y"
        }
       ],
       "layout": {
        "barmode": "relative",
        "legend": {
         "title": {
          "text": "localizacao"
         },
         "tracegroupgap": 0
        },
        "template": {
         "data": {
          "bar": [
           {
            "error_x": {
             "color": "#2a3f5f"
            },
            "error_y": {
             "color": "#2a3f5f"
            },
            "marker": {
             "line": {
              "color": "#E5ECF6",
              "width": 0.5
             },
             "pattern": {
              "fillmode": "overlay",
              "size": 10,
              "solidity": 0.2
             }
            },
            "type": "bar"
           }
          ],
          "barpolar": [
           {
            "marker": {
             "line": {
              "color": "#E5ECF6",
              "width": 0.5
             },
             "pattern": {
              "fillmode": "overlay",
              "size": 10,
              "solidity": 0.2
             }
            },
            "type": "barpolar"
           }
          ],
          "carpet": [
           {
            "aaxis": {
             "endlinecolor": "#2a3f5f",
             "gridcolor": "white",
             "linecolor": "white",
             "minorgridcolor": "white",
             "startlinecolor": "#2a3f5f"
            },
            "baxis": {
             "endlinecolor": "#2a3f5f",
             "gridcolor": "white",
             "linecolor": "white",
             "minorgridcolor": "white",
             "startlinecolor": "#2a3f5f"
            },
            "type": "carpet"
           }
          ],
          "choropleth": [
           {
            "colorbar": {
             "outlinewidth": 0,
             "ticks": ""
            },
            "type": "choropleth"
           }
          ],
          "contour": [
           {
            "colorbar": {
             "outlinewidth": 0,
             "ticks": ""
            },
            "colorscale": [
             [
              0,
              "#0d0887"
             ],
             [
              0.1111111111111111,
              "#46039f"
             ],
             [
              0.2222222222222222,
              "#7201a8"
             ],
             [
              0.3333333333333333,
              "#9c179e"
             ],
             [
              0.4444444444444444,
              "#bd3786"
             ],
             [
              0.5555555555555556,
              "#d8576b"
             ],
             [
              0.6666666666666666,
              "#ed7953"
             ],
             [
              0.7777777777777778,
              "#fb9f3a"
             ],
             [
              0.8888888888888888,
              "#fdca26"
             ],
             [
              1,
              "#f0f921"
             ]
            ],
            "type": "contour"
           }
          ],
          "contourcarpet": [
           {
            "colorbar": {
             "outlinewidth": 0,
             "ticks": ""
            },
            "type": "contourcarpet"
           }
          ],
          "heatmap": [
           {
            "colorbar": {
             "outlinewidth": 0,
             "ticks": ""
            },
            "colorscale": [
             [
              0,
              "#0d0887"
             ],
             [
              0.1111111111111111,
              "#46039f"
             ],
             [
              0.2222222222222222,
              "#7201a8"
             ],
             [
              0.3333333333333333,
              "#9c179e"
             ],
             [
              0.4444444444444444,
              "#bd3786"
             ],
             [
              0.5555555555555556,
              "#d8576b"
             ],
             [
              0.6666666666666666,
              "#ed7953"
             ],
             [
              0.7777777777777778,
              "#fb9f3a"
             ],
             [
              0.8888888888888888,
              "#fdca26"
             ],
             [
              1,
              "#f0f921"
             ]
            ],
            "type": "heatmap"
           }
          ],
          "histogram": [
           {
            "marker": {
             "pattern": {
              "fillmode": "overlay",
              "size": 10,
              "solidity": 0.2
             }
            },
            "type": "histogram"
           }
          ],
          "histogram2d": [
           {
            "colorbar": {
             "outlinewidth": 0,
             "ticks": ""
            },
            "colorscale": [
             [
              0,
              "#0d0887"
             ],
             [
              0.1111111111111111,
              "#46039f"
             ],
             [
              0.2222222222222222,
              "#7201a8"
             ],
             [
              0.3333333333333333,
              "#9c179e"
             ],
             [
              0.4444444444444444,
              "#bd3786"
             ],
             [
              0.5555555555555556,
              "#d8576b"
             ],
             [
              0.6666666666666666,
              "#ed7953"
             ],
             [
              0.7777777777777778,
              "#fb9f3a"
             ],
             [
              0.8888888888888888,
              "#fdca26"
             ],
             [
              1,
              "#f0f921"
             ]
            ],
            "type": "histogram2d"
           }
          ],
          "histogram2dcontour": [
           {
            "colorbar": {
             "outlinewidth": 0,
             "ticks": ""
            },
            "colorscale": [
             [
              0,
              "#0d0887"
             ],
             [
              0.1111111111111111,
              "#46039f"
             ],
             [
              0.2222222222222222,
              "#7201a8"
             ],
             [
              0.3333333333333333,
              "#9c179e"
             ],
             [
              0.4444444444444444,
              "#bd3786"
             ],
             [
              0.5555555555555556,
              "#d8576b"
             ],
             [
              0.6666666666666666,
              "#ed7953"
             ],
             [
              0.7777777777777778,
              "#fb9f3a"
             ],
             [
              0.8888888888888888,
              "#fdca26"
             ],
             [
              1,
              "#f0f921"
             ]
            ],
            "type": "histogram2dcontour"
           }
          ],
          "mesh3d": [
           {
            "colorbar": {
             "outlinewidth": 0,
             "ticks": ""
            },
            "type": "mesh3d"
           }
          ],
          "parcoords": [
           {
            "line": {
             "colorbar": {
              "outlinewidth": 0,
              "ticks": ""
             }
            },
            "type": "parcoords"
           }
          ],
          "pie": [
           {
            "automargin": true,
            "type": "pie"
           }
          ],
          "scatter": [
           {
            "fillpattern": {
             "fillmode": "overlay",
             "size": 10,
             "solidity": 0.2
            },
            "type": "scatter"
           }
          ],
          "scatter3d": [
           {
            "line": {
             "colorbar": {
              "outlinewidth": 0,
              "ticks": ""
             }
            },
            "marker": {
             "colorbar": {
              "outlinewidth": 0,
              "ticks": ""
             }
            },
            "type": "scatter3d"
           }
          ],
          "scattercarpet": [
           {
            "marker": {
             "colorbar": {
              "outlinewidth": 0,
              "ticks": ""
             }
            },
            "type": "scattercarpet"
           }
          ],
          "scattergeo": [
           {
            "marker": {
             "colorbar": {
              "outlinewidth": 0,
              "ticks": ""
             }
            },
            "type": "scattergeo"
           }
          ],
          "scattergl": [
           {
            "marker": {
             "colorbar": {
              "outlinewidth": 0,
              "ticks": ""
             }
            },
            "type": "scattergl"
           }
          ],
          "scattermap": [
           {
            "marker": {
             "colorbar": {
              "outlinewidth": 0,
              "ticks": ""
             }
            },
            "type": "scattermap"
           }
          ],
          "scattermapbox": [
           {
            "marker": {
             "colorbar": {
              "outlinewidth": 0,
              "ticks": ""
             }
            },
            "type": "scattermapbox"
           }
          ],
          "scatterpolar": [
           {
            "marker": {
             "colorbar": {
              "outlinewidth": 0,
              "ticks": ""
             }
            },
            "type": "scatterpolar"
           }
          ],
          "scatterpolargl": [
           {
            "marker": {
             "colorbar": {
              "outlinewidth": 0,
              "ticks": ""
             }
            },
            "type": "scatterpolargl"
           }
          ],
          "scatterternary": [
           {
            "marker": {
             "colorbar": {
              "outlinewidth": 0,
              "ticks": ""
             }
            },
            "type": "scatterternary"
           }
          ],
          "surface": [
           {
            "colorbar": {
             "outlinewidth": 0,
             "ticks": ""
            },
            "colorscale": [
             [
              0,
              "#0d0887"
             ],
             [
              0.1111111111111111,
              "#46039f"
             ],
             [
              0.2222222222222222,
              "#7201a8"
             ],
             [
              0.3333333333333333,
              "#9c179e"
             ],
             [
              0.4444444444444444,
              "#bd3786"
             ],
             [
              0.5555555555555556,
              "#d8576b"
             ],
             [
              0.6666666666666666,
              "#ed7953"
             ],
             [
              0.7777777777777778,
              "#fb9f3a"
             ],
             [
              0.8888888888888888,
              "#fdca26"
             ],
             [
              1,
              "#f0f921"
             ]
            ],
            "type": "surface"
           }
          ],
          "table": [
           {
            "cells": {
             "fill": {
              "color": "#EBF0F8"
             },
             "line": {
              "color": "white"
             }
            },
            "header": {
             "fill": {
              "color": "#C8D4E3"
             },
             "line": {
              "color": "white"
             }
            },
            "type": "table"
           }
          ]
         },
         "layout": {
          "annotationdefaults": {
           "arrowcolor": "#2a3f5f",
           "arrowhead": 0,
           "arrowwidth": 1
          },
          "autotypenumbers": "strict",
          "coloraxis": {
           "colorbar": {
            "outlinewidth": 0,
            "ticks": ""
           }
          },
          "colorscale": {
           "diverging": [
            [
             0,
             "#8e0152"
            ],
            [
             0.1,
             "#c51b7d"
            ],
            [
             0.2,
             "#de77ae"
            ],
            [
             0.3,
             "#f1b6da"
            ],
            [
             0.4,
             "#fde0ef"
            ],
            [
             0.5,
             "#f7f7f7"
            ],
            [
             0.6,
             "#e6f5d0"
            ],
            [
             0.7,
             "#b8e186"
            ],
            [
             0.8,
             "#7fbc41"
            ],
            [
             0.9,
             "#4d9221"
            ],
            [
             1,
             "#276419"
            ]
           ],
           "sequential": [
            [
             0,
             "#0d0887"
            ],
            [
             0.1111111111111111,
             "#46039f"
            ],
            [
             0.2222222222222222,
             "#7201a8"
            ],
            [
             0.3333333333333333,
             "#9c179e"
            ],
            [
             0.4444444444444444,
             "#bd3786"
            ],
            [
             0.5555555555555556,
             "#d8576b"
            ],
            [
             0.6666666666666666,
             "#ed7953"
            ],
            [
             0.7777777777777778,
             "#fb9f3a"
            ],
            [
             0.8888888888888888,
             "#fdca26"
            ],
            [
             1,
             "#f0f921"
            ]
           ],
           "sequentialminus": [
            [
             0,
             "#0d0887"
            ],
            [
             0.1111111111111111,
             "#46039f"
            ],
            [
             0.2222222222222222,
             "#7201a8"
            ],
            [
             0.3333333333333333,
             "#9c179e"
            ],
            [
             0.4444444444444444,
             "#bd3786"
            ],
            [
             0.5555555555555556,
             "#d8576b"
            ],
            [
             0.6666666666666666,
             "#ed7953"
            ],
            [
             0.7777777777777778,
             "#fb9f3a"
            ],
            [
             0.8888888888888888,
             "#fdca26"
            ],
            [
             1,
             "#f0f921"
            ]
           ]
          },
          "colorway": [
           "#636efa",
           "#EF553B",
           "#00cc96",
           "#ab63fa",
           "#FFA15A",
           "#19d3f3",
           "#FF6692",
           "#B6E880",
           "#FF97FF",
           "#FECB52"
          ],
          "font": {
           "color": "#2a3f5f"
          },
          "geo": {
           "bgcolor": "white",
           "lakecolor": "white",
           "landcolor": "#E5ECF6",
           "showlakes": true,
           "showland": true,
           "subunitcolor": "white"
          },
          "hoverlabel": {
           "align": "left"
          },
          "hovermode": "closest",
          "mapbox": {
           "style": "light"
          },
          "paper_bgcolor": "white",
          "plot_bgcolor": "#E5ECF6",
          "polar": {
           "angularaxis": {
            "gridcolor": "white",
            "linecolor": "white",
            "ticks": ""
           },
           "bgcolor": "#E5ECF6",
           "radialaxis": {
            "gridcolor": "white",
            "linecolor": "white",
            "ticks": ""
           }
          },
          "scene": {
           "xaxis": {
            "backgroundcolor": "#E5ECF6",
            "gridcolor": "white",
            "gridwidth": 2,
            "linecolor": "white",
            "showbackground": true,
            "ticks": "",
            "zerolinecolor": "white"
           },
           "yaxis": {
            "backgroundcolor": "#E5ECF6",
            "gridcolor": "white",
            "gridwidth": 2,
            "linecolor": "white",
            "showbackground": true,
            "ticks": "",
            "zerolinecolor": "white"
           },
           "zaxis": {
            "backgroundcolor": "#E5ECF6",
            "gridcolor": "white",
            "gridwidth": 2,
            "linecolor": "white",
            "showbackground": true,
            "ticks": "",
            "zerolinecolor": "white"
           }
          },
          "shapedefaults": {
           "line": {
            "color": "#2a3f5f"
           }
          },
          "ternary": {
           "aaxis": {
            "gridcolor": "white",
            "linecolor": "white",
            "ticks": ""
           },
           "baxis": {
            "gridcolor": "white",
            "linecolor": "white",
            "ticks": ""
           },
           "bgcolor": "#E5ECF6",
           "caxis": {
            "gridcolor": "white",
            "linecolor": "white",
            "ticks": ""
           }
          },
          "title": {
           "x": 0.05
          },
          "xaxis": {
           "automargin": true,
           "gridcolor": "white",
           "linecolor": "white",
           "ticks": "",
           "title": {
            "standoff": 15
           },
           "zerolinecolor": "white",
           "zerolinewidth": 2
          },
          "yaxis": {
           "automargin": true,
           "gridcolor": "white",
           "linecolor": "white",
           "ticks": "",
           "title": {
            "standoff": 15
           },
           "zerolinecolor": "white",
           "zerolinewidth": 2
          }
         }
        },
        "title": {
         "text": "Distribuição da variável target"
        },
        "xaxis": {
         "anchor": "y",
         "categoryarray": [
          "Vitória",
          "Rio de Janeiro",
          "São Paulo",
          "Belo Horizonte"
         ],
         "categoryorder": "array",
         "domain": [
          0,
          1
         ],
         "title": {
          "text": "localizacao"
         }
        },
        "yaxis": {
         "anchor": "x",
         "domain": [
          0,
          1
         ],
         "title": {
          "text": "value"
         }
        }
       }
      }
     },
     "metadata": {},
     "output_type": "display_data"
    }
   ],
   "source": [
    "# Distribuição da variavel Localização\n",
    "percentual_localizacao = df_segmento.value_counts('localizacao') / len(df_segmento) * 100\n",
    "px.bar(percentual_localizacao,color=percentual_localizacao.index ,\n",
    "       title='Distribuição da variável target')"
   ]
  },
  {
   "cell_type": "code",
   "execution_count": 71,
   "metadata": {},
   "outputs": [
    {
     "data": {
      "application/vnd.plotly.v1+json": {
       "config": {
        "plotlyServerURL": "https://plot.ly"
       },
       "data": [
        {
         "hovertemplate": "atividade_economica=%{x}<br>value=%{y}<extra></extra>",
         "legendgroup": "Comércio",
         "marker": {
          "color": "#636efa",
          "pattern": {
           "shape": ""
          }
         },
         "name": "Comércio",
         "orientation": "v",
         "showlegend": true,
         "textposition": "auto",
         "type": "bar",
         "x": [
          "Comércio"
         ],
         "xaxis": "x",
         "y": {
          "bdata": "zszMzMzMO0A=",
          "dtype": "f8"
         },
         "yaxis": "y"
        },
        {
         "hovertemplate": "atividade_economica=%{x}<br>value=%{y}<extra></extra>",
         "legendgroup": "Indústria",
         "marker": {
          "color": "#EF553B",
          "pattern": {
           "shape": ""
          }
         },
         "name": "Indústria",
         "orientation": "v",
         "showlegend": true,
         "textposition": "auto",
         "type": "bar",
         "x": [
          "Indústria"
         ],
         "xaxis": "x",
         "y": {
          "bdata": "ZmZmZmZmOEA=",
          "dtype": "f8"
         },
         "yaxis": "y"
        },
        {
         "hovertemplate": "atividade_economica=%{x}<br>value=%{y}<extra></extra>",
         "legendgroup": "Serviços",
         "marker": {
          "color": "#00cc96",
          "pattern": {
           "shape": ""
          }
         },
         "name": "Serviços",
         "orientation": "v",
         "showlegend": true,
         "textposition": "auto",
         "type": "bar",
         "x": [
          "Serviços"
         ],
         "xaxis": "x",
         "y": {
          "bdata": "MzMzMzMzOEA=",
          "dtype": "f8"
         },
         "yaxis": "y"
        },
        {
         "hovertemplate": "atividade_economica=%{x}<br>value=%{y}<extra></extra>",
         "legendgroup": "Agronegócio",
         "marker": {
          "color": "#ab63fa",
          "pattern": {
           "shape": ""
          }
         },
         "name": "Agronegócio",
         "orientation": "v",
         "showlegend": true,
         "textposition": "auto",
         "type": "bar",
         "x": [
          "Agronegócio"
         ],
         "xaxis": "x",
         "y": {
          "bdata": "mZmZmZmZN0A=",
          "dtype": "f8"
         },
         "yaxis": "y"
        }
       ],
       "layout": {
        "barmode": "relative",
        "legend": {
         "title": {
          "text": "atividade_economica"
         },
         "tracegroupgap": 0
        },
        "template": {
         "data": {
          "bar": [
           {
            "error_x": {
             "color": "#2a3f5f"
            },
            "error_y": {
             "color": "#2a3f5f"
            },
            "marker": {
             "line": {
              "color": "#E5ECF6",
              "width": 0.5
             },
             "pattern": {
              "fillmode": "overlay",
              "size": 10,
              "solidity": 0.2
             }
            },
            "type": "bar"
           }
          ],
          "barpolar": [
           {
            "marker": {
             "line": {
              "color": "#E5ECF6",
              "width": 0.5
             },
             "pattern": {
              "fillmode": "overlay",
              "size": 10,
              "solidity": 0.2
             }
            },
            "type": "barpolar"
           }
          ],
          "carpet": [
           {
            "aaxis": {
             "endlinecolor": "#2a3f5f",
             "gridcolor": "white",
             "linecolor": "white",
             "minorgridcolor": "white",
             "startlinecolor": "#2a3f5f"
            },
            "baxis": {
             "endlinecolor": "#2a3f5f",
             "gridcolor": "white",
             "linecolor": "white",
             "minorgridcolor": "white",
             "startlinecolor": "#2a3f5f"
            },
            "type": "carpet"
           }
          ],
          "choropleth": [
           {
            "colorbar": {
             "outlinewidth": 0,
             "ticks": ""
            },
            "type": "choropleth"
           }
          ],
          "contour": [
           {
            "colorbar": {
             "outlinewidth": 0,
             "ticks": ""
            },
            "colorscale": [
             [
              0,
              "#0d0887"
             ],
             [
              0.1111111111111111,
              "#46039f"
             ],
             [
              0.2222222222222222,
              "#7201a8"
             ],
             [
              0.3333333333333333,
              "#9c179e"
             ],
             [
              0.4444444444444444,
              "#bd3786"
             ],
             [
              0.5555555555555556,
              "#d8576b"
             ],
             [
              0.6666666666666666,
              "#ed7953"
             ],
             [
              0.7777777777777778,
              "#fb9f3a"
             ],
             [
              0.8888888888888888,
              "#fdca26"
             ],
             [
              1,
              "#f0f921"
             ]
            ],
            "type": "contour"
           }
          ],
          "contourcarpet": [
           {
            "colorbar": {
             "outlinewidth": 0,
             "ticks": ""
            },
            "type": "contourcarpet"
           }
          ],
          "heatmap": [
           {
            "colorbar": {
             "outlinewidth": 0,
             "ticks": ""
            },
            "colorscale": [
             [
              0,
              "#0d0887"
             ],
             [
              0.1111111111111111,
              "#46039f"
             ],
             [
              0.2222222222222222,
              "#7201a8"
             ],
             [
              0.3333333333333333,
              "#9c179e"
             ],
             [
              0.4444444444444444,
              "#bd3786"
             ],
             [
              0.5555555555555556,
              "#d8576b"
             ],
             [
              0.6666666666666666,
              "#ed7953"
             ],
             [
              0.7777777777777778,
              "#fb9f3a"
             ],
             [
              0.8888888888888888,
              "#fdca26"
             ],
             [
              1,
              "#f0f921"
             ]
            ],
            "type": "heatmap"
           }
          ],
          "histogram": [
           {
            "marker": {
             "pattern": {
              "fillmode": "overlay",
              "size": 10,
              "solidity": 0.2
             }
            },
            "type": "histogram"
           }
          ],
          "histogram2d": [
           {
            "colorbar": {
             "outlinewidth": 0,
             "ticks": ""
            },
            "colorscale": [
             [
              0,
              "#0d0887"
             ],
             [
              0.1111111111111111,
              "#46039f"
             ],
             [
              0.2222222222222222,
              "#7201a8"
             ],
             [
              0.3333333333333333,
              "#9c179e"
             ],
             [
              0.4444444444444444,
              "#bd3786"
             ],
             [
              0.5555555555555556,
              "#d8576b"
             ],
             [
              0.6666666666666666,
              "#ed7953"
             ],
             [
              0.7777777777777778,
              "#fb9f3a"
             ],
             [
              0.8888888888888888,
              "#fdca26"
             ],
             [
              1,
              "#f0f921"
             ]
            ],
            "type": "histogram2d"
           }
          ],
          "histogram2dcontour": [
           {
            "colorbar": {
             "outlinewidth": 0,
             "ticks": ""
            },
            "colorscale": [
             [
              0,
              "#0d0887"
             ],
             [
              0.1111111111111111,
              "#46039f"
             ],
             [
              0.2222222222222222,
              "#7201a8"
             ],
             [
              0.3333333333333333,
              "#9c179e"
             ],
             [
              0.4444444444444444,
              "#bd3786"
             ],
             [
              0.5555555555555556,
              "#d8576b"
             ],
             [
              0.6666666666666666,
              "#ed7953"
             ],
             [
              0.7777777777777778,
              "#fb9f3a"
             ],
             [
              0.8888888888888888,
              "#fdca26"
             ],
             [
              1,
              "#f0f921"
             ]
            ],
            "type": "histogram2dcontour"
           }
          ],
          "mesh3d": [
           {
            "colorbar": {
             "outlinewidth": 0,
             "ticks": ""
            },
            "type": "mesh3d"
           }
          ],
          "parcoords": [
           {
            "line": {
             "colorbar": {
              "outlinewidth": 0,
              "ticks": ""
             }
            },
            "type": "parcoords"
           }
          ],
          "pie": [
           {
            "automargin": true,
            "type": "pie"
           }
          ],
          "scatter": [
           {
            "fillpattern": {
             "fillmode": "overlay",
             "size": 10,
             "solidity": 0.2
            },
            "type": "scatter"
           }
          ],
          "scatter3d": [
           {
            "line": {
             "colorbar": {
              "outlinewidth": 0,
              "ticks": ""
             }
            },
            "marker": {
             "colorbar": {
              "outlinewidth": 0,
              "ticks": ""
             }
            },
            "type": "scatter3d"
           }
          ],
          "scattercarpet": [
           {
            "marker": {
             "colorbar": {
              "outlinewidth": 0,
              "ticks": ""
             }
            },
            "type": "scattercarpet"
           }
          ],
          "scattergeo": [
           {
            "marker": {
             "colorbar": {
              "outlinewidth": 0,
              "ticks": ""
             }
            },
            "type": "scattergeo"
           }
          ],
          "scattergl": [
           {
            "marker": {
             "colorbar": {
              "outlinewidth": 0,
              "ticks": ""
             }
            },
            "type": "scattergl"
           }
          ],
          "scattermap": [
           {
            "marker": {
             "colorbar": {
              "outlinewidth": 0,
              "ticks": ""
             }
            },
            "type": "scattermap"
           }
          ],
          "scattermapbox": [
           {
            "marker": {
             "colorbar": {
              "outlinewidth": 0,
              "ticks": ""
             }
            },
            "type": "scattermapbox"
           }
          ],
          "scatterpolar": [
           {
            "marker": {
             "colorbar": {
              "outlinewidth": 0,
              "ticks": ""
             }
            },
            "type": "scatterpolar"
           }
          ],
          "scatterpolargl": [
           {
            "marker": {
             "colorbar": {
              "outlinewidth": 0,
              "ticks": ""
             }
            },
            "type": "scatterpolargl"
           }
          ],
          "scatterternary": [
           {
            "marker": {
             "colorbar": {
              "outlinewidth": 0,
              "ticks": ""
             }
            },
            "type": "scatterternary"
           }
          ],
          "surface": [
           {
            "colorbar": {
             "outlinewidth": 0,
             "ticks": ""
            },
            "colorscale": [
             [
              0,
              "#0d0887"
             ],
             [
              0.1111111111111111,
              "#46039f"
             ],
             [
              0.2222222222222222,
              "#7201a8"
             ],
             [
              0.3333333333333333,
              "#9c179e"
             ],
             [
              0.4444444444444444,
              "#bd3786"
             ],
             [
              0.5555555555555556,
              "#d8576b"
             ],
             [
              0.6666666666666666,
              "#ed7953"
             ],
             [
              0.7777777777777778,
              "#fb9f3a"
             ],
             [
              0.8888888888888888,
              "#fdca26"
             ],
             [
              1,
              "#f0f921"
             ]
            ],
            "type": "surface"
           }
          ],
          "table": [
           {
            "cells": {
             "fill": {
              "color": "#EBF0F8"
             },
             "line": {
              "color": "white"
             }
            },
            "header": {
             "fill": {
              "color": "#C8D4E3"
             },
             "line": {
              "color": "white"
             }
            },
            "type": "table"
           }
          ]
         },
         "layout": {
          "annotationdefaults": {
           "arrowcolor": "#2a3f5f",
           "arrowhead": 0,
           "arrowwidth": 1
          },
          "autotypenumbers": "strict",
          "coloraxis": {
           "colorbar": {
            "outlinewidth": 0,
            "ticks": ""
           }
          },
          "colorscale": {
           "diverging": [
            [
             0,
             "#8e0152"
            ],
            [
             0.1,
             "#c51b7d"
            ],
            [
             0.2,
             "#de77ae"
            ],
            [
             0.3,
             "#f1b6da"
            ],
            [
             0.4,
             "#fde0ef"
            ],
            [
             0.5,
             "#f7f7f7"
            ],
            [
             0.6,
             "#e6f5d0"
            ],
            [
             0.7,
             "#b8e186"
            ],
            [
             0.8,
             "#7fbc41"
            ],
            [
             0.9,
             "#4d9221"
            ],
            [
             1,
             "#276419"
            ]
           ],
           "sequential": [
            [
             0,
             "#0d0887"
            ],
            [
             0.1111111111111111,
             "#46039f"
            ],
            [
             0.2222222222222222,
             "#7201a8"
            ],
            [
             0.3333333333333333,
             "#9c179e"
            ],
            [
             0.4444444444444444,
             "#bd3786"
            ],
            [
             0.5555555555555556,
             "#d8576b"
            ],
            [
             0.6666666666666666,
             "#ed7953"
            ],
            [
             0.7777777777777778,
             "#fb9f3a"
            ],
            [
             0.8888888888888888,
             "#fdca26"
            ],
            [
             1,
             "#f0f921"
            ]
           ],
           "sequentialminus": [
            [
             0,
             "#0d0887"
            ],
            [
             0.1111111111111111,
             "#46039f"
            ],
            [
             0.2222222222222222,
             "#7201a8"
            ],
            [
             0.3333333333333333,
             "#9c179e"
            ],
            [
             0.4444444444444444,
             "#bd3786"
            ],
            [
             0.5555555555555556,
             "#d8576b"
            ],
            [
             0.6666666666666666,
             "#ed7953"
            ],
            [
             0.7777777777777778,
             "#fb9f3a"
            ],
            [
             0.8888888888888888,
             "#fdca26"
            ],
            [
             1,
             "#f0f921"
            ]
           ]
          },
          "colorway": [
           "#636efa",
           "#EF553B",
           "#00cc96",
           "#ab63fa",
           "#FFA15A",
           "#19d3f3",
           "#FF6692",
           "#B6E880",
           "#FF97FF",
           "#FECB52"
          ],
          "font": {
           "color": "#2a3f5f"
          },
          "geo": {
           "bgcolor": "white",
           "lakecolor": "white",
           "landcolor": "#E5ECF6",
           "showlakes": true,
           "showland": true,
           "subunitcolor": "white"
          },
          "hoverlabel": {
           "align": "left"
          },
          "hovermode": "closest",
          "mapbox": {
           "style": "light"
          },
          "paper_bgcolor": "white",
          "plot_bgcolor": "#E5ECF6",
          "polar": {
           "angularaxis": {
            "gridcolor": "white",
            "linecolor": "white",
            "ticks": ""
           },
           "bgcolor": "#E5ECF6",
           "radialaxis": {
            "gridcolor": "white",
            "linecolor": "white",
            "ticks": ""
           }
          },
          "scene": {
           "xaxis": {
            "backgroundcolor": "#E5ECF6",
            "gridcolor": "white",
            "gridwidth": 2,
            "linecolor": "white",
            "showbackground": true,
            "ticks": "",
            "zerolinecolor": "white"
           },
           "yaxis": {
            "backgroundcolor": "#E5ECF6",
            "gridcolor": "white",
            "gridwidth": 2,
            "linecolor": "white",
            "showbackground": true,
            "ticks": "",
            "zerolinecolor": "white"
           },
           "zaxis": {
            "backgroundcolor": "#E5ECF6",
            "gridcolor": "white",
            "gridwidth": 2,
            "linecolor": "white",
            "showbackground": true,
            "ticks": "",
            "zerolinecolor": "white"
           }
          },
          "shapedefaults": {
           "line": {
            "color": "#2a3f5f"
           }
          },
          "ternary": {
           "aaxis": {
            "gridcolor": "white",
            "linecolor": "white",
            "ticks": ""
           },
           "baxis": {
            "gridcolor": "white",
            "linecolor": "white",
            "ticks": ""
           },
           "bgcolor": "#E5ECF6",
           "caxis": {
            "gridcolor": "white",
            "linecolor": "white",
            "ticks": ""
           }
          },
          "title": {
           "x": 0.05
          },
          "xaxis": {
           "automargin": true,
           "gridcolor": "white",
           "linecolor": "white",
           "ticks": "",
           "title": {
            "standoff": 15
           },
           "zerolinecolor": "white",
           "zerolinewidth": 2
          },
          "yaxis": {
           "automargin": true,
           "gridcolor": "white",
           "linecolor": "white",
           "ticks": "",
           "title": {
            "standoff": 15
           },
           "zerolinecolor": "white",
           "zerolinewidth": 2
          }
         }
        },
        "title": {
         "text": "Distribuição da variável target"
        },
        "xaxis": {
         "anchor": "y",
         "categoryarray": [
          "Comércio",
          "Indústria",
          "Serviços",
          "Agronegócio"
         ],
         "categoryorder": "array",
         "domain": [
          0,
          1
         ],
         "title": {
          "text": "atividade_economica"
         }
        },
        "yaxis": {
         "anchor": "x",
         "domain": [
          0,
          1
         ],
         "title": {
          "text": "value"
         }
        }
       }
      }
     },
     "metadata": {},
     "output_type": "display_data"
    }
   ],
   "source": [
    "# Distribuição da variavel Atividade economica\n",
    "percentual_atividade = df_segmento.value_counts('atividade_economica') / len(df_segmento) * 100\n",
    "px.bar(percentual_atividade,color=percentual_atividade.index ,\n",
    "       title='Distribuição da variável target')"
   ]
  },
  {
   "cell_type": "code",
   "execution_count": 72,
   "metadata": {},
   "outputs": [
    {
     "data": {
      "application/vnd.plotly.v1+json": {
       "config": {
        "plotlyServerURL": "https://plot.ly"
       },
       "data": [
        {
         "hovertemplate": "inovacao=%{marker.color}<br>value=%{y}<extra></extra>",
         "legendgroup": "",
         "marker": {
          "color": {
           "bdata": "AQIGBwADCAkFBA==",
           "dtype": "i1"
          },
          "coloraxis": "coloraxis",
          "pattern": {
           "shape": ""
          }
         },
         "name": "",
         "orientation": "v",
         "showlegend": false,
         "textposition": "auto",
         "type": "bar",
         "x": {
          "bdata": "AQIGBwADCAkFBA==",
          "dtype": "i1"
         },
         "xaxis": "x",
         "y": {
          "bdata": "zczMzMzMJkBnZmZmZmYmQJqZmZmZmSVAMzMzMzMzJUDNzMzMzMwkQDMzMzMzMyNAzczMzMzMIkDNzMzMzMwiQDMzMzMzMyFAMzMzMzMzIUA=",
          "dtype": "f8"
         },
         "yaxis": "y"
        }
       ],
       "layout": {
        "barmode": "relative",
        "coloraxis": {
         "colorbar": {
          "title": {
           "text": "inovacao"
          }
         },
         "colorscale": [
          [
           0,
           "#0d0887"
          ],
          [
           0.1111111111111111,
           "#46039f"
          ],
          [
           0.2222222222222222,
           "#7201a8"
          ],
          [
           0.3333333333333333,
           "#9c179e"
          ],
          [
           0.4444444444444444,
           "#bd3786"
          ],
          [
           0.5555555555555556,
           "#d8576b"
          ],
          [
           0.6666666666666666,
           "#ed7953"
          ],
          [
           0.7777777777777778,
           "#fb9f3a"
          ],
          [
           0.8888888888888888,
           "#fdca26"
          ],
          [
           1,
           "#f0f921"
          ]
         ]
        },
        "legend": {
         "tracegroupgap": 0
        },
        "template": {
         "data": {
          "bar": [
           {
            "error_x": {
             "color": "#2a3f5f"
            },
            "error_y": {
             "color": "#2a3f5f"
            },
            "marker": {
             "line": {
              "color": "#E5ECF6",
              "width": 0.5
             },
             "pattern": {
              "fillmode": "overlay",
              "size": 10,
              "solidity": 0.2
             }
            },
            "type": "bar"
           }
          ],
          "barpolar": [
           {
            "marker": {
             "line": {
              "color": "#E5ECF6",
              "width": 0.5
             },
             "pattern": {
              "fillmode": "overlay",
              "size": 10,
              "solidity": 0.2
             }
            },
            "type": "barpolar"
           }
          ],
          "carpet": [
           {
            "aaxis": {
             "endlinecolor": "#2a3f5f",
             "gridcolor": "white",
             "linecolor": "white",
             "minorgridcolor": "white",
             "startlinecolor": "#2a3f5f"
            },
            "baxis": {
             "endlinecolor": "#2a3f5f",
             "gridcolor": "white",
             "linecolor": "white",
             "minorgridcolor": "white",
             "startlinecolor": "#2a3f5f"
            },
            "type": "carpet"
           }
          ],
          "choropleth": [
           {
            "colorbar": {
             "outlinewidth": 0,
             "ticks": ""
            },
            "type": "choropleth"
           }
          ],
          "contour": [
           {
            "colorbar": {
             "outlinewidth": 0,
             "ticks": ""
            },
            "colorscale": [
             [
              0,
              "#0d0887"
             ],
             [
              0.1111111111111111,
              "#46039f"
             ],
             [
              0.2222222222222222,
              "#7201a8"
             ],
             [
              0.3333333333333333,
              "#9c179e"
             ],
             [
              0.4444444444444444,
              "#bd3786"
             ],
             [
              0.5555555555555556,
              "#d8576b"
             ],
             [
              0.6666666666666666,
              "#ed7953"
             ],
             [
              0.7777777777777778,
              "#fb9f3a"
             ],
             [
              0.8888888888888888,
              "#fdca26"
             ],
             [
              1,
              "#f0f921"
             ]
            ],
            "type": "contour"
           }
          ],
          "contourcarpet": [
           {
            "colorbar": {
             "outlinewidth": 0,
             "ticks": ""
            },
            "type": "contourcarpet"
           }
          ],
          "heatmap": [
           {
            "colorbar": {
             "outlinewidth": 0,
             "ticks": ""
            },
            "colorscale": [
             [
              0,
              "#0d0887"
             ],
             [
              0.1111111111111111,
              "#46039f"
             ],
             [
              0.2222222222222222,
              "#7201a8"
             ],
             [
              0.3333333333333333,
              "#9c179e"
             ],
             [
              0.4444444444444444,
              "#bd3786"
             ],
             [
              0.5555555555555556,
              "#d8576b"
             ],
             [
              0.6666666666666666,
              "#ed7953"
             ],
             [
              0.7777777777777778,
              "#fb9f3a"
             ],
             [
              0.8888888888888888,
              "#fdca26"
             ],
             [
              1,
              "#f0f921"
             ]
            ],
            "type": "heatmap"
           }
          ],
          "histogram": [
           {
            "marker": {
             "pattern": {
              "fillmode": "overlay",
              "size": 10,
              "solidity": 0.2
             }
            },
            "type": "histogram"
           }
          ],
          "histogram2d": [
           {
            "colorbar": {
             "outlinewidth": 0,
             "ticks": ""
            },
            "colorscale": [
             [
              0,
              "#0d0887"
             ],
             [
              0.1111111111111111,
              "#46039f"
             ],
             [
              0.2222222222222222,
              "#7201a8"
             ],
             [
              0.3333333333333333,
              "#9c179e"
             ],
             [
              0.4444444444444444,
              "#bd3786"
             ],
             [
              0.5555555555555556,
              "#d8576b"
             ],
             [
              0.6666666666666666,
              "#ed7953"
             ],
             [
              0.7777777777777778,
              "#fb9f3a"
             ],
             [
              0.8888888888888888,
              "#fdca26"
             ],
             [
              1,
              "#f0f921"
             ]
            ],
            "type": "histogram2d"
           }
          ],
          "histogram2dcontour": [
           {
            "colorbar": {
             "outlinewidth": 0,
             "ticks": ""
            },
            "colorscale": [
             [
              0,
              "#0d0887"
             ],
             [
              0.1111111111111111,
              "#46039f"
             ],
             [
              0.2222222222222222,
              "#7201a8"
             ],
             [
              0.3333333333333333,
              "#9c179e"
             ],
             [
              0.4444444444444444,
              "#bd3786"
             ],
             [
              0.5555555555555556,
              "#d8576b"
             ],
             [
              0.6666666666666666,
              "#ed7953"
             ],
             [
              0.7777777777777778,
              "#fb9f3a"
             ],
             [
              0.8888888888888888,
              "#fdca26"
             ],
             [
              1,
              "#f0f921"
             ]
            ],
            "type": "histogram2dcontour"
           }
          ],
          "mesh3d": [
           {
            "colorbar": {
             "outlinewidth": 0,
             "ticks": ""
            },
            "type": "mesh3d"
           }
          ],
          "parcoords": [
           {
            "line": {
             "colorbar": {
              "outlinewidth": 0,
              "ticks": ""
             }
            },
            "type": "parcoords"
           }
          ],
          "pie": [
           {
            "automargin": true,
            "type": "pie"
           }
          ],
          "scatter": [
           {
            "fillpattern": {
             "fillmode": "overlay",
             "size": 10,
             "solidity": 0.2
            },
            "type": "scatter"
           }
          ],
          "scatter3d": [
           {
            "line": {
             "colorbar": {
              "outlinewidth": 0,
              "ticks": ""
             }
            },
            "marker": {
             "colorbar": {
              "outlinewidth": 0,
              "ticks": ""
             }
            },
            "type": "scatter3d"
           }
          ],
          "scattercarpet": [
           {
            "marker": {
             "colorbar": {
              "outlinewidth": 0,
              "ticks": ""
             }
            },
            "type": "scattercarpet"
           }
          ],
          "scattergeo": [
           {
            "marker": {
             "colorbar": {
              "outlinewidth": 0,
              "ticks": ""
             }
            },
            "type": "scattergeo"
           }
          ],
          "scattergl": [
           {
            "marker": {
             "colorbar": {
              "outlinewidth": 0,
              "ticks": ""
             }
            },
            "type": "scattergl"
           }
          ],
          "scattermap": [
           {
            "marker": {
             "colorbar": {
              "outlinewidth": 0,
              "ticks": ""
             }
            },
            "type": "scattermap"
           }
          ],
          "scattermapbox": [
           {
            "marker": {
             "colorbar": {
              "outlinewidth": 0,
              "ticks": ""
             }
            },
            "type": "scattermapbox"
           }
          ],
          "scatterpolar": [
           {
            "marker": {
             "colorbar": {
              "outlinewidth": 0,
              "ticks": ""
             }
            },
            "type": "scatterpolar"
           }
          ],
          "scatterpolargl": [
           {
            "marker": {
             "colorbar": {
              "outlinewidth": 0,
              "ticks": ""
             }
            },
            "type": "scatterpolargl"
           }
          ],
          "scatterternary": [
           {
            "marker": {
             "colorbar": {
              "outlinewidth": 0,
              "ticks": ""
             }
            },
            "type": "scatterternary"
           }
          ],
          "surface": [
           {
            "colorbar": {
             "outlinewidth": 0,
             "ticks": ""
            },
            "colorscale": [
             [
              0,
              "#0d0887"
             ],
             [
              0.1111111111111111,
              "#46039f"
             ],
             [
              0.2222222222222222,
              "#7201a8"
             ],
             [
              0.3333333333333333,
              "#9c179e"
             ],
             [
              0.4444444444444444,
              "#bd3786"
             ],
             [
              0.5555555555555556,
              "#d8576b"
             ],
             [
              0.6666666666666666,
              "#ed7953"
             ],
             [
              0.7777777777777778,
              "#fb9f3a"
             ],
             [
              0.8888888888888888,
              "#fdca26"
             ],
             [
              1,
              "#f0f921"
             ]
            ],
            "type": "surface"
           }
          ],
          "table": [
           {
            "cells": {
             "fill": {
              "color": "#EBF0F8"
             },
             "line": {
              "color": "white"
             }
            },
            "header": {
             "fill": {
              "color": "#C8D4E3"
             },
             "line": {
              "color": "white"
             }
            },
            "type": "table"
           }
          ]
         },
         "layout": {
          "annotationdefaults": {
           "arrowcolor": "#2a3f5f",
           "arrowhead": 0,
           "arrowwidth": 1
          },
          "autotypenumbers": "strict",
          "coloraxis": {
           "colorbar": {
            "outlinewidth": 0,
            "ticks": ""
           }
          },
          "colorscale": {
           "diverging": [
            [
             0,
             "#8e0152"
            ],
            [
             0.1,
             "#c51b7d"
            ],
            [
             0.2,
             "#de77ae"
            ],
            [
             0.3,
             "#f1b6da"
            ],
            [
             0.4,
             "#fde0ef"
            ],
            [
             0.5,
             "#f7f7f7"
            ],
            [
             0.6,
             "#e6f5d0"
            ],
            [
             0.7,
             "#b8e186"
            ],
            [
             0.8,
             "#7fbc41"
            ],
            [
             0.9,
             "#4d9221"
            ],
            [
             1,
             "#276419"
            ]
           ],
           "sequential": [
            [
             0,
             "#0d0887"
            ],
            [
             0.1111111111111111,
             "#46039f"
            ],
            [
             0.2222222222222222,
             "#7201a8"
            ],
            [
             0.3333333333333333,
             "#9c179e"
            ],
            [
             0.4444444444444444,
             "#bd3786"
            ],
            [
             0.5555555555555556,
             "#d8576b"
            ],
            [
             0.6666666666666666,
             "#ed7953"
            ],
            [
             0.7777777777777778,
             "#fb9f3a"
            ],
            [
             0.8888888888888888,
             "#fdca26"
            ],
            [
             1,
             "#f0f921"
            ]
           ],
           "sequentialminus": [
            [
             0,
             "#0d0887"
            ],
            [
             0.1111111111111111,
             "#46039f"
            ],
            [
             0.2222222222222222,
             "#7201a8"
            ],
            [
             0.3333333333333333,
             "#9c179e"
            ],
            [
             0.4444444444444444,
             "#bd3786"
            ],
            [
             0.5555555555555556,
             "#d8576b"
            ],
            [
             0.6666666666666666,
             "#ed7953"
            ],
            [
             0.7777777777777778,
             "#fb9f3a"
            ],
            [
             0.8888888888888888,
             "#fdca26"
            ],
            [
             1,
             "#f0f921"
            ]
           ]
          },
          "colorway": [
           "#636efa",
           "#EF553B",
           "#00cc96",
           "#ab63fa",
           "#FFA15A",
           "#19d3f3",
           "#FF6692",
           "#B6E880",
           "#FF97FF",
           "#FECB52"
          ],
          "font": {
           "color": "#2a3f5f"
          },
          "geo": {
           "bgcolor": "white",
           "lakecolor": "white",
           "landcolor": "#E5ECF6",
           "showlakes": true,
           "showland": true,
           "subunitcolor": "white"
          },
          "hoverlabel": {
           "align": "left"
          },
          "hovermode": "closest",
          "mapbox": {
           "style": "light"
          },
          "paper_bgcolor": "white",
          "plot_bgcolor": "#E5ECF6",
          "polar": {
           "angularaxis": {
            "gridcolor": "white",
            "linecolor": "white",
            "ticks": ""
           },
           "bgcolor": "#E5ECF6",
           "radialaxis": {
            "gridcolor": "white",
            "linecolor": "white",
            "ticks": ""
           }
          },
          "scene": {
           "xaxis": {
            "backgroundcolor": "#E5ECF6",
            "gridcolor": "white",
            "gridwidth": 2,
            "linecolor": "white",
            "showbackground": true,
            "ticks": "",
            "zerolinecolor": "white"
           },
           "yaxis": {
            "backgroundcolor": "#E5ECF6",
            "gridcolor": "white",
            "gridwidth": 2,
            "linecolor": "white",
            "showbackground": true,
            "ticks": "",
            "zerolinecolor": "white"
           },
           "zaxis": {
            "backgroundcolor": "#E5ECF6",
            "gridcolor": "white",
            "gridwidth": 2,
            "linecolor": "white",
            "showbackground": true,
            "ticks": "",
            "zerolinecolor": "white"
           }
          },
          "shapedefaults": {
           "line": {
            "color": "#2a3f5f"
           }
          },
          "ternary": {
           "aaxis": {
            "gridcolor": "white",
            "linecolor": "white",
            "ticks": ""
           },
           "baxis": {
            "gridcolor": "white",
            "linecolor": "white",
            "ticks": ""
           },
           "bgcolor": "#E5ECF6",
           "caxis": {
            "gridcolor": "white",
            "linecolor": "white",
            "ticks": ""
           }
          },
          "title": {
           "x": 0.05
          },
          "xaxis": {
           "automargin": true,
           "gridcolor": "white",
           "linecolor": "white",
           "ticks": "",
           "title": {
            "standoff": 15
           },
           "zerolinecolor": "white",
           "zerolinewidth": 2
          },
          "yaxis": {
           "automargin": true,
           "gridcolor": "white",
           "linecolor": "white",
           "ticks": "",
           "title": {
            "standoff": 15
           },
           "zerolinecolor": "white",
           "zerolinewidth": 2
          }
         }
        },
        "title": {
         "text": "Distribuição da variável target"
        },
        "xaxis": {
         "anchor": "y",
         "domain": [
          0,
          1
         ],
         "title": {
          "text": "inovacao"
         }
        },
        "yaxis": {
         "anchor": "x",
         "domain": [
          0,
          1
         ],
         "title": {
          "text": "value"
         }
        }
       }
      }
     },
     "metadata": {},
     "output_type": "display_data"
    }
   ],
   "source": [
    "# Distribuição da variavel Inovação\n",
    "percentual_inovacao = df_segmento.value_counts('inovacao') / len(df_segmento) * 100\n",
    "px.bar(percentual_inovacao,color=percentual_inovacao.index ,\n",
    "       title='Distribuição da variável target')"
   ]
  },
  {
   "cell_type": "code",
   "execution_count": 73,
   "metadata": {},
   "outputs": [
    {
     "data": {
      "application/vnd.plotly.v1+json": {
       "config": {
        "plotlyServerURL": "https://plot.ly"
       },
       "data": [
        {
         "colorscale": [
          [
           0,
           "#00083e"
          ],
          [
           0.5,
           "#ededee"
          ],
          [
           1,
           "#ffffff"
          ]
         ],
         "hoverinfo": "none",
         "opacity": 0.75,
         "showscale": false,
         "type": "heatmap",
         "z": [
          [
           0,
           0,
           0,
           0,
           0
          ],
          [
           0.5,
           0.5,
           0.5,
           0.5,
           0.5
          ],
          [
           1,
           1,
           1,
           1,
           1
          ],
          [
           0.5,
           0.5,
           0.5,
           0.5,
           0.5
          ],
          [
           1,
           1,
           1,
           1,
           1
          ],
          [
           0.5,
           0.5,
           0.5,
           0.5,
           0.5
          ]
         ]
        }
       ],
       "layout": {
        "annotations": [
         {
          "align": "left",
          "font": {
           "color": "#ffffff"
          },
          "showarrow": false,
          "text": "<b>localizacao</b>",
          "x": -0.45,
          "xanchor": "left",
          "xref": "x",
          "y": 0,
          "yref": "y"
         },
         {
          "align": "left",
          "font": {
           "color": "#ffffff"
          },
          "showarrow": false,
          "text": "<b>Starter</b>",
          "x": 0.55,
          "xanchor": "left",
          "xref": "x",
          "y": 0,
          "yref": "y"
         },
         {
          "align": "left",
          "font": {
           "color": "#ffffff"
          },
          "showarrow": false,
          "text": "<b>Bronze</b>",
          "x": 1.55,
          "xanchor": "left",
          "xref": "x",
          "y": 0,
          "yref": "y"
         },
         {
          "align": "left",
          "font": {
           "color": "#ffffff"
          },
          "showarrow": false,
          "text": "<b>Silver</b>",
          "x": 2.55,
          "xanchor": "left",
          "xref": "x",
          "y": 0,
          "yref": "y"
         },
         {
          "align": "left",
          "font": {
           "color": "#ffffff"
          },
          "showarrow": false,
          "text": "<b>Gold</b>",
          "x": 3.55,
          "xanchor": "left",
          "xref": "x",
          "y": 0,
          "yref": "y"
         },
         {
          "align": "left",
          "font": {
           "color": "#000000"
          },
          "showarrow": false,
          "text": "Belo Horizonte",
          "x": -0.45,
          "xanchor": "left",
          "xref": "x",
          "y": 1,
          "yref": "y"
         },
         {
          "align": "left",
          "font": {
           "color": "#000000"
          },
          "showarrow": false,
          "text": "5",
          "x": 0.55,
          "xanchor": "left",
          "xref": "x",
          "y": 1,
          "yref": "y"
         },
         {
          "align": "left",
          "font": {
           "color": "#000000"
          },
          "showarrow": false,
          "text": "39",
          "x": 1.55,
          "xanchor": "left",
          "xref": "x",
          "y": 1,
          "yref": "y"
         },
         {
          "align": "left",
          "font": {
           "color": "#000000"
          },
          "showarrow": false,
          "text": "63",
          "x": 2.55,
          "xanchor": "left",
          "xref": "x",
          "y": 1,
          "yref": "y"
         },
         {
          "align": "left",
          "font": {
           "color": "#000000"
          },
          "showarrow": false,
          "text": "4",
          "x": 3.55,
          "xanchor": "left",
          "xref": "x",
          "y": 1,
          "yref": "y"
         },
         {
          "align": "left",
          "font": {
           "color": "#000000"
          },
          "showarrow": false,
          "text": "Rio de Janeiro",
          "x": -0.45,
          "xanchor": "left",
          "xref": "x",
          "y": 2,
          "yref": "y"
         },
         {
          "align": "left",
          "font": {
           "color": "#000000"
          },
          "showarrow": false,
          "text": "6",
          "x": 0.55,
          "xanchor": "left",
          "xref": "x",
          "y": 2,
          "yref": "y"
         },
         {
          "align": "left",
          "font": {
           "color": "#000000"
          },
          "showarrow": false,
          "text": "62",
          "x": 1.55,
          "xanchor": "left",
          "xref": "x",
          "y": 2,
          "yref": "y"
         },
         {
          "align": "left",
          "font": {
           "color": "#000000"
          },
          "showarrow": false,
          "text": "60",
          "x": 2.55,
          "xanchor": "left",
          "xref": "x",
          "y": 2,
          "yref": "y"
         },
         {
          "align": "left",
          "font": {
           "color": "#000000"
          },
          "showarrow": false,
          "text": "3",
          "x": 3.55,
          "xanchor": "left",
          "xref": "x",
          "y": 2,
          "yref": "y"
         },
         {
          "align": "left",
          "font": {
           "color": "#000000"
          },
          "showarrow": false,
          "text": "São Paulo",
          "x": -0.45,
          "xanchor": "left",
          "xref": "x",
          "y": 3,
          "yref": "y"
         },
         {
          "align": "left",
          "font": {
           "color": "#000000"
          },
          "showarrow": false,
          "text": "6",
          "x": 0.55,
          "xanchor": "left",
          "xref": "x",
          "y": 3,
          "yref": "y"
         },
         {
          "align": "left",
          "font": {
           "color": "#000000"
          },
          "showarrow": false,
          "text": "45",
          "x": 1.55,
          "xanchor": "left",
          "xref": "x",
          "y": 3,
          "yref": "y"
         },
         {
          "align": "left",
          "font": {
           "color": "#000000"
          },
          "showarrow": false,
          "text": "65",
          "x": 2.55,
          "xanchor": "left",
          "xref": "x",
          "y": 3,
          "yref": "y"
         },
         {
          "align": "left",
          "font": {
           "color": "#000000"
          },
          "showarrow": false,
          "text": "5",
          "x": 3.55,
          "xanchor": "left",
          "xref": "x",
          "y": 3,
          "yref": "y"
         },
         {
          "align": "left",
          "font": {
           "color": "#000000"
          },
          "showarrow": false,
          "text": "Vitória",
          "x": -0.45,
          "xanchor": "left",
          "xref": "x",
          "y": 4,
          "yref": "y"
         },
         {
          "align": "left",
          "font": {
           "color": "#000000"
          },
          "showarrow": false,
          "text": "5",
          "x": 0.55,
          "xanchor": "left",
          "xref": "x",
          "y": 4,
          "yref": "y"
         },
         {
          "align": "left",
          "font": {
           "color": "#000000"
          },
          "showarrow": false,
          "text": "56",
          "x": 1.55,
          "xanchor": "left",
          "xref": "x",
          "y": 4,
          "yref": "y"
         },
         {
          "align": "left",
          "font": {
           "color": "#000000"
          },
          "showarrow": false,
          "text": "72",
          "x": 2.55,
          "xanchor": "left",
          "xref": "x",
          "y": 4,
          "yref": "y"
         },
         {
          "align": "left",
          "font": {
           "color": "#000000"
          },
          "showarrow": false,
          "text": "4",
          "x": 3.55,
          "xanchor": "left",
          "xref": "x",
          "y": 4,
          "yref": "y"
         },
         {
          "align": "left",
          "font": {
           "color": "#000000"
          },
          "showarrow": false,
          "text": "All",
          "x": -0.45,
          "xanchor": "left",
          "xref": "x",
          "y": 5,
          "yref": "y"
         },
         {
          "align": "left",
          "font": {
           "color": "#000000"
          },
          "showarrow": false,
          "text": "22",
          "x": 0.55,
          "xanchor": "left",
          "xref": "x",
          "y": 5,
          "yref": "y"
         },
         {
          "align": "left",
          "font": {
           "color": "#000000"
          },
          "showarrow": false,
          "text": "202",
          "x": 1.55,
          "xanchor": "left",
          "xref": "x",
          "y": 5,
          "yref": "y"
         },
         {
          "align": "left",
          "font": {
           "color": "#000000"
          },
          "showarrow": false,
          "text": "260",
          "x": 2.55,
          "xanchor": "left",
          "xref": "x",
          "y": 5,
          "yref": "y"
         },
         {
          "align": "left",
          "font": {
           "color": "#000000"
          },
          "showarrow": false,
          "text": "16",
          "x": 3.55,
          "xanchor": "left",
          "xref": "x",
          "y": 5,
          "yref": "y"
         }
        ],
        "height": 230,
        "margin": {
         "b": 0,
         "l": 0,
         "r": 0,
         "t": 0
        },
        "template": {
         "data": {
          "bar": [
           {
            "error_x": {
             "color": "#2a3f5f"
            },
            "error_y": {
             "color": "#2a3f5f"
            },
            "marker": {
             "line": {
              "color": "#E5ECF6",
              "width": 0.5
             },
             "pattern": {
              "fillmode": "overlay",
              "size": 10,
              "solidity": 0.2
             }
            },
            "type": "bar"
           }
          ],
          "barpolar": [
           {
            "marker": {
             "line": {
              "color": "#E5ECF6",
              "width": 0.5
             },
             "pattern": {
              "fillmode": "overlay",
              "size": 10,
              "solidity": 0.2
             }
            },
            "type": "barpolar"
           }
          ],
          "carpet": [
           {
            "aaxis": {
             "endlinecolor": "#2a3f5f",
             "gridcolor": "white",
             "linecolor": "white",
             "minorgridcolor": "white",
             "startlinecolor": "#2a3f5f"
            },
            "baxis": {
             "endlinecolor": "#2a3f5f",
             "gridcolor": "white",
             "linecolor": "white",
             "minorgridcolor": "white",
             "startlinecolor": "#2a3f5f"
            },
            "type": "carpet"
           }
          ],
          "choropleth": [
           {
            "colorbar": {
             "outlinewidth": 0,
             "ticks": ""
            },
            "type": "choropleth"
           }
          ],
          "contour": [
           {
            "colorbar": {
             "outlinewidth": 0,
             "ticks": ""
            },
            "colorscale": [
             [
              0,
              "#0d0887"
             ],
             [
              0.1111111111111111,
              "#46039f"
             ],
             [
              0.2222222222222222,
              "#7201a8"
             ],
             [
              0.3333333333333333,
              "#9c179e"
             ],
             [
              0.4444444444444444,
              "#bd3786"
             ],
             [
              0.5555555555555556,
              "#d8576b"
             ],
             [
              0.6666666666666666,
              "#ed7953"
             ],
             [
              0.7777777777777778,
              "#fb9f3a"
             ],
             [
              0.8888888888888888,
              "#fdca26"
             ],
             [
              1,
              "#f0f921"
             ]
            ],
            "type": "contour"
           }
          ],
          "contourcarpet": [
           {
            "colorbar": {
             "outlinewidth": 0,
             "ticks": ""
            },
            "type": "contourcarpet"
           }
          ],
          "heatmap": [
           {
            "colorbar": {
             "outlinewidth": 0,
             "ticks": ""
            },
            "colorscale": [
             [
              0,
              "#0d0887"
             ],
             [
              0.1111111111111111,
              "#46039f"
             ],
             [
              0.2222222222222222,
              "#7201a8"
             ],
             [
              0.3333333333333333,
              "#9c179e"
             ],
             [
              0.4444444444444444,
              "#bd3786"
             ],
             [
              0.5555555555555556,
              "#d8576b"
             ],
             [
              0.6666666666666666,
              "#ed7953"
             ],
             [
              0.7777777777777778,
              "#fb9f3a"
             ],
             [
              0.8888888888888888,
              "#fdca26"
             ],
             [
              1,
              "#f0f921"
             ]
            ],
            "type": "heatmap"
           }
          ],
          "histogram": [
           {
            "marker": {
             "pattern": {
              "fillmode": "overlay",
              "size": 10,
              "solidity": 0.2
             }
            },
            "type": "histogram"
           }
          ],
          "histogram2d": [
           {
            "colorbar": {
             "outlinewidth": 0,
             "ticks": ""
            },
            "colorscale": [
             [
              0,
              "#0d0887"
             ],
             [
              0.1111111111111111,
              "#46039f"
             ],
             [
              0.2222222222222222,
              "#7201a8"
             ],
             [
              0.3333333333333333,
              "#9c179e"
             ],
             [
              0.4444444444444444,
              "#bd3786"
             ],
             [
              0.5555555555555556,
              "#d8576b"
             ],
             [
              0.6666666666666666,
              "#ed7953"
             ],
             [
              0.7777777777777778,
              "#fb9f3a"
             ],
             [
              0.8888888888888888,
              "#fdca26"
             ],
             [
              1,
              "#f0f921"
             ]
            ],
            "type": "histogram2d"
           }
          ],
          "histogram2dcontour": [
           {
            "colorbar": {
             "outlinewidth": 0,
             "ticks": ""
            },
            "colorscale": [
             [
              0,
              "#0d0887"
             ],
             [
              0.1111111111111111,
              "#46039f"
             ],
             [
              0.2222222222222222,
              "#7201a8"
             ],
             [
              0.3333333333333333,
              "#9c179e"
             ],
             [
              0.4444444444444444,
              "#bd3786"
             ],
             [
              0.5555555555555556,
              "#d8576b"
             ],
             [
              0.6666666666666666,
              "#ed7953"
             ],
             [
              0.7777777777777778,
              "#fb9f3a"
             ],
             [
              0.8888888888888888,
              "#fdca26"
             ],
             [
              1,
              "#f0f921"
             ]
            ],
            "type": "histogram2dcontour"
           }
          ],
          "mesh3d": [
           {
            "colorbar": {
             "outlinewidth": 0,
             "ticks": ""
            },
            "type": "mesh3d"
           }
          ],
          "parcoords": [
           {
            "line": {
             "colorbar": {
              "outlinewidth": 0,
              "ticks": ""
             }
            },
            "type": "parcoords"
           }
          ],
          "pie": [
           {
            "automargin": true,
            "type": "pie"
           }
          ],
          "scatter": [
           {
            "fillpattern": {
             "fillmode": "overlay",
             "size": 10,
             "solidity": 0.2
            },
            "type": "scatter"
           }
          ],
          "scatter3d": [
           {
            "line": {
             "colorbar": {
              "outlinewidth": 0,
              "ticks": ""
             }
            },
            "marker": {
             "colorbar": {
              "outlinewidth": 0,
              "ticks": ""
             }
            },
            "type": "scatter3d"
           }
          ],
          "scattercarpet": [
           {
            "marker": {
             "colorbar": {
              "outlinewidth": 0,
              "ticks": ""
             }
            },
            "type": "scattercarpet"
           }
          ],
          "scattergeo": [
           {
            "marker": {
             "colorbar": {
              "outlinewidth": 0,
              "ticks": ""
             }
            },
            "type": "scattergeo"
           }
          ],
          "scattergl": [
           {
            "marker": {
             "colorbar": {
              "outlinewidth": 0,
              "ticks": ""
             }
            },
            "type": "scattergl"
           }
          ],
          "scattermap": [
           {
            "marker": {
             "colorbar": {
              "outlinewidth": 0,
              "ticks": ""
             }
            },
            "type": "scattermap"
           }
          ],
          "scattermapbox": [
           {
            "marker": {
             "colorbar": {
              "outlinewidth": 0,
              "ticks": ""
             }
            },
            "type": "scattermapbox"
           }
          ],
          "scatterpolar": [
           {
            "marker": {
             "colorbar": {
              "outlinewidth": 0,
              "ticks": ""
             }
            },
            "type": "scatterpolar"
           }
          ],
          "scatterpolargl": [
           {
            "marker": {
             "colorbar": {
              "outlinewidth": 0,
              "ticks": ""
             }
            },
            "type": "scatterpolargl"
           }
          ],
          "scatterternary": [
           {
            "marker": {
             "colorbar": {
              "outlinewidth": 0,
              "ticks": ""
             }
            },
            "type": "scatterternary"
           }
          ],
          "surface": [
           {
            "colorbar": {
             "outlinewidth": 0,
             "ticks": ""
            },
            "colorscale": [
             [
              0,
              "#0d0887"
             ],
             [
              0.1111111111111111,
              "#46039f"
             ],
             [
              0.2222222222222222,
              "#7201a8"
             ],
             [
              0.3333333333333333,
              "#9c179e"
             ],
             [
              0.4444444444444444,
              "#bd3786"
             ],
             [
              0.5555555555555556,
              "#d8576b"
             ],
             [
              0.6666666666666666,
              "#ed7953"
             ],
             [
              0.7777777777777778,
              "#fb9f3a"
             ],
             [
              0.8888888888888888,
              "#fdca26"
             ],
             [
              1,
              "#f0f921"
             ]
            ],
            "type": "surface"
           }
          ],
          "table": [
           {
            "cells": {
             "fill": {
              "color": "#EBF0F8"
             },
             "line": {
              "color": "white"
             }
            },
            "header": {
             "fill": {
              "color": "#C8D4E3"
             },
             "line": {
              "color": "white"
             }
            },
            "type": "table"
           }
          ]
         },
         "layout": {
          "annotationdefaults": {
           "arrowcolor": "#2a3f5f",
           "arrowhead": 0,
           "arrowwidth": 1
          },
          "autotypenumbers": "strict",
          "coloraxis": {
           "colorbar": {
            "outlinewidth": 0,
            "ticks": ""
           }
          },
          "colorscale": {
           "diverging": [
            [
             0,
             "#8e0152"
            ],
            [
             0.1,
             "#c51b7d"
            ],
            [
             0.2,
             "#de77ae"
            ],
            [
             0.3,
             "#f1b6da"
            ],
            [
             0.4,
             "#fde0ef"
            ],
            [
             0.5,
             "#f7f7f7"
            ],
            [
             0.6,
             "#e6f5d0"
            ],
            [
             0.7,
             "#b8e186"
            ],
            [
             0.8,
             "#7fbc41"
            ],
            [
             0.9,
             "#4d9221"
            ],
            [
             1,
             "#276419"
            ]
           ],
           "sequential": [
            [
             0,
             "#0d0887"
            ],
            [
             0.1111111111111111,
             "#46039f"
            ],
            [
             0.2222222222222222,
             "#7201a8"
            ],
            [
             0.3333333333333333,
             "#9c179e"
            ],
            [
             0.4444444444444444,
             "#bd3786"
            ],
            [
             0.5555555555555556,
             "#d8576b"
            ],
            [
             0.6666666666666666,
             "#ed7953"
            ],
            [
             0.7777777777777778,
             "#fb9f3a"
            ],
            [
             0.8888888888888888,
             "#fdca26"
            ],
            [
             1,
             "#f0f921"
            ]
           ],
           "sequentialminus": [
            [
             0,
             "#0d0887"
            ],
            [
             0.1111111111111111,
             "#46039f"
            ],
            [
             0.2222222222222222,
             "#7201a8"
            ],
            [
             0.3333333333333333,
             "#9c179e"
            ],
            [
             0.4444444444444444,
             "#bd3786"
            ],
            [
             0.5555555555555556,
             "#d8576b"
            ],
            [
             0.6666666666666666,
             "#ed7953"
            ],
            [
             0.7777777777777778,
             "#fb9f3a"
            ],
            [
             0.8888888888888888,
             "#fdca26"
            ],
            [
             1,
             "#f0f921"
            ]
           ]
          },
          "colorway": [
           "#636efa",
           "#EF553B",
           "#00cc96",
           "#ab63fa",
           "#FFA15A",
           "#19d3f3",
           "#FF6692",
           "#B6E880",
           "#FF97FF",
           "#FECB52"
          ],
          "font": {
           "color": "#2a3f5f"
          },
          "geo": {
           "bgcolor": "white",
           "lakecolor": "white",
           "landcolor": "#E5ECF6",
           "showlakes": true,
           "showland": true,
           "subunitcolor": "white"
          },
          "hoverlabel": {
           "align": "left"
          },
          "hovermode": "closest",
          "mapbox": {
           "style": "light"
          },
          "paper_bgcolor": "white",
          "plot_bgcolor": "#E5ECF6",
          "polar": {
           "angularaxis": {
            "gridcolor": "white",
            "linecolor": "white",
            "ticks": ""
           },
           "bgcolor": "#E5ECF6",
           "radialaxis": {
            "gridcolor": "white",
            "linecolor": "white",
            "ticks": ""
           }
          },
          "scene": {
           "xaxis": {
            "backgroundcolor": "#E5ECF6",
            "gridcolor": "white",
            "gridwidth": 2,
            "linecolor": "white",
            "showbackground": true,
            "ticks": "",
            "zerolinecolor": "white"
           },
           "yaxis": {
            "backgroundcolor": "#E5ECF6",
            "gridcolor": "white",
            "gridwidth": 2,
            "linecolor": "white",
            "showbackground": true,
            "ticks": "",
            "zerolinecolor": "white"
           },
           "zaxis": {
            "backgroundcolor": "#E5ECF6",
            "gridcolor": "white",
            "gridwidth": 2,
            "linecolor": "white",
            "showbackground": true,
            "ticks": "",
            "zerolinecolor": "white"
           }
          },
          "shapedefaults": {
           "line": {
            "color": "#2a3f5f"
           }
          },
          "ternary": {
           "aaxis": {
            "gridcolor": "white",
            "linecolor": "white",
            "ticks": ""
           },
           "baxis": {
            "gridcolor": "white",
            "linecolor": "white",
            "ticks": ""
           },
           "bgcolor": "#E5ECF6",
           "caxis": {
            "gridcolor": "white",
            "linecolor": "white",
            "ticks": ""
           }
          },
          "title": {
           "x": 0.05
          },
          "xaxis": {
           "automargin": true,
           "gridcolor": "white",
           "linecolor": "white",
           "ticks": "",
           "title": {
            "standoff": 15
           },
           "zerolinecolor": "white",
           "zerolinewidth": 2
          },
          "yaxis": {
           "automargin": true,
           "gridcolor": "white",
           "linecolor": "white",
           "ticks": "",
           "title": {
            "standoff": 15
           },
           "zerolinecolor": "white",
           "zerolinewidth": 2
          }
         }
        },
        "xaxis": {
         "dtick": 1,
         "gridwidth": 2,
         "showticklabels": false,
         "tick0": -0.5,
         "ticks": "",
         "zeroline": false
        },
        "yaxis": {
         "autorange": "reversed",
         "dtick": 1,
         "gridwidth": 2,
         "showticklabels": false,
         "tick0": 0.5,
         "ticks": "",
         "zeroline": false
        }
       }
      }
     },
     "metadata": {},
     "output_type": "display_data"
    }
   ],
   "source": [
    "# Tabela de contingência entre localização e Target (segmento de cliente)\n",
    "crosstab_localizacao = pd.crosstab(df_segmento['localizacao'], \n",
    "                                   df_segmento['segmento_de_cliente'],\n",
    "                                     margins=True)[lista_segmentos].reset_index()\n",
    "\n",
    "tabela_localizacao = ff.create_table(crosstab_localizacao)\n",
    "#mostrar a crosstab\n",
    "tabela_localizacao.show()"
   ]
  },
  {
   "cell_type": "code",
   "execution_count": 74,
   "metadata": {},
   "outputs": [
    {
     "data": {
      "application/vnd.plotly.v1+json": {
       "config": {
        "plotlyServerURL": "https://plot.ly"
       },
       "data": [
        {
         "colorscale": [
          [
           0,
           "#00083e"
          ],
          [
           0.5,
           "#ededee"
          ],
          [
           1,
           "#ffffff"
          ]
         ],
         "hoverinfo": "none",
         "opacity": 0.75,
         "showscale": false,
         "type": "heatmap",
         "z": [
          [
           0,
           0,
           0,
           0,
           0
          ],
          [
           0.5,
           0.5,
           0.5,
           0.5,
           0.5
          ],
          [
           1,
           1,
           1,
           1,
           1
          ],
          [
           0.5,
           0.5,
           0.5,
           0.5,
           0.5
          ],
          [
           1,
           1,
           1,
           1,
           1
          ],
          [
           0.5,
           0.5,
           0.5,
           0.5,
           0.5
          ]
         ]
        }
       ],
       "layout": {
        "annotations": [
         {
          "align": "left",
          "font": {
           "color": "#ffffff"
          },
          "showarrow": false,
          "text": "<b>atividade_economica</b>",
          "x": -0.45,
          "xanchor": "left",
          "xref": "x",
          "y": 0,
          "yref": "y"
         },
         {
          "align": "left",
          "font": {
           "color": "#ffffff"
          },
          "showarrow": false,
          "text": "<b>Starter</b>",
          "x": 0.55,
          "xanchor": "left",
          "xref": "x",
          "y": 0,
          "yref": "y"
         },
         {
          "align": "left",
          "font": {
           "color": "#ffffff"
          },
          "showarrow": false,
          "text": "<b>Bronze</b>",
          "x": 1.55,
          "xanchor": "left",
          "xref": "x",
          "y": 0,
          "yref": "y"
         },
         {
          "align": "left",
          "font": {
           "color": "#ffffff"
          },
          "showarrow": false,
          "text": "<b>Silver</b>",
          "x": 2.55,
          "xanchor": "left",
          "xref": "x",
          "y": 0,
          "yref": "y"
         },
         {
          "align": "left",
          "font": {
           "color": "#ffffff"
          },
          "showarrow": false,
          "text": "<b>Gold</b>",
          "x": 3.55,
          "xanchor": "left",
          "xref": "x",
          "y": 0,
          "yref": "y"
         },
         {
          "align": "left",
          "font": {
           "color": "#000000"
          },
          "showarrow": false,
          "text": "Agronegócio",
          "x": -0.45,
          "xanchor": "left",
          "xref": "x",
          "y": 1,
          "yref": "y"
         },
         {
          "align": "left",
          "font": {
           "color": "#000000"
          },
          "showarrow": false,
          "text": "7",
          "x": 0.55,
          "xanchor": "left",
          "xref": "x",
          "y": 1,
          "yref": "y"
         },
         {
          "align": "left",
          "font": {
           "color": "#000000"
          },
          "showarrow": false,
          "text": "47",
          "x": 1.55,
          "xanchor": "left",
          "xref": "x",
          "y": 1,
          "yref": "y"
         },
         {
          "align": "left",
          "font": {
           "color": "#000000"
          },
          "showarrow": false,
          "text": "57",
          "x": 2.55,
          "xanchor": "left",
          "xref": "x",
          "y": 1,
          "yref": "y"
         },
         {
          "align": "left",
          "font": {
           "color": "#000000"
          },
          "showarrow": false,
          "text": "7",
          "x": 3.55,
          "xanchor": "left",
          "xref": "x",
          "y": 1,
          "yref": "y"
         },
         {
          "align": "left",
          "font": {
           "color": "#000000"
          },
          "showarrow": false,
          "text": "Comércio",
          "x": -0.45,
          "xanchor": "left",
          "xref": "x",
          "y": 2,
          "yref": "y"
         },
         {
          "align": "left",
          "font": {
           "color": "#000000"
          },
          "showarrow": false,
          "text": "3",
          "x": 0.55,
          "xanchor": "left",
          "xref": "x",
          "y": 2,
          "yref": "y"
         },
         {
          "align": "left",
          "font": {
           "color": "#000000"
          },
          "showarrow": false,
          "text": "56",
          "x": 1.55,
          "xanchor": "left",
          "xref": "x",
          "y": 2,
          "yref": "y"
         },
         {
          "align": "left",
          "font": {
           "color": "#000000"
          },
          "showarrow": false,
          "text": "75",
          "x": 2.55,
          "xanchor": "left",
          "xref": "x",
          "y": 2,
          "yref": "y"
         },
         {
          "align": "left",
          "font": {
           "color": "#000000"
          },
          "showarrow": false,
          "text": "5",
          "x": 3.55,
          "xanchor": "left",
          "xref": "x",
          "y": 2,
          "yref": "y"
         },
         {
          "align": "left",
          "font": {
           "color": "#000000"
          },
          "showarrow": false,
          "text": "Indústria",
          "x": -0.45,
          "xanchor": "left",
          "xref": "x",
          "y": 3,
          "yref": "y"
         },
         {
          "align": "left",
          "font": {
           "color": "#000000"
          },
          "showarrow": false,
          "text": "5",
          "x": 0.55,
          "xanchor": "left",
          "xref": "x",
          "y": 3,
          "yref": "y"
         },
         {
          "align": "left",
          "font": {
           "color": "#000000"
          },
          "showarrow": false,
          "text": "50",
          "x": 1.55,
          "xanchor": "left",
          "xref": "x",
          "y": 3,
          "yref": "y"
         },
         {
          "align": "left",
          "font": {
           "color": "#000000"
          },
          "showarrow": false,
          "text": "63",
          "x": 2.55,
          "xanchor": "left",
          "xref": "x",
          "y": 3,
          "yref": "y"
         },
         {
          "align": "left",
          "font": {
           "color": "#000000"
          },
          "showarrow": false,
          "text": "4",
          "x": 3.55,
          "xanchor": "left",
          "xref": "x",
          "y": 3,
          "yref": "y"
         },
         {
          "align": "left",
          "font": {
           "color": "#000000"
          },
          "showarrow": false,
          "text": "Serviços",
          "x": -0.45,
          "xanchor": "left",
          "xref": "x",
          "y": 4,
          "yref": "y"
         },
         {
          "align": "left",
          "font": {
           "color": "#000000"
          },
          "showarrow": false,
          "text": "7",
          "x": 0.55,
          "xanchor": "left",
          "xref": "x",
          "y": 4,
          "yref": "y"
         },
         {
          "align": "left",
          "font": {
           "color": "#000000"
          },
          "showarrow": false,
          "text": "49",
          "x": 1.55,
          "xanchor": "left",
          "xref": "x",
          "y": 4,
          "yref": "y"
         },
         {
          "align": "left",
          "font": {
           "color": "#000000"
          },
          "showarrow": false,
          "text": "65",
          "x": 2.55,
          "xanchor": "left",
          "xref": "x",
          "y": 4,
          "yref": "y"
         },
         {
          "align": "left",
          "font": {
           "color": "#000000"
          },
          "showarrow": false,
          "text": "0",
          "x": 3.55,
          "xanchor": "left",
          "xref": "x",
          "y": 4,
          "yref": "y"
         },
         {
          "align": "left",
          "font": {
           "color": "#000000"
          },
          "showarrow": false,
          "text": "All",
          "x": -0.45,
          "xanchor": "left",
          "xref": "x",
          "y": 5,
          "yref": "y"
         },
         {
          "align": "left",
          "font": {
           "color": "#000000"
          },
          "showarrow": false,
          "text": "22",
          "x": 0.55,
          "xanchor": "left",
          "xref": "x",
          "y": 5,
          "yref": "y"
         },
         {
          "align": "left",
          "font": {
           "color": "#000000"
          },
          "showarrow": false,
          "text": "202",
          "x": 1.55,
          "xanchor": "left",
          "xref": "x",
          "y": 5,
          "yref": "y"
         },
         {
          "align": "left",
          "font": {
           "color": "#000000"
          },
          "showarrow": false,
          "text": "260",
          "x": 2.55,
          "xanchor": "left",
          "xref": "x",
          "y": 5,
          "yref": "y"
         },
         {
          "align": "left",
          "font": {
           "color": "#000000"
          },
          "showarrow": false,
          "text": "16",
          "x": 3.55,
          "xanchor": "left",
          "xref": "x",
          "y": 5,
          "yref": "y"
         }
        ],
        "height": 230,
        "margin": {
         "b": 0,
         "l": 0,
         "r": 0,
         "t": 0
        },
        "template": {
         "data": {
          "bar": [
           {
            "error_x": {
             "color": "#2a3f5f"
            },
            "error_y": {
             "color": "#2a3f5f"
            },
            "marker": {
             "line": {
              "color": "#E5ECF6",
              "width": 0.5
             },
             "pattern": {
              "fillmode": "overlay",
              "size": 10,
              "solidity": 0.2
             }
            },
            "type": "bar"
           }
          ],
          "barpolar": [
           {
            "marker": {
             "line": {
              "color": "#E5ECF6",
              "width": 0.5
             },
             "pattern": {
              "fillmode": "overlay",
              "size": 10,
              "solidity": 0.2
             }
            },
            "type": "barpolar"
           }
          ],
          "carpet": [
           {
            "aaxis": {
             "endlinecolor": "#2a3f5f",
             "gridcolor": "white",
             "linecolor": "white",
             "minorgridcolor": "white",
             "startlinecolor": "#2a3f5f"
            },
            "baxis": {
             "endlinecolor": "#2a3f5f",
             "gridcolor": "white",
             "linecolor": "white",
             "minorgridcolor": "white",
             "startlinecolor": "#2a3f5f"
            },
            "type": "carpet"
           }
          ],
          "choropleth": [
           {
            "colorbar": {
             "outlinewidth": 0,
             "ticks": ""
            },
            "type": "choropleth"
           }
          ],
          "contour": [
           {
            "colorbar": {
             "outlinewidth": 0,
             "ticks": ""
            },
            "colorscale": [
             [
              0,
              "#0d0887"
             ],
             [
              0.1111111111111111,
              "#46039f"
             ],
             [
              0.2222222222222222,
              "#7201a8"
             ],
             [
              0.3333333333333333,
              "#9c179e"
             ],
             [
              0.4444444444444444,
              "#bd3786"
             ],
             [
              0.5555555555555556,
              "#d8576b"
             ],
             [
              0.6666666666666666,
              "#ed7953"
             ],
             [
              0.7777777777777778,
              "#fb9f3a"
             ],
             [
              0.8888888888888888,
              "#fdca26"
             ],
             [
              1,
              "#f0f921"
             ]
            ],
            "type": "contour"
           }
          ],
          "contourcarpet": [
           {
            "colorbar": {
             "outlinewidth": 0,
             "ticks": ""
            },
            "type": "contourcarpet"
           }
          ],
          "heatmap": [
           {
            "colorbar": {
             "outlinewidth": 0,
             "ticks": ""
            },
            "colorscale": [
             [
              0,
              "#0d0887"
             ],
             [
              0.1111111111111111,
              "#46039f"
             ],
             [
              0.2222222222222222,
              "#7201a8"
             ],
             [
              0.3333333333333333,
              "#9c179e"
             ],
             [
              0.4444444444444444,
              "#bd3786"
             ],
             [
              0.5555555555555556,
              "#d8576b"
             ],
             [
              0.6666666666666666,
              "#ed7953"
             ],
             [
              0.7777777777777778,
              "#fb9f3a"
             ],
             [
              0.8888888888888888,
              "#fdca26"
             ],
             [
              1,
              "#f0f921"
             ]
            ],
            "type": "heatmap"
           }
          ],
          "histogram": [
           {
            "marker": {
             "pattern": {
              "fillmode": "overlay",
              "size": 10,
              "solidity": 0.2
             }
            },
            "type": "histogram"
           }
          ],
          "histogram2d": [
           {
            "colorbar": {
             "outlinewidth": 0,
             "ticks": ""
            },
            "colorscale": [
             [
              0,
              "#0d0887"
             ],
             [
              0.1111111111111111,
              "#46039f"
             ],
             [
              0.2222222222222222,
              "#7201a8"
             ],
             [
              0.3333333333333333,
              "#9c179e"
             ],
             [
              0.4444444444444444,
              "#bd3786"
             ],
             [
              0.5555555555555556,
              "#d8576b"
             ],
             [
              0.6666666666666666,
              "#ed7953"
             ],
             [
              0.7777777777777778,
              "#fb9f3a"
             ],
             [
              0.8888888888888888,
              "#fdca26"
             ],
             [
              1,
              "#f0f921"
             ]
            ],
            "type": "histogram2d"
           }
          ],
          "histogram2dcontour": [
           {
            "colorbar": {
             "outlinewidth": 0,
             "ticks": ""
            },
            "colorscale": [
             [
              0,
              "#0d0887"
             ],
             [
              0.1111111111111111,
              "#46039f"
             ],
             [
              0.2222222222222222,
              "#7201a8"
             ],
             [
              0.3333333333333333,
              "#9c179e"
             ],
             [
              0.4444444444444444,
              "#bd3786"
             ],
             [
              0.5555555555555556,
              "#d8576b"
             ],
             [
              0.6666666666666666,
              "#ed7953"
             ],
             [
              0.7777777777777778,
              "#fb9f3a"
             ],
             [
              0.8888888888888888,
              "#fdca26"
             ],
             [
              1,
              "#f0f921"
             ]
            ],
            "type": "histogram2dcontour"
           }
          ],
          "mesh3d": [
           {
            "colorbar": {
             "outlinewidth": 0,
             "ticks": ""
            },
            "type": "mesh3d"
           }
          ],
          "parcoords": [
           {
            "line": {
             "colorbar": {
              "outlinewidth": 0,
              "ticks": ""
             }
            },
            "type": "parcoords"
           }
          ],
          "pie": [
           {
            "automargin": true,
            "type": "pie"
           }
          ],
          "scatter": [
           {
            "fillpattern": {
             "fillmode": "overlay",
             "size": 10,
             "solidity": 0.2
            },
            "type": "scatter"
           }
          ],
          "scatter3d": [
           {
            "line": {
             "colorbar": {
              "outlinewidth": 0,
              "ticks": ""
             }
            },
            "marker": {
             "colorbar": {
              "outlinewidth": 0,
              "ticks": ""
             }
            },
            "type": "scatter3d"
           }
          ],
          "scattercarpet": [
           {
            "marker": {
             "colorbar": {
              "outlinewidth": 0,
              "ticks": ""
             }
            },
            "type": "scattercarpet"
           }
          ],
          "scattergeo": [
           {
            "marker": {
             "colorbar": {
              "outlinewidth": 0,
              "ticks": ""
             }
            },
            "type": "scattergeo"
           }
          ],
          "scattergl": [
           {
            "marker": {
             "colorbar": {
              "outlinewidth": 0,
              "ticks": ""
             }
            },
            "type": "scattergl"
           }
          ],
          "scattermap": [
           {
            "marker": {
             "colorbar": {
              "outlinewidth": 0,
              "ticks": ""
             }
            },
            "type": "scattermap"
           }
          ],
          "scattermapbox": [
           {
            "marker": {
             "colorbar": {
              "outlinewidth": 0,
              "ticks": ""
             }
            },
            "type": "scattermapbox"
           }
          ],
          "scatterpolar": [
           {
            "marker": {
             "colorbar": {
              "outlinewidth": 0,
              "ticks": ""
             }
            },
            "type": "scatterpolar"
           }
          ],
          "scatterpolargl": [
           {
            "marker": {
             "colorbar": {
              "outlinewidth": 0,
              "ticks": ""
             }
            },
            "type": "scatterpolargl"
           }
          ],
          "scatterternary": [
           {
            "marker": {
             "colorbar": {
              "outlinewidth": 0,
              "ticks": ""
             }
            },
            "type": "scatterternary"
           }
          ],
          "surface": [
           {
            "colorbar": {
             "outlinewidth": 0,
             "ticks": ""
            },
            "colorscale": [
             [
              0,
              "#0d0887"
             ],
             [
              0.1111111111111111,
              "#46039f"
             ],
             [
              0.2222222222222222,
              "#7201a8"
             ],
             [
              0.3333333333333333,
              "#9c179e"
             ],
             [
              0.4444444444444444,
              "#bd3786"
             ],
             [
              0.5555555555555556,
              "#d8576b"
             ],
             [
              0.6666666666666666,
              "#ed7953"
             ],
             [
              0.7777777777777778,
              "#fb9f3a"
             ],
             [
              0.8888888888888888,
              "#fdca26"
             ],
             [
              1,
              "#f0f921"
             ]
            ],
            "type": "surface"
           }
          ],
          "table": [
           {
            "cells": {
             "fill": {
              "color": "#EBF0F8"
             },
             "line": {
              "color": "white"
             }
            },
            "header": {
             "fill": {
              "color": "#C8D4E3"
             },
             "line": {
              "color": "white"
             }
            },
            "type": "table"
           }
          ]
         },
         "layout": {
          "annotationdefaults": {
           "arrowcolor": "#2a3f5f",
           "arrowhead": 0,
           "arrowwidth": 1
          },
          "autotypenumbers": "strict",
          "coloraxis": {
           "colorbar": {
            "outlinewidth": 0,
            "ticks": ""
           }
          },
          "colorscale": {
           "diverging": [
            [
             0,
             "#8e0152"
            ],
            [
             0.1,
             "#c51b7d"
            ],
            [
             0.2,
             "#de77ae"
            ],
            [
             0.3,
             "#f1b6da"
            ],
            [
             0.4,
             "#fde0ef"
            ],
            [
             0.5,
             "#f7f7f7"
            ],
            [
             0.6,
             "#e6f5d0"
            ],
            [
             0.7,
             "#b8e186"
            ],
            [
             0.8,
             "#7fbc41"
            ],
            [
             0.9,
             "#4d9221"
            ],
            [
             1,
             "#276419"
            ]
           ],
           "sequential": [
            [
             0,
             "#0d0887"
            ],
            [
             0.1111111111111111,
             "#46039f"
            ],
            [
             0.2222222222222222,
             "#7201a8"
            ],
            [
             0.3333333333333333,
             "#9c179e"
            ],
            [
             0.4444444444444444,
             "#bd3786"
            ],
            [
             0.5555555555555556,
             "#d8576b"
            ],
            [
             0.6666666666666666,
             "#ed7953"
            ],
            [
             0.7777777777777778,
             "#fb9f3a"
            ],
            [
             0.8888888888888888,
             "#fdca26"
            ],
            [
             1,
             "#f0f921"
            ]
           ],
           "sequentialminus": [
            [
             0,
             "#0d0887"
            ],
            [
             0.1111111111111111,
             "#46039f"
            ],
            [
             0.2222222222222222,
             "#7201a8"
            ],
            [
             0.3333333333333333,
             "#9c179e"
            ],
            [
             0.4444444444444444,
             "#bd3786"
            ],
            [
             0.5555555555555556,
             "#d8576b"
            ],
            [
             0.6666666666666666,
             "#ed7953"
            ],
            [
             0.7777777777777778,
             "#fb9f3a"
            ],
            [
             0.8888888888888888,
             "#fdca26"
            ],
            [
             1,
             "#f0f921"
            ]
           ]
          },
          "colorway": [
           "#636efa",
           "#EF553B",
           "#00cc96",
           "#ab63fa",
           "#FFA15A",
           "#19d3f3",
           "#FF6692",
           "#B6E880",
           "#FF97FF",
           "#FECB52"
          ],
          "font": {
           "color": "#2a3f5f"
          },
          "geo": {
           "bgcolor": "white",
           "lakecolor": "white",
           "landcolor": "#E5ECF6",
           "showlakes": true,
           "showland": true,
           "subunitcolor": "white"
          },
          "hoverlabel": {
           "align": "left"
          },
          "hovermode": "closest",
          "mapbox": {
           "style": "light"
          },
          "paper_bgcolor": "white",
          "plot_bgcolor": "#E5ECF6",
          "polar": {
           "angularaxis": {
            "gridcolor": "white",
            "linecolor": "white",
            "ticks": ""
           },
           "bgcolor": "#E5ECF6",
           "radialaxis": {
            "gridcolor": "white",
            "linecolor": "white",
            "ticks": ""
           }
          },
          "scene": {
           "xaxis": {
            "backgroundcolor": "#E5ECF6",
            "gridcolor": "white",
            "gridwidth": 2,
            "linecolor": "white",
            "showbackground": true,
            "ticks": "",
            "zerolinecolor": "white"
           },
           "yaxis": {
            "backgroundcolor": "#E5ECF6",
            "gridcolor": "white",
            "gridwidth": 2,
            "linecolor": "white",
            "showbackground": true,
            "ticks": "",
            "zerolinecolor": "white"
           },
           "zaxis": {
            "backgroundcolor": "#E5ECF6",
            "gridcolor": "white",
            "gridwidth": 2,
            "linecolor": "white",
            "showbackground": true,
            "ticks": "",
            "zerolinecolor": "white"
           }
          },
          "shapedefaults": {
           "line": {
            "color": "#2a3f5f"
           }
          },
          "ternary": {
           "aaxis": {
            "gridcolor": "white",
            "linecolor": "white",
            "ticks": ""
           },
           "baxis": {
            "gridcolor": "white",
            "linecolor": "white",
            "ticks": ""
           },
           "bgcolor": "#E5ECF6",
           "caxis": {
            "gridcolor": "white",
            "linecolor": "white",
            "ticks": ""
           }
          },
          "title": {
           "x": 0.05
          },
          "xaxis": {
           "automargin": true,
           "gridcolor": "white",
           "linecolor": "white",
           "ticks": "",
           "title": {
            "standoff": 15
           },
           "zerolinecolor": "white",
           "zerolinewidth": 2
          },
          "yaxis": {
           "automargin": true,
           "gridcolor": "white",
           "linecolor": "white",
           "ticks": "",
           "title": {
            "standoff": 15
           },
           "zerolinecolor": "white",
           "zerolinewidth": 2
          }
         }
        },
        "xaxis": {
         "dtick": 1,
         "gridwidth": 2,
         "showticklabels": false,
         "tick0": -0.5,
         "ticks": "",
         "zeroline": false
        },
        "yaxis": {
         "autorange": "reversed",
         "dtick": 1,
         "gridwidth": 2,
         "showticklabels": false,
         "tick0": 0.5,
         "ticks": "",
         "zeroline": false
        }
       }
      }
     },
     "metadata": {},
     "output_type": "display_data"
    }
   ],
   "source": [
    "# Tabela de contingência entre atividade economica e Target (segmento de cliente)\n",
    "crosstab_atividade = pd.crosstab(df_segmento['atividade_economica'], \n",
    "                                 df_segmento['segmento_de_cliente'], \n",
    "                                 margins=True)[lista_segmentos].reset_index()\n",
    "\n",
    "tabela_atividade = ff.create_table(crosstab_atividade)\n",
    "#mostrar a crosstab\n",
    "tabela_atividade.show()"
   ]
  },
  {
   "cell_type": "code",
   "execution_count": 75,
   "metadata": {},
   "outputs": [
    {
     "data": {
      "application/vnd.plotly.v1+json": {
       "config": {
        "plotlyServerURL": "https://plot.ly"
       },
       "data": [
        {
         "colorscale": [
          [
           0,
           "#00083e"
          ],
          [
           0.5,
           "#ededee"
          ],
          [
           1,
           "#ffffff"
          ]
         ],
         "hoverinfo": "none",
         "opacity": 0.75,
         "showscale": false,
         "type": "heatmap",
         "z": [
          [
           0,
           0,
           0,
           0,
           0
          ],
          [
           0.5,
           0.5,
           0.5,
           0.5,
           0.5
          ],
          [
           1,
           1,
           1,
           1,
           1
          ],
          [
           0.5,
           0.5,
           0.5,
           0.5,
           0.5
          ],
          [
           1,
           1,
           1,
           1,
           1
          ],
          [
           0.5,
           0.5,
           0.5,
           0.5,
           0.5
          ],
          [
           1,
           1,
           1,
           1,
           1
          ],
          [
           0.5,
           0.5,
           0.5,
           0.5,
           0.5
          ],
          [
           1,
           1,
           1,
           1,
           1
          ],
          [
           0.5,
           0.5,
           0.5,
           0.5,
           0.5
          ],
          [
           1,
           1,
           1,
           1,
           1
          ],
          [
           0.5,
           0.5,
           0.5,
           0.5,
           0.5
          ]
         ]
        }
       ],
       "layout": {
        "annotations": [
         {
          "align": "left",
          "font": {
           "color": "#ffffff"
          },
          "showarrow": false,
          "text": "<b>inovacao</b>",
          "x": -0.45,
          "xanchor": "left",
          "xref": "x",
          "y": 0,
          "yref": "y"
         },
         {
          "align": "left",
          "font": {
           "color": "#ffffff"
          },
          "showarrow": false,
          "text": "<b>Starter</b>",
          "x": 0.55,
          "xanchor": "left",
          "xref": "x",
          "y": 0,
          "yref": "y"
         },
         {
          "align": "left",
          "font": {
           "color": "#ffffff"
          },
          "showarrow": false,
          "text": "<b>Bronze</b>",
          "x": 1.55,
          "xanchor": "left",
          "xref": "x",
          "y": 0,
          "yref": "y"
         },
         {
          "align": "left",
          "font": {
           "color": "#ffffff"
          },
          "showarrow": false,
          "text": "<b>Silver</b>",
          "x": 2.55,
          "xanchor": "left",
          "xref": "x",
          "y": 0,
          "yref": "y"
         },
         {
          "align": "left",
          "font": {
           "color": "#ffffff"
          },
          "showarrow": false,
          "text": "<b>Gold</b>",
          "x": 3.55,
          "xanchor": "left",
          "xref": "x",
          "y": 0,
          "yref": "y"
         },
         {
          "align": "left",
          "font": {
           "color": "#000000"
          },
          "showarrow": false,
          "text": "0",
          "x": -0.45,
          "xanchor": "left",
          "xref": "x",
          "y": 1,
          "yref": "y"
         },
         {
          "align": "left",
          "font": {
           "color": "#000000"
          },
          "showarrow": false,
          "text": "6",
          "x": 0.55,
          "xanchor": "left",
          "xref": "x",
          "y": 1,
          "yref": "y"
         },
         {
          "align": "left",
          "font": {
           "color": "#000000"
          },
          "showarrow": false,
          "text": "36",
          "x": 1.55,
          "xanchor": "left",
          "xref": "x",
          "y": 1,
          "yref": "y"
         },
         {
          "align": "left",
          "font": {
           "color": "#000000"
          },
          "showarrow": false,
          "text": "10",
          "x": 2.55,
          "xanchor": "left",
          "xref": "x",
          "y": 1,
          "yref": "y"
         },
         {
          "align": "left",
          "font": {
           "color": "#000000"
          },
          "showarrow": false,
          "text": "0",
          "x": 3.55,
          "xanchor": "left",
          "xref": "x",
          "y": 1,
          "yref": "y"
         },
         {
          "align": "left",
          "font": {
           "color": "#000000"
          },
          "showarrow": false,
          "text": "1",
          "x": -0.45,
          "xanchor": "left",
          "xref": "x",
          "y": 2,
          "yref": "y"
         },
         {
          "align": "left",
          "font": {
           "color": "#000000"
          },
          "showarrow": false,
          "text": "8",
          "x": 0.55,
          "xanchor": "left",
          "xref": "x",
          "y": 2,
          "yref": "y"
         },
         {
          "align": "left",
          "font": {
           "color": "#000000"
          },
          "showarrow": false,
          "text": "44",
          "x": 1.55,
          "xanchor": "left",
          "xref": "x",
          "y": 2,
          "yref": "y"
         },
         {
          "align": "left",
          "font": {
           "color": "#000000"
          },
          "showarrow": false,
          "text": "5",
          "x": 2.55,
          "xanchor": "left",
          "xref": "x",
          "y": 2,
          "yref": "y"
         },
         {
          "align": "left",
          "font": {
           "color": "#000000"
          },
          "showarrow": false,
          "text": "0",
          "x": 3.55,
          "xanchor": "left",
          "xref": "x",
          "y": 2,
          "yref": "y"
         },
         {
          "align": "left",
          "font": {
           "color": "#000000"
          },
          "showarrow": false,
          "text": "2",
          "x": -0.45,
          "xanchor": "left",
          "xref": "x",
          "y": 3,
          "yref": "y"
         },
         {
          "align": "left",
          "font": {
           "color": "#000000"
          },
          "showarrow": false,
          "text": "4",
          "x": 0.55,
          "xanchor": "left",
          "xref": "x",
          "y": 3,
          "yref": "y"
         },
         {
          "align": "left",
          "font": {
           "color": "#000000"
          },
          "showarrow": false,
          "text": "32",
          "x": 1.55,
          "xanchor": "left",
          "xref": "x",
          "y": 3,
          "yref": "y"
         },
         {
          "align": "left",
          "font": {
           "color": "#000000"
          },
          "showarrow": false,
          "text": "20",
          "x": 2.55,
          "xanchor": "left",
          "xref": "x",
          "y": 3,
          "yref": "y"
         },
         {
          "align": "left",
          "font": {
           "color": "#000000"
          },
          "showarrow": false,
          "text": "0",
          "x": 3.55,
          "xanchor": "left",
          "xref": "x",
          "y": 3,
          "yref": "y"
         },
         {
          "align": "left",
          "font": {
           "color": "#000000"
          },
          "showarrow": false,
          "text": "3",
          "x": -0.45,
          "xanchor": "left",
          "xref": "x",
          "y": 4,
          "yref": "y"
         },
         {
          "align": "left",
          "font": {
           "color": "#000000"
          },
          "showarrow": false,
          "text": "1",
          "x": 0.55,
          "xanchor": "left",
          "xref": "x",
          "y": 4,
          "yref": "y"
         },
         {
          "align": "left",
          "font": {
           "color": "#000000"
          },
          "showarrow": false,
          "text": "22",
          "x": 1.55,
          "xanchor": "left",
          "xref": "x",
          "y": 4,
          "yref": "y"
         },
         {
          "align": "left",
          "font": {
           "color": "#000000"
          },
          "showarrow": false,
          "text": "25",
          "x": 2.55,
          "xanchor": "left",
          "xref": "x",
          "y": 4,
          "yref": "y"
         },
         {
          "align": "left",
          "font": {
           "color": "#000000"
          },
          "showarrow": false,
          "text": "0",
          "x": 3.55,
          "xanchor": "left",
          "xref": "x",
          "y": 4,
          "yref": "y"
         },
         {
          "align": "left",
          "font": {
           "color": "#000000"
          },
          "showarrow": false,
          "text": "4",
          "x": -0.45,
          "xanchor": "left",
          "xref": "x",
          "y": 5,
          "yref": "y"
         },
         {
          "align": "left",
          "font": {
           "color": "#000000"
          },
          "showarrow": false,
          "text": "1",
          "x": 0.55,
          "xanchor": "left",
          "xref": "x",
          "y": 5,
          "yref": "y"
         },
         {
          "align": "left",
          "font": {
           "color": "#000000"
          },
          "showarrow": false,
          "text": "12",
          "x": 1.55,
          "xanchor": "left",
          "xref": "x",
          "y": 5,
          "yref": "y"
         },
         {
          "align": "left",
          "font": {
           "color": "#000000"
          },
          "showarrow": false,
          "text": "30",
          "x": 2.55,
          "xanchor": "left",
          "xref": "x",
          "y": 5,
          "yref": "y"
         },
         {
          "align": "left",
          "font": {
           "color": "#000000"
          },
          "showarrow": false,
          "text": "0",
          "x": 3.55,
          "xanchor": "left",
          "xref": "x",
          "y": 5,
          "yref": "y"
         },
         {
          "align": "left",
          "font": {
           "color": "#000000"
          },
          "showarrow": false,
          "text": "5",
          "x": -0.45,
          "xanchor": "left",
          "xref": "x",
          "y": 6,
          "yref": "y"
         },
         {
          "align": "left",
          "font": {
           "color": "#000000"
          },
          "showarrow": false,
          "text": "1",
          "x": 0.55,
          "xanchor": "left",
          "xref": "x",
          "y": 6,
          "yref": "y"
         },
         {
          "align": "left",
          "font": {
           "color": "#000000"
          },
          "showarrow": false,
          "text": "14",
          "x": 1.55,
          "xanchor": "left",
          "xref": "x",
          "y": 6,
          "yref": "y"
         },
         {
          "align": "left",
          "font": {
           "color": "#000000"
          },
          "showarrow": false,
          "text": "25",
          "x": 2.55,
          "xanchor": "left",
          "xref": "x",
          "y": 6,
          "yref": "y"
         },
         {
          "align": "left",
          "font": {
           "color": "#000000"
          },
          "showarrow": false,
          "text": "3",
          "x": 3.55,
          "xanchor": "left",
          "xref": "x",
          "y": 6,
          "yref": "y"
         },
         {
          "align": "left",
          "font": {
           "color": "#000000"
          },
          "showarrow": false,
          "text": "6",
          "x": -0.45,
          "xanchor": "left",
          "xref": "x",
          "y": 7,
          "yref": "y"
         },
         {
          "align": "left",
          "font": {
           "color": "#000000"
          },
          "showarrow": false,
          "text": "1",
          "x": 0.55,
          "xanchor": "left",
          "xref": "x",
          "y": 7,
          "yref": "y"
         },
         {
          "align": "left",
          "font": {
           "color": "#000000"
          },
          "showarrow": false,
          "text": "15",
          "x": 1.55,
          "xanchor": "left",
          "xref": "x",
          "y": 7,
          "yref": "y"
         },
         {
          "align": "left",
          "font": {
           "color": "#000000"
          },
          "showarrow": false,
          "text": "38",
          "x": 2.55,
          "xanchor": "left",
          "xref": "x",
          "y": 7,
          "yref": "y"
         },
         {
          "align": "left",
          "font": {
           "color": "#000000"
          },
          "showarrow": false,
          "text": "0",
          "x": 3.55,
          "xanchor": "left",
          "xref": "x",
          "y": 7,
          "yref": "y"
         },
         {
          "align": "left",
          "font": {
           "color": "#000000"
          },
          "showarrow": false,
          "text": "7",
          "x": -0.45,
          "xanchor": "left",
          "xref": "x",
          "y": 8,
          "yref": "y"
         },
         {
          "align": "left",
          "font": {
           "color": "#000000"
          },
          "showarrow": false,
          "text": "0",
          "x": 0.55,
          "xanchor": "left",
          "xref": "x",
          "y": 8,
          "yref": "y"
         },
         {
          "align": "left",
          "font": {
           "color": "#000000"
          },
          "showarrow": false,
          "text": "12",
          "x": 1.55,
          "xanchor": "left",
          "xref": "x",
          "y": 8,
          "yref": "y"
         },
         {
          "align": "left",
          "font": {
           "color": "#000000"
          },
          "showarrow": false,
          "text": "36",
          "x": 2.55,
          "xanchor": "left",
          "xref": "x",
          "y": 8,
          "yref": "y"
         },
         {
          "align": "left",
          "font": {
           "color": "#000000"
          },
          "showarrow": false,
          "text": "5",
          "x": 3.55,
          "xanchor": "left",
          "xref": "x",
          "y": 8,
          "yref": "y"
         },
         {
          "align": "left",
          "font": {
           "color": "#000000"
          },
          "showarrow": false,
          "text": "8",
          "x": -0.45,
          "xanchor": "left",
          "xref": "x",
          "y": 9,
          "yref": "y"
         },
         {
          "align": "left",
          "font": {
           "color": "#000000"
          },
          "showarrow": false,
          "text": "0",
          "x": 0.55,
          "xanchor": "left",
          "xref": "x",
          "y": 9,
          "yref": "y"
         },
         {
          "align": "left",
          "font": {
           "color": "#000000"
          },
          "showarrow": false,
          "text": "9",
          "x": 1.55,
          "xanchor": "left",
          "xref": "x",
          "y": 9,
          "yref": "y"
         },
         {
          "align": "left",
          "font": {
           "color": "#000000"
          },
          "showarrow": false,
          "text": "34",
          "x": 2.55,
          "xanchor": "left",
          "xref": "x",
          "y": 9,
          "yref": "y"
         },
         {
          "align": "left",
          "font": {
           "color": "#000000"
          },
          "showarrow": false,
          "text": "4",
          "x": 3.55,
          "xanchor": "left",
          "xref": "x",
          "y": 9,
          "yref": "y"
         },
         {
          "align": "left",
          "font": {
           "color": "#000000"
          },
          "showarrow": false,
          "text": "9",
          "x": -0.45,
          "xanchor": "left",
          "xref": "x",
          "y": 10,
          "yref": "y"
         },
         {
          "align": "left",
          "font": {
           "color": "#000000"
          },
          "showarrow": false,
          "text": "0",
          "x": 0.55,
          "xanchor": "left",
          "xref": "x",
          "y": 10,
          "yref": "y"
         },
         {
          "align": "left",
          "font": {
           "color": "#000000"
          },
          "showarrow": false,
          "text": "6",
          "x": 1.55,
          "xanchor": "left",
          "xref": "x",
          "y": 10,
          "yref": "y"
         },
         {
          "align": "left",
          "font": {
           "color": "#000000"
          },
          "showarrow": false,
          "text": "37",
          "x": 2.55,
          "xanchor": "left",
          "xref": "x",
          "y": 10,
          "yref": "y"
         },
         {
          "align": "left",
          "font": {
           "color": "#000000"
          },
          "showarrow": false,
          "text": "4",
          "x": 3.55,
          "xanchor": "left",
          "xref": "x",
          "y": 10,
          "yref": "y"
         },
         {
          "align": "left",
          "font": {
           "color": "#000000"
          },
          "showarrow": false,
          "text": "All",
          "x": -0.45,
          "xanchor": "left",
          "xref": "x",
          "y": 11,
          "yref": "y"
         },
         {
          "align": "left",
          "font": {
           "color": "#000000"
          },
          "showarrow": false,
          "text": "22",
          "x": 0.55,
          "xanchor": "left",
          "xref": "x",
          "y": 11,
          "yref": "y"
         },
         {
          "align": "left",
          "font": {
           "color": "#000000"
          },
          "showarrow": false,
          "text": "202",
          "x": 1.55,
          "xanchor": "left",
          "xref": "x",
          "y": 11,
          "yref": "y"
         },
         {
          "align": "left",
          "font": {
           "color": "#000000"
          },
          "showarrow": false,
          "text": "260",
          "x": 2.55,
          "xanchor": "left",
          "xref": "x",
          "y": 11,
          "yref": "y"
         },
         {
          "align": "left",
          "font": {
           "color": "#000000"
          },
          "showarrow": false,
          "text": "16",
          "x": 3.55,
          "xanchor": "left",
          "xref": "x",
          "y": 11,
          "yref": "y"
         }
        ],
        "height": 410,
        "margin": {
         "b": 0,
         "l": 0,
         "r": 0,
         "t": 0
        },
        "template": {
         "data": {
          "bar": [
           {
            "error_x": {
             "color": "#2a3f5f"
            },
            "error_y": {
             "color": "#2a3f5f"
            },
            "marker": {
             "line": {
              "color": "#E5ECF6",
              "width": 0.5
             },
             "pattern": {
              "fillmode": "overlay",
              "size": 10,
              "solidity": 0.2
             }
            },
            "type": "bar"
           }
          ],
          "barpolar": [
           {
            "marker": {
             "line": {
              "color": "#E5ECF6",
              "width": 0.5
             },
             "pattern": {
              "fillmode": "overlay",
              "size": 10,
              "solidity": 0.2
             }
            },
            "type": "barpolar"
           }
          ],
          "carpet": [
           {
            "aaxis": {
             "endlinecolor": "#2a3f5f",
             "gridcolor": "white",
             "linecolor": "white",
             "minorgridcolor": "white",
             "startlinecolor": "#2a3f5f"
            },
            "baxis": {
             "endlinecolor": "#2a3f5f",
             "gridcolor": "white",
             "linecolor": "white",
             "minorgridcolor": "white",
             "startlinecolor": "#2a3f5f"
            },
            "type": "carpet"
           }
          ],
          "choropleth": [
           {
            "colorbar": {
             "outlinewidth": 0,
             "ticks": ""
            },
            "type": "choropleth"
           }
          ],
          "contour": [
           {
            "colorbar": {
             "outlinewidth": 0,
             "ticks": ""
            },
            "colorscale": [
             [
              0,
              "#0d0887"
             ],
             [
              0.1111111111111111,
              "#46039f"
             ],
             [
              0.2222222222222222,
              "#7201a8"
             ],
             [
              0.3333333333333333,
              "#9c179e"
             ],
             [
              0.4444444444444444,
              "#bd3786"
             ],
             [
              0.5555555555555556,
              "#d8576b"
             ],
             [
              0.6666666666666666,
              "#ed7953"
             ],
             [
              0.7777777777777778,
              "#fb9f3a"
             ],
             [
              0.8888888888888888,
              "#fdca26"
             ],
             [
              1,
              "#f0f921"
             ]
            ],
            "type": "contour"
           }
          ],
          "contourcarpet": [
           {
            "colorbar": {
             "outlinewidth": 0,
             "ticks": ""
            },
            "type": "contourcarpet"
           }
          ],
          "heatmap": [
           {
            "colorbar": {
             "outlinewidth": 0,
             "ticks": ""
            },
            "colorscale": [
             [
              0,
              "#0d0887"
             ],
             [
              0.1111111111111111,
              "#46039f"
             ],
             [
              0.2222222222222222,
              "#7201a8"
             ],
             [
              0.3333333333333333,
              "#9c179e"
             ],
             [
              0.4444444444444444,
              "#bd3786"
             ],
             [
              0.5555555555555556,
              "#d8576b"
             ],
             [
              0.6666666666666666,
              "#ed7953"
             ],
             [
              0.7777777777777778,
              "#fb9f3a"
             ],
             [
              0.8888888888888888,
              "#fdca26"
             ],
             [
              1,
              "#f0f921"
             ]
            ],
            "type": "heatmap"
           }
          ],
          "histogram": [
           {
            "marker": {
             "pattern": {
              "fillmode": "overlay",
              "size": 10,
              "solidity": 0.2
             }
            },
            "type": "histogram"
           }
          ],
          "histogram2d": [
           {
            "colorbar": {
             "outlinewidth": 0,
             "ticks": ""
            },
            "colorscale": [
             [
              0,
              "#0d0887"
             ],
             [
              0.1111111111111111,
              "#46039f"
             ],
             [
              0.2222222222222222,
              "#7201a8"
             ],
             [
              0.3333333333333333,
              "#9c179e"
             ],
             [
              0.4444444444444444,
              "#bd3786"
             ],
             [
              0.5555555555555556,
              "#d8576b"
             ],
             [
              0.6666666666666666,
              "#ed7953"
             ],
             [
              0.7777777777777778,
              "#fb9f3a"
             ],
             [
              0.8888888888888888,
              "#fdca26"
             ],
             [
              1,
              "#f0f921"
             ]
            ],
            "type": "histogram2d"
           }
          ],
          "histogram2dcontour": [
           {
            "colorbar": {
             "outlinewidth": 0,
             "ticks": ""
            },
            "colorscale": [
             [
              0,
              "#0d0887"
             ],
             [
              0.1111111111111111,
              "#46039f"
             ],
             [
              0.2222222222222222,
              "#7201a8"
             ],
             [
              0.3333333333333333,
              "#9c179e"
             ],
             [
              0.4444444444444444,
              "#bd3786"
             ],
             [
              0.5555555555555556,
              "#d8576b"
             ],
             [
              0.6666666666666666,
              "#ed7953"
             ],
             [
              0.7777777777777778,
              "#fb9f3a"
             ],
             [
              0.8888888888888888,
              "#fdca26"
             ],
             [
              1,
              "#f0f921"
             ]
            ],
            "type": "histogram2dcontour"
           }
          ],
          "mesh3d": [
           {
            "colorbar": {
             "outlinewidth": 0,
             "ticks": ""
            },
            "type": "mesh3d"
           }
          ],
          "parcoords": [
           {
            "line": {
             "colorbar": {
              "outlinewidth": 0,
              "ticks": ""
             }
            },
            "type": "parcoords"
           }
          ],
          "pie": [
           {
            "automargin": true,
            "type": "pie"
           }
          ],
          "scatter": [
           {
            "fillpattern": {
             "fillmode": "overlay",
             "size": 10,
             "solidity": 0.2
            },
            "type": "scatter"
           }
          ],
          "scatter3d": [
           {
            "line": {
             "colorbar": {
              "outlinewidth": 0,
              "ticks": ""
             }
            },
            "marker": {
             "colorbar": {
              "outlinewidth": 0,
              "ticks": ""
             }
            },
            "type": "scatter3d"
           }
          ],
          "scattercarpet": [
           {
            "marker": {
             "colorbar": {
              "outlinewidth": 0,
              "ticks": ""
             }
            },
            "type": "scattercarpet"
           }
          ],
          "scattergeo": [
           {
            "marker": {
             "colorbar": {
              "outlinewidth": 0,
              "ticks": ""
             }
            },
            "type": "scattergeo"
           }
          ],
          "scattergl": [
           {
            "marker": {
             "colorbar": {
              "outlinewidth": 0,
              "ticks": ""
             }
            },
            "type": "scattergl"
           }
          ],
          "scattermap": [
           {
            "marker": {
             "colorbar": {
              "outlinewidth": 0,
              "ticks": ""
             }
            },
            "type": "scattermap"
           }
          ],
          "scattermapbox": [
           {
            "marker": {
             "colorbar": {
              "outlinewidth": 0,
              "ticks": ""
             }
            },
            "type": "scattermapbox"
           }
          ],
          "scatterpolar": [
           {
            "marker": {
             "colorbar": {
              "outlinewidth": 0,
              "ticks": ""
             }
            },
            "type": "scatterpolar"
           }
          ],
          "scatterpolargl": [
           {
            "marker": {
             "colorbar": {
              "outlinewidth": 0,
              "ticks": ""
             }
            },
            "type": "scatterpolargl"
           }
          ],
          "scatterternary": [
           {
            "marker": {
             "colorbar": {
              "outlinewidth": 0,
              "ticks": ""
             }
            },
            "type": "scatterternary"
           }
          ],
          "surface": [
           {
            "colorbar": {
             "outlinewidth": 0,
             "ticks": ""
            },
            "colorscale": [
             [
              0,
              "#0d0887"
             ],
             [
              0.1111111111111111,
              "#46039f"
             ],
             [
              0.2222222222222222,
              "#7201a8"
             ],
             [
              0.3333333333333333,
              "#9c179e"
             ],
             [
              0.4444444444444444,
              "#bd3786"
             ],
             [
              0.5555555555555556,
              "#d8576b"
             ],
             [
              0.6666666666666666,
              "#ed7953"
             ],
             [
              0.7777777777777778,
              "#fb9f3a"
             ],
             [
              0.8888888888888888,
              "#fdca26"
             ],
             [
              1,
              "#f0f921"
             ]
            ],
            "type": "surface"
           }
          ],
          "table": [
           {
            "cells": {
             "fill": {
              "color": "#EBF0F8"
             },
             "line": {
              "color": "white"
             }
            },
            "header": {
             "fill": {
              "color": "#C8D4E3"
             },
             "line": {
              "color": "white"
             }
            },
            "type": "table"
           }
          ]
         },
         "layout": {
          "annotationdefaults": {
           "arrowcolor": "#2a3f5f",
           "arrowhead": 0,
           "arrowwidth": 1
          },
          "autotypenumbers": "strict",
          "coloraxis": {
           "colorbar": {
            "outlinewidth": 0,
            "ticks": ""
           }
          },
          "colorscale": {
           "diverging": [
            [
             0,
             "#8e0152"
            ],
            [
             0.1,
             "#c51b7d"
            ],
            [
             0.2,
             "#de77ae"
            ],
            [
             0.3,
             "#f1b6da"
            ],
            [
             0.4,
             "#fde0ef"
            ],
            [
             0.5,
             "#f7f7f7"
            ],
            [
             0.6,
             "#e6f5d0"
            ],
            [
             0.7,
             "#b8e186"
            ],
            [
             0.8,
             "#7fbc41"
            ],
            [
             0.9,
             "#4d9221"
            ],
            [
             1,
             "#276419"
            ]
           ],
           "sequential": [
            [
             0,
             "#0d0887"
            ],
            [
             0.1111111111111111,
             "#46039f"
            ],
            [
             0.2222222222222222,
             "#7201a8"
            ],
            [
             0.3333333333333333,
             "#9c179e"
            ],
            [
             0.4444444444444444,
             "#bd3786"
            ],
            [
             0.5555555555555556,
             "#d8576b"
            ],
            [
             0.6666666666666666,
             "#ed7953"
            ],
            [
             0.7777777777777778,
             "#fb9f3a"
            ],
            [
             0.8888888888888888,
             "#fdca26"
            ],
            [
             1,
             "#f0f921"
            ]
           ],
           "sequentialminus": [
            [
             0,
             "#0d0887"
            ],
            [
             0.1111111111111111,
             "#46039f"
            ],
            [
             0.2222222222222222,
             "#7201a8"
            ],
            [
             0.3333333333333333,
             "#9c179e"
            ],
            [
             0.4444444444444444,
             "#bd3786"
            ],
            [
             0.5555555555555556,
             "#d8576b"
            ],
            [
             0.6666666666666666,
             "#ed7953"
            ],
            [
             0.7777777777777778,
             "#fb9f3a"
            ],
            [
             0.8888888888888888,
             "#fdca26"
            ],
            [
             1,
             "#f0f921"
            ]
           ]
          },
          "colorway": [
           "#636efa",
           "#EF553B",
           "#00cc96",
           "#ab63fa",
           "#FFA15A",
           "#19d3f3",
           "#FF6692",
           "#B6E880",
           "#FF97FF",
           "#FECB52"
          ],
          "font": {
           "color": "#2a3f5f"
          },
          "geo": {
           "bgcolor": "white",
           "lakecolor": "white",
           "landcolor": "#E5ECF6",
           "showlakes": true,
           "showland": true,
           "subunitcolor": "white"
          },
          "hoverlabel": {
           "align": "left"
          },
          "hovermode": "closest",
          "mapbox": {
           "style": "light"
          },
          "paper_bgcolor": "white",
          "plot_bgcolor": "#E5ECF6",
          "polar": {
           "angularaxis": {
            "gridcolor": "white",
            "linecolor": "white",
            "ticks": ""
           },
           "bgcolor": "#E5ECF6",
           "radialaxis": {
            "gridcolor": "white",
            "linecolor": "white",
            "ticks": ""
           }
          },
          "scene": {
           "xaxis": {
            "backgroundcolor": "#E5ECF6",
            "gridcolor": "white",
            "gridwidth": 2,
            "linecolor": "white",
            "showbackground": true,
            "ticks": "",
            "zerolinecolor": "white"
           },
           "yaxis": {
            "backgroundcolor": "#E5ECF6",
            "gridcolor": "white",
            "gridwidth": 2,
            "linecolor": "white",
            "showbackground": true,
            "ticks": "",
            "zerolinecolor": "white"
           },
           "zaxis": {
            "backgroundcolor": "#E5ECF6",
            "gridcolor": "white",
            "gridwidth": 2,
            "linecolor": "white",
            "showbackground": true,
            "ticks": "",
            "zerolinecolor": "white"
           }
          },
          "shapedefaults": {
           "line": {
            "color": "#2a3f5f"
           }
          },
          "ternary": {
           "aaxis": {
            "gridcolor": "white",
            "linecolor": "white",
            "ticks": ""
           },
           "baxis": {
            "gridcolor": "white",
            "linecolor": "white",
            "ticks": ""
           },
           "bgcolor": "#E5ECF6",
           "caxis": {
            "gridcolor": "white",
            "linecolor": "white",
            "ticks": ""
           }
          },
          "title": {
           "x": 0.05
          },
          "xaxis": {
           "automargin": true,
           "gridcolor": "white",
           "linecolor": "white",
           "ticks": "",
           "title": {
            "standoff": 15
           },
           "zerolinecolor": "white",
           "zerolinewidth": 2
          },
          "yaxis": {
           "automargin": true,
           "gridcolor": "white",
           "linecolor": "white",
           "ticks": "",
           "title": {
            "standoff": 15
           },
           "zerolinecolor": "white",
           "zerolinewidth": 2
          }
         }
        },
        "xaxis": {
         "dtick": 1,
         "gridwidth": 2,
         "showticklabels": false,
         "tick0": -0.5,
         "ticks": "",
         "zeroline": false
        },
        "yaxis": {
         "autorange": "reversed",
         "dtick": 1,
         "gridwidth": 2,
         "showticklabels": false,
         "tick0": 0.5,
         "ticks": "",
         "zeroline": false
        }
       }
      }
     },
     "metadata": {},
     "output_type": "display_data"
    }
   ],
   "source": [
    "# Tabela de contingência entre inovação e Target (segmento de cliente)\n",
    "crosstab_inovacao = pd.crosstab(df_segmento['inovacao'], \n",
    "                                df_segmento['segmento_de_cliente'], \n",
    "                                margins=True)[lista_segmentos].reset_index()\n",
    "tabela_atividade = ff.create_table(crosstab_inovacao)\n",
    "#mostrar a crosstab\n",
    "tabela_atividade.show()"
   ]
  },
  {
   "cell_type": "code",
   "execution_count": 76,
   "metadata": {},
   "outputs": [
    {
     "data": {
      "application/vnd.plotly.v1+json": {
       "config": {
        "plotlyServerURL": "https://plot.ly"
       },
       "data": [
        {
         "bingroup": "x",
         "hovertemplate": "segmento_de_cliente=Bronze<br>idade=%{x}<br>count=%{y}<extra></extra>",
         "legendgroup": "Bronze",
         "marker": {
          "color": "#636efa",
          "pattern": {
           "shape": ""
          }
         },
         "name": "Bronze",
         "orientation": "v",
         "showlegend": true,
         "type": "histogram",
         "x": {
          "bdata": "Bg8KCQoIDAoHDAMFBg4MCAwMCAkGCQIKDgYNBggKCQwNBw0KCgUIBAsKCQkIDAsQAwcLCQwHEAwHBgUHCw0NDwIFBAcMBwoKBwgFCgQNCQcJBwoGAgkHCAcGCQUEDQYJEAoMCAUFCwkJDAUHDQcLDA8EBw0MCwYHDgcGCQgCDgUKAwkICQYKBggHCQgHCQoICAkPCwYHCAcIDAcLCAcMDgoDCwwGCQgLCg0LCgQICgUHCgULBQsMDwcIBgkLCAYFAQ0HCAkECgYKBA==",
          "dtype": "i1"
         },
         "xaxis": "x",
         "yaxis": "y"
        },
        {
         "bingroup": "x",
         "hovertemplate": "segmento_de_cliente=Silver<br>idade=%{x}<br>count=%{y}<extra></extra>",
         "legendgroup": "Silver",
         "marker": {
          "color": "#EF553B",
          "pattern": {
           "shape": ""
          }
         },
         "name": "Silver",
         "orientation": "v",
         "showlegend": true,
         "type": "histogram",
         "x": {
          "bdata": "BA8LCgkLCQgIDAYQCQ8HCQwHDAwJCwcJBwYNCQkNCgcHCgoICgsNDAkJBAcKCwkHCgwKDwkHBw4MDgoOCQsHCwcLBQgICgoHCgoHCgoLBw0NCwkJDAQLBwgJCAYIBgkLBQwICgcMCgoPCAoMCQgIDAYOCQYMCQsKCAkNCAcMBQ0HBQ0LCAYJBwgKCQgJBwoKCQkLDg0JCAwKDAwJCg0LBxAMBwsLCQYEDgsGCwcMCQkKDAoJCwoMCg0MCgsNCwcICg0IDwsKDAwGBAoICAgMCBALDAoQCwUKCggMDAYICA4NBg0LCAsMCQoPBwoKEAgKCgoEBgsJDwcLCg0ECwsLBQwNCAU=",
          "dtype": "i1"
         },
         "xaxis": "x",
         "yaxis": "y"
        },
        {
         "bingroup": "x",
         "hovertemplate": "segmento_de_cliente=Starter<br>idade=%{x}<br>count=%{y}<extra></extra>",
         "legendgroup": "Starter",
         "marker": {
          "color": "#00cc96",
          "pattern": {
           "shape": ""
          }
         },
         "name": "Starter",
         "orientation": "v",
         "showlegend": true,
         "type": "histogram",
         "x": {
          "bdata": "BgAECAMMCQcDBgwKBgYFBggLCRAHBw==",
          "dtype": "i1"
         },
         "xaxis": "x",
         "yaxis": "y"
        },
        {
         "bingroup": "x",
         "hovertemplate": "segmento_de_cliente=Gold<br>idade=%{x}<br>count=%{y}<extra></extra>",
         "legendgroup": "Gold",
         "marker": {
          "color": "#ab63fa",
          "pattern": {
           "shape": ""
          }
         },
         "name": "Gold",
         "orientation": "v",
         "showlegend": true,
         "type": "histogram",
         "x": {
          "bdata": "DQcLCgoQDQsICQoNCwcNDQ==",
          "dtype": "i1"
         },
         "xaxis": "x",
         "yaxis": "y"
        }
       ],
       "layout": {
        "barmode": "relative",
        "legend": {
         "title": {
          "text": "segmento_de_cliente"
         },
         "tracegroupgap": 0
        },
        "template": {
         "data": {
          "bar": [
           {
            "error_x": {
             "color": "#2a3f5f"
            },
            "error_y": {
             "color": "#2a3f5f"
            },
            "marker": {
             "line": {
              "color": "#E5ECF6",
              "width": 0.5
             },
             "pattern": {
              "fillmode": "overlay",
              "size": 10,
              "solidity": 0.2
             }
            },
            "type": "bar"
           }
          ],
          "barpolar": [
           {
            "marker": {
             "line": {
              "color": "#E5ECF6",
              "width": 0.5
             },
             "pattern": {
              "fillmode": "overlay",
              "size": 10,
              "solidity": 0.2
             }
            },
            "type": "barpolar"
           }
          ],
          "carpet": [
           {
            "aaxis": {
             "endlinecolor": "#2a3f5f",
             "gridcolor": "white",
             "linecolor": "white",
             "minorgridcolor": "white",
             "startlinecolor": "#2a3f5f"
            },
            "baxis": {
             "endlinecolor": "#2a3f5f",
             "gridcolor": "white",
             "linecolor": "white",
             "minorgridcolor": "white",
             "startlinecolor": "#2a3f5f"
            },
            "type": "carpet"
           }
          ],
          "choropleth": [
           {
            "colorbar": {
             "outlinewidth": 0,
             "ticks": ""
            },
            "type": "choropleth"
           }
          ],
          "contour": [
           {
            "colorbar": {
             "outlinewidth": 0,
             "ticks": ""
            },
            "colorscale": [
             [
              0,
              "#0d0887"
             ],
             [
              0.1111111111111111,
              "#46039f"
             ],
             [
              0.2222222222222222,
              "#7201a8"
             ],
             [
              0.3333333333333333,
              "#9c179e"
             ],
             [
              0.4444444444444444,
              "#bd3786"
             ],
             [
              0.5555555555555556,
              "#d8576b"
             ],
             [
              0.6666666666666666,
              "#ed7953"
             ],
             [
              0.7777777777777778,
              "#fb9f3a"
             ],
             [
              0.8888888888888888,
              "#fdca26"
             ],
             [
              1,
              "#f0f921"
             ]
            ],
            "type": "contour"
           }
          ],
          "contourcarpet": [
           {
            "colorbar": {
             "outlinewidth": 0,
             "ticks": ""
            },
            "type": "contourcarpet"
           }
          ],
          "heatmap": [
           {
            "colorbar": {
             "outlinewidth": 0,
             "ticks": ""
            },
            "colorscale": [
             [
              0,
              "#0d0887"
             ],
             [
              0.1111111111111111,
              "#46039f"
             ],
             [
              0.2222222222222222,
              "#7201a8"
             ],
             [
              0.3333333333333333,
              "#9c179e"
             ],
             [
              0.4444444444444444,
              "#bd3786"
             ],
             [
              0.5555555555555556,
              "#d8576b"
             ],
             [
              0.6666666666666666,
              "#ed7953"
             ],
             [
              0.7777777777777778,
              "#fb9f3a"
             ],
             [
              0.8888888888888888,
              "#fdca26"
             ],
             [
              1,
              "#f0f921"
             ]
            ],
            "type": "heatmap"
           }
          ],
          "histogram": [
           {
            "marker": {
             "pattern": {
              "fillmode": "overlay",
              "size": 10,
              "solidity": 0.2
             }
            },
            "type": "histogram"
           }
          ],
          "histogram2d": [
           {
            "colorbar": {
             "outlinewidth": 0,
             "ticks": ""
            },
            "colorscale": [
             [
              0,
              "#0d0887"
             ],
             [
              0.1111111111111111,
              "#46039f"
             ],
             [
              0.2222222222222222,
              "#7201a8"
             ],
             [
              0.3333333333333333,
              "#9c179e"
             ],
             [
              0.4444444444444444,
              "#bd3786"
             ],
             [
              0.5555555555555556,
              "#d8576b"
             ],
             [
              0.6666666666666666,
              "#ed7953"
             ],
             [
              0.7777777777777778,
              "#fb9f3a"
             ],
             [
              0.8888888888888888,
              "#fdca26"
             ],
             [
              1,
              "#f0f921"
             ]
            ],
            "type": "histogram2d"
           }
          ],
          "histogram2dcontour": [
           {
            "colorbar": {
             "outlinewidth": 0,
             "ticks": ""
            },
            "colorscale": [
             [
              0,
              "#0d0887"
             ],
             [
              0.1111111111111111,
              "#46039f"
             ],
             [
              0.2222222222222222,
              "#7201a8"
             ],
             [
              0.3333333333333333,
              "#9c179e"
             ],
             [
              0.4444444444444444,
              "#bd3786"
             ],
             [
              0.5555555555555556,
              "#d8576b"
             ],
             [
              0.6666666666666666,
              "#ed7953"
             ],
             [
              0.7777777777777778,
              "#fb9f3a"
             ],
             [
              0.8888888888888888,
              "#fdca26"
             ],
             [
              1,
              "#f0f921"
             ]
            ],
            "type": "histogram2dcontour"
           }
          ],
          "mesh3d": [
           {
            "colorbar": {
             "outlinewidth": 0,
             "ticks": ""
            },
            "type": "mesh3d"
           }
          ],
          "parcoords": [
           {
            "line": {
             "colorbar": {
              "outlinewidth": 0,
              "ticks": ""
             }
            },
            "type": "parcoords"
           }
          ],
          "pie": [
           {
            "automargin": true,
            "type": "pie"
           }
          ],
          "scatter": [
           {
            "fillpattern": {
             "fillmode": "overlay",
             "size": 10,
             "solidity": 0.2
            },
            "type": "scatter"
           }
          ],
          "scatter3d": [
           {
            "line": {
             "colorbar": {
              "outlinewidth": 0,
              "ticks": ""
             }
            },
            "marker": {
             "colorbar": {
              "outlinewidth": 0,
              "ticks": ""
             }
            },
            "type": "scatter3d"
           }
          ],
          "scattercarpet": [
           {
            "marker": {
             "colorbar": {
              "outlinewidth": 0,
              "ticks": ""
             }
            },
            "type": "scattercarpet"
           }
          ],
          "scattergeo": [
           {
            "marker": {
             "colorbar": {
              "outlinewidth": 0,
              "ticks": ""
             }
            },
            "type": "scattergeo"
           }
          ],
          "scattergl": [
           {
            "marker": {
             "colorbar": {
              "outlinewidth": 0,
              "ticks": ""
             }
            },
            "type": "scattergl"
           }
          ],
          "scattermap": [
           {
            "marker": {
             "colorbar": {
              "outlinewidth": 0,
              "ticks": ""
             }
            },
            "type": "scattermap"
           }
          ],
          "scattermapbox": [
           {
            "marker": {
             "colorbar": {
              "outlinewidth": 0,
              "ticks": ""
             }
            },
            "type": "scattermapbox"
           }
          ],
          "scatterpolar": [
           {
            "marker": {
             "colorbar": {
              "outlinewidth": 0,
              "ticks": ""
             }
            },
            "type": "scatterpolar"
           }
          ],
          "scatterpolargl": [
           {
            "marker": {
             "colorbar": {
              "outlinewidth": 0,
              "ticks": ""
             }
            },
            "type": "scatterpolargl"
           }
          ],
          "scatterternary": [
           {
            "marker": {
             "colorbar": {
              "outlinewidth": 0,
              "ticks": ""
             }
            },
            "type": "scatterternary"
           }
          ],
          "surface": [
           {
            "colorbar": {
             "outlinewidth": 0,
             "ticks": ""
            },
            "colorscale": [
             [
              0,
              "#0d0887"
             ],
             [
              0.1111111111111111,
              "#46039f"
             ],
             [
              0.2222222222222222,
              "#7201a8"
             ],
             [
              0.3333333333333333,
              "#9c179e"
             ],
             [
              0.4444444444444444,
              "#bd3786"
             ],
             [
              0.5555555555555556,
              "#d8576b"
             ],
             [
              0.6666666666666666,
              "#ed7953"
             ],
             [
              0.7777777777777778,
              "#fb9f3a"
             ],
             [
              0.8888888888888888,
              "#fdca26"
             ],
             [
              1,
              "#f0f921"
             ]
            ],
            "type": "surface"
           }
          ],
          "table": [
           {
            "cells": {
             "fill": {
              "color": "#EBF0F8"
             },
             "line": {
              "color": "white"
             }
            },
            "header": {
             "fill": {
              "color": "#C8D4E3"
             },
             "line": {
              "color": "white"
             }
            },
            "type": "table"
           }
          ]
         },
         "layout": {
          "annotationdefaults": {
           "arrowcolor": "#2a3f5f",
           "arrowhead": 0,
           "arrowwidth": 1
          },
          "autotypenumbers": "strict",
          "coloraxis": {
           "colorbar": {
            "outlinewidth": 0,
            "ticks": ""
           }
          },
          "colorscale": {
           "diverging": [
            [
             0,
             "#8e0152"
            ],
            [
             0.1,
             "#c51b7d"
            ],
            [
             0.2,
             "#de77ae"
            ],
            [
             0.3,
             "#f1b6da"
            ],
            [
             0.4,
             "#fde0ef"
            ],
            [
             0.5,
             "#f7f7f7"
            ],
            [
             0.6,
             "#e6f5d0"
            ],
            [
             0.7,
             "#b8e186"
            ],
            [
             0.8,
             "#7fbc41"
            ],
            [
             0.9,
             "#4d9221"
            ],
            [
             1,
             "#276419"
            ]
           ],
           "sequential": [
            [
             0,
             "#0d0887"
            ],
            [
             0.1111111111111111,
             "#46039f"
            ],
            [
             0.2222222222222222,
             "#7201a8"
            ],
            [
             0.3333333333333333,
             "#9c179e"
            ],
            [
             0.4444444444444444,
             "#bd3786"
            ],
            [
             0.5555555555555556,
             "#d8576b"
            ],
            [
             0.6666666666666666,
             "#ed7953"
            ],
            [
             0.7777777777777778,
             "#fb9f3a"
            ],
            [
             0.8888888888888888,
             "#fdca26"
            ],
            [
             1,
             "#f0f921"
            ]
           ],
           "sequentialminus": [
            [
             0,
             "#0d0887"
            ],
            [
             0.1111111111111111,
             "#46039f"
            ],
            [
             0.2222222222222222,
             "#7201a8"
            ],
            [
             0.3333333333333333,
             "#9c179e"
            ],
            [
             0.4444444444444444,
             "#bd3786"
            ],
            [
             0.5555555555555556,
             "#d8576b"
            ],
            [
             0.6666666666666666,
             "#ed7953"
            ],
            [
             0.7777777777777778,
             "#fb9f3a"
            ],
            [
             0.8888888888888888,
             "#fdca26"
            ],
            [
             1,
             "#f0f921"
            ]
           ]
          },
          "colorway": [
           "#636efa",
           "#EF553B",
           "#00cc96",
           "#ab63fa",
           "#FFA15A",
           "#19d3f3",
           "#FF6692",
           "#B6E880",
           "#FF97FF",
           "#FECB52"
          ],
          "font": {
           "color": "#2a3f5f"
          },
          "geo": {
           "bgcolor": "white",
           "lakecolor": "white",
           "landcolor": "#E5ECF6",
           "showlakes": true,
           "showland": true,
           "subunitcolor": "white"
          },
          "hoverlabel": {
           "align": "left"
          },
          "hovermode": "closest",
          "mapbox": {
           "style": "light"
          },
          "paper_bgcolor": "white",
          "plot_bgcolor": "#E5ECF6",
          "polar": {
           "angularaxis": {
            "gridcolor": "white",
            "linecolor": "white",
            "ticks": ""
           },
           "bgcolor": "#E5ECF6",
           "radialaxis": {
            "gridcolor": "white",
            "linecolor": "white",
            "ticks": ""
           }
          },
          "scene": {
           "xaxis": {
            "backgroundcolor": "#E5ECF6",
            "gridcolor": "white",
            "gridwidth": 2,
            "linecolor": "white",
            "showbackground": true,
            "ticks": "",
            "zerolinecolor": "white"
           },
           "yaxis": {
            "backgroundcolor": "#E5ECF6",
            "gridcolor": "white",
            "gridwidth": 2,
            "linecolor": "white",
            "showbackground": true,
            "ticks": "",
            "zerolinecolor": "white"
           },
           "zaxis": {
            "backgroundcolor": "#E5ECF6",
            "gridcolor": "white",
            "gridwidth": 2,
            "linecolor": "white",
            "showbackground": true,
            "ticks": "",
            "zerolinecolor": "white"
           }
          },
          "shapedefaults": {
           "line": {
            "color": "#2a3f5f"
           }
          },
          "ternary": {
           "aaxis": {
            "gridcolor": "white",
            "linecolor": "white",
            "ticks": ""
           },
           "baxis": {
            "gridcolor": "white",
            "linecolor": "white",
            "ticks": ""
           },
           "bgcolor": "#E5ECF6",
           "caxis": {
            "gridcolor": "white",
            "linecolor": "white",
            "ticks": ""
           }
          },
          "title": {
           "x": 0.05
          },
          "xaxis": {
           "automargin": true,
           "gridcolor": "white",
           "linecolor": "white",
           "ticks": "",
           "title": {
            "standoff": 15
           },
           "zerolinecolor": "white",
           "zerolinewidth": 2
          },
          "yaxis": {
           "automargin": true,
           "gridcolor": "white",
           "linecolor": "white",
           "ticks": "",
           "title": {
            "standoff": 15
           },
           "zerolinecolor": "white",
           "zerolinewidth": 2
          }
         }
        },
        "title": {
         "text": "Distribuição da variável idade_empresa"
        },
        "xaxis": {
         "anchor": "y",
         "domain": [
          0,
          1
         ],
         "title": {
          "text": "idade"
         }
        },
        "yaxis": {
         "anchor": "x",
         "domain": [
          0,
          1
         ],
         "title": {
          "text": "count"
         }
        }
       }
      }
     },
     "metadata": {},
     "output_type": "display_data"
    }
   ],
   "source": [
    "# distribuição idade da empresa\n",
    "px.histogram(df_segmento, x='idade', color='segmento_de_cliente', \n",
    "             title='Distribuição da variável idade_empresa')"
   ]
  },
  {
   "cell_type": "code",
   "execution_count": 77,
   "metadata": {},
   "outputs": [
    {
     "data": {
      "application/vnd.plotly.v1+json": {
       "config": {
        "plotlyServerURL": "https://plot.ly"
       },
       "data": [
        {
         "bingroup": "x",
         "hovertemplate": "segmento_de_cliente=Bronze<br>faturamento_mensal=%{x}<br>count=%{y}<extra></extra>",
         "legendgroup": "Bronze",
         "marker": {
          "color": "#636efa",
          "pattern": {
           "shape": ""
          }
         },
         "name": "Bronze",
         "orientation": "v",
         "showlegend": true,
         "type": "histogram",
         "x": {
          "bdata": "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",
          "dtype": "f8"
         },
         "xaxis": "x",
         "yaxis": "y"
        },
        {
         "bingroup": "x",
         "hovertemplate": "segmento_de_cliente=Silver<br>faturamento_mensal=%{x}<br>count=%{y}<extra></extra>",
         "legendgroup": "Silver",
         "marker": {
          "color": "#EF553B",
          "pattern": {
           "shape": ""
          }
         },
         "name": "Silver",
         "orientation": "v",
         "showlegend": true,
         "type": "histogram",
         "x": {
          "bdata": "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",
          "dtype": "f8"
         },
         "xaxis": "x",
         "yaxis": "y"
        },
        {
         "bingroup": "x",
         "hovertemplate": "segmento_de_cliente=Starter<br>faturamento_mensal=%{x}<br>count=%{y}<extra></extra>",
         "legendgroup": "Starter",
         "marker": {
          "color": "#00cc96",
          "pattern": {
           "shape": ""
          }
         },
         "name": "Starter",
         "orientation": "v",
         "showlegend": true,
         "type": "histogram",
         "x": {
          "bdata": "7FG4HodqG0FmZmbm14gnQeF6FK5nU/tA4XoUriscEkH2KFwPUMsiQT0K16MIXPdA9ihcj9ysC0Fcj8L1LKT9QEjhehQhrhZBhetRuM5SFEFI4XoUTv3RQM3MzMysY/lAuB6F6zk1HkGuR+F6lFQFQaRwPQofofRAw/Uo3J0gKUE9CtcjAQAnQa5H4XpwSvNAcT0K19zHKUG4HoXrEfrYQDMzMzO1ahlBFK5H4eRQCkE=",
          "dtype": "f8"
         },
         "xaxis": "x",
         "yaxis": "y"
        },
        {
         "bingroup": "x",
         "hovertemplate": "segmento_de_cliente=Gold<br>faturamento_mensal=%{x}<br>count=%{y}<extra></extra>",
         "legendgroup": "Gold",
         "marker": {
          "color": "#ab63fa",
          "pattern": {
           "shape": ""
          }
         },
         "name": "Gold",
         "orientation": "v",
         "showlegend": true,
         "type": "histogram",
         "x": {
          "bdata": "rkfhumjvMkEAAACAhqQ1QYXrUXiOCTpBCtejMP6HMEG4HoVr19s3QaRwPYqfKzdBKVyPgkZXMEEfhesRA/g3QTMzM/PV3jRBSOF6lA44NkGPwvVoZow9QXsUrgfiBjhBrkfh+h8HPUHXo3D9Qiw7Qc3MzEyscjdB16NwfTKoOUE=",
          "dtype": "f8"
         },
         "xaxis": "x",
         "yaxis": "y"
        }
       ],
       "layout": {
        "barmode": "relative",
        "legend": {
         "title": {
          "text": "segmento_de_cliente"
         },
         "tracegroupgap": 0
        },
        "template": {
         "data": {
          "bar": [
           {
            "error_x": {
             "color": "#2a3f5f"
            },
            "error_y": {
             "color": "#2a3f5f"
            },
            "marker": {
             "line": {
              "color": "#E5ECF6",
              "width": 0.5
             },
             "pattern": {
              "fillmode": "overlay",
              "size": 10,
              "solidity": 0.2
             }
            },
            "type": "bar"
           }
          ],
          "barpolar": [
           {
            "marker": {
             "line": {
              "color": "#E5ECF6",
              "width": 0.5
             },
             "pattern": {
              "fillmode": "overlay",
              "size": 10,
              "solidity": 0.2
             }
            },
            "type": "barpolar"
           }
          ],
          "carpet": [
           {
            "aaxis": {
             "endlinecolor": "#2a3f5f",
             "gridcolor": "white",
             "linecolor": "white",
             "minorgridcolor": "white",
             "startlinecolor": "#2a3f5f"
            },
            "baxis": {
             "endlinecolor": "#2a3f5f",
             "gridcolor": "white",
             "linecolor": "white",
             "minorgridcolor": "white",
             "startlinecolor": "#2a3f5f"
            },
            "type": "carpet"
           }
          ],
          "choropleth": [
           {
            "colorbar": {
             "outlinewidth": 0,
             "ticks": ""
            },
            "type": "choropleth"
           }
          ],
          "contour": [
           {
            "colorbar": {
             "outlinewidth": 0,
             "ticks": ""
            },
            "colorscale": [
             [
              0,
              "#0d0887"
             ],
             [
              0.1111111111111111,
              "#46039f"
             ],
             [
              0.2222222222222222,
              "#7201a8"
             ],
             [
              0.3333333333333333,
              "#9c179e"
             ],
             [
              0.4444444444444444,
              "#bd3786"
             ],
             [
              0.5555555555555556,
              "#d8576b"
             ],
             [
              0.6666666666666666,
              "#ed7953"
             ],
             [
              0.7777777777777778,
              "#fb9f3a"
             ],
             [
              0.8888888888888888,
              "#fdca26"
             ],
             [
              1,
              "#f0f921"
             ]
            ],
            "type": "contour"
           }
          ],
          "contourcarpet": [
           {
            "colorbar": {
             "outlinewidth": 0,
             "ticks": ""
            },
            "type": "contourcarpet"
           }
          ],
          "heatmap": [
           {
            "colorbar": {
             "outlinewidth": 0,
             "ticks": ""
            },
            "colorscale": [
             [
              0,
              "#0d0887"
             ],
             [
              0.1111111111111111,
              "#46039f"
             ],
             [
              0.2222222222222222,
              "#7201a8"
             ],
             [
              0.3333333333333333,
              "#9c179e"
             ],
             [
              0.4444444444444444,
              "#bd3786"
             ],
             [
              0.5555555555555556,
              "#d8576b"
             ],
             [
              0.6666666666666666,
              "#ed7953"
             ],
             [
              0.7777777777777778,
              "#fb9f3a"
             ],
             [
              0.8888888888888888,
              "#fdca26"
             ],
             [
              1,
              "#f0f921"
             ]
            ],
            "type": "heatmap"
           }
          ],
          "histogram": [
           {
            "marker": {
             "pattern": {
              "fillmode": "overlay",
              "size": 10,
              "solidity": 0.2
             }
            },
            "type": "histogram"
           }
          ],
          "histogram2d": [
           {
            "colorbar": {
             "outlinewidth": 0,
             "ticks": ""
            },
            "colorscale": [
             [
              0,
              "#0d0887"
             ],
             [
              0.1111111111111111,
              "#46039f"
             ],
             [
              0.2222222222222222,
              "#7201a8"
             ],
             [
              0.3333333333333333,
              "#9c179e"
             ],
             [
              0.4444444444444444,
              "#bd3786"
             ],
             [
              0.5555555555555556,
              "#d8576b"
             ],
             [
              0.6666666666666666,
              "#ed7953"
             ],
             [
              0.7777777777777778,
              "#fb9f3a"
             ],
             [
              0.8888888888888888,
              "#fdca26"
             ],
             [
              1,
              "#f0f921"
             ]
            ],
            "type": "histogram2d"
           }
          ],
          "histogram2dcontour": [
           {
            "colorbar": {
             "outlinewidth": 0,
             "ticks": ""
            },
            "colorscale": [
             [
              0,
              "#0d0887"
             ],
             [
              0.1111111111111111,
              "#46039f"
             ],
             [
              0.2222222222222222,
              "#7201a8"
             ],
             [
              0.3333333333333333,
              "#9c179e"
             ],
             [
              0.4444444444444444,
              "#bd3786"
             ],
             [
              0.5555555555555556,
              "#d8576b"
             ],
             [
              0.6666666666666666,
              "#ed7953"
             ],
             [
              0.7777777777777778,
              "#fb9f3a"
             ],
             [
              0.8888888888888888,
              "#fdca26"
             ],
             [
              1,
              "#f0f921"
             ]
            ],
            "type": "histogram2dcontour"
           }
          ],
          "mesh3d": [
           {
            "colorbar": {
             "outlinewidth": 0,
             "ticks": ""
            },
            "type": "mesh3d"
           }
          ],
          "parcoords": [
           {
            "line": {
             "colorbar": {
              "outlinewidth": 0,
              "ticks": ""
             }
            },
            "type": "parcoords"
           }
          ],
          "pie": [
           {
            "automargin": true,
            "type": "pie"
           }
          ],
          "scatter": [
           {
            "fillpattern": {
             "fillmode": "overlay",
             "size": 10,
             "solidity": 0.2
            },
            "type": "scatter"
           }
          ],
          "scatter3d": [
           {
            "line": {
             "colorbar": {
              "outlinewidth": 0,
              "ticks": ""
             }
            },
            "marker": {
             "colorbar": {
              "outlinewidth": 0,
              "ticks": ""
             }
            },
            "type": "scatter3d"
           }
          ],
          "scattercarpet": [
           {
            "marker": {
             "colorbar": {
              "outlinewidth": 0,
              "ticks": ""
             }
            },
            "type": "scattercarpet"
           }
          ],
          "scattergeo": [
           {
            "marker": {
             "colorbar": {
              "outlinewidth": 0,
              "ticks": ""
             }
            },
            "type": "scattergeo"
           }
          ],
          "scattergl": [
           {
            "marker": {
             "colorbar": {
              "outlinewidth": 0,
              "ticks": ""
             }
            },
            "type": "scattergl"
           }
          ],
          "scattermap": [
           {
            "marker": {
             "colorbar": {
              "outlinewidth": 0,
              "ticks": ""
             }
            },
            "type": "scattermap"
           }
          ],
          "scattermapbox": [
           {
            "marker": {
             "colorbar": {
              "outlinewidth": 0,
              "ticks": ""
             }
            },
            "type": "scattermapbox"
           }
          ],
          "scatterpolar": [
           {
            "marker": {
             "colorbar": {
              "outlinewidth": 0,
              "ticks": ""
             }
            },
            "type": "scatterpolar"
           }
          ],
          "scatterpolargl": [
           {
            "marker": {
             "colorbar": {
              "outlinewidth": 0,
              "ticks": ""
             }
            },
            "type": "scatterpolargl"
           }
          ],
          "scatterternary": [
           {
            "marker": {
             "colorbar": {
              "outlinewidth": 0,
              "ticks": ""
             }
            },
            "type": "scatterternary"
           }
          ],
          "surface": [
           {
            "colorbar": {
             "outlinewidth": 0,
             "ticks": ""
            },
            "colorscale": [
             [
              0,
              "#0d0887"
             ],
             [
              0.1111111111111111,
              "#46039f"
             ],
             [
              0.2222222222222222,
              "#7201a8"
             ],
             [
              0.3333333333333333,
              "#9c179e"
             ],
             [
              0.4444444444444444,
              "#bd3786"
             ],
             [
              0.5555555555555556,
              "#d8576b"
             ],
             [
              0.6666666666666666,
              "#ed7953"
             ],
             [
              0.7777777777777778,
              "#fb9f3a"
             ],
             [
              0.8888888888888888,
              "#fdca26"
             ],
             [
              1,
              "#f0f921"
             ]
            ],
            "type": "surface"
           }
          ],
          "table": [
           {
            "cells": {
             "fill": {
              "color": "#EBF0F8"
             },
             "line": {
              "color": "white"
             }
            },
            "header": {
             "fill": {
              "color": "#C8D4E3"
             },
             "line": {
              "color": "white"
             }
            },
            "type": "table"
           }
          ]
         },
         "layout": {
          "annotationdefaults": {
           "arrowcolor": "#2a3f5f",
           "arrowhead": 0,
           "arrowwidth": 1
          },
          "autotypenumbers": "strict",
          "coloraxis": {
           "colorbar": {
            "outlinewidth": 0,
            "ticks": ""
           }
          },
          "colorscale": {
           "diverging": [
            [
             0,
             "#8e0152"
            ],
            [
             0.1,
             "#c51b7d"
            ],
            [
             0.2,
             "#de77ae"
            ],
            [
             0.3,
             "#f1b6da"
            ],
            [
             0.4,
             "#fde0ef"
            ],
            [
             0.5,
             "#f7f7f7"
            ],
            [
             0.6,
             "#e6f5d0"
            ],
            [
             0.7,
             "#b8e186"
            ],
            [
             0.8,
             "#7fbc41"
            ],
            [
             0.9,
             "#4d9221"
            ],
            [
             1,
             "#276419"
            ]
           ],
           "sequential": [
            [
             0,
             "#0d0887"
            ],
            [
             0.1111111111111111,
             "#46039f"
            ],
            [
             0.2222222222222222,
             "#7201a8"
            ],
            [
             0.3333333333333333,
             "#9c179e"
            ],
            [
             0.4444444444444444,
             "#bd3786"
            ],
            [
             0.5555555555555556,
             "#d8576b"
            ],
            [
             0.6666666666666666,
             "#ed7953"
            ],
            [
             0.7777777777777778,
             "#fb9f3a"
            ],
            [
             0.8888888888888888,
             "#fdca26"
            ],
            [
             1,
             "#f0f921"
            ]
           ],
           "sequentialminus": [
            [
             0,
             "#0d0887"
            ],
            [
             0.1111111111111111,
             "#46039f"
            ],
            [
             0.2222222222222222,
             "#7201a8"
            ],
            [
             0.3333333333333333,
             "#9c179e"
            ],
            [
             0.4444444444444444,
             "#bd3786"
            ],
            [
             0.5555555555555556,
             "#d8576b"
            ],
            [
             0.6666666666666666,
             "#ed7953"
            ],
            [
             0.7777777777777778,
             "#fb9f3a"
            ],
            [
             0.8888888888888888,
             "#fdca26"
            ],
            [
             1,
             "#f0f921"
            ]
           ]
          },
          "colorway": [
           "#636efa",
           "#EF553B",
           "#00cc96",
           "#ab63fa",
           "#FFA15A",
           "#19d3f3",
           "#FF6692",
           "#B6E880",
           "#FF97FF",
           "#FECB52"
          ],
          "font": {
           "color": "#2a3f5f"
          },
          "geo": {
           "bgcolor": "white",
           "lakecolor": "white",
           "landcolor": "#E5ECF6",
           "showlakes": true,
           "showland": true,
           "subunitcolor": "white"
          },
          "hoverlabel": {
           "align": "left"
          },
          "hovermode": "closest",
          "mapbox": {
           "style": "light"
          },
          "paper_bgcolor": "white",
          "plot_bgcolor": "#E5ECF6",
          "polar": {
           "angularaxis": {
            "gridcolor": "white",
            "linecolor": "white",
            "ticks": ""
           },
           "bgcolor": "#E5ECF6",
           "radialaxis": {
            "gridcolor": "white",
            "linecolor": "white",
            "ticks": ""
           }
          },
          "scene": {
           "xaxis": {
            "backgroundcolor": "#E5ECF6",
            "gridcolor": "white",
            "gridwidth": 2,
            "linecolor": "white",
            "showbackground": true,
            "ticks": "",
            "zerolinecolor": "white"
           },
           "yaxis": {
            "backgroundcolor": "#E5ECF6",
            "gridcolor": "white",
            "gridwidth": 2,
            "linecolor": "white",
            "showbackground": true,
            "ticks": "",
            "zerolinecolor": "white"
           },
           "zaxis": {
            "backgroundcolor": "#E5ECF6",
            "gridcolor": "white",
            "gridwidth": 2,
            "linecolor": "white",
            "showbackground": true,
            "ticks": "",
            "zerolinecolor": "white"
           }
          },
          "shapedefaults": {
           "line": {
            "color": "#2a3f5f"
           }
          },
          "ternary": {
           "aaxis": {
            "gridcolor": "white",
            "linecolor": "white",
            "ticks": ""
           },
           "baxis": {
            "gridcolor": "white",
            "linecolor": "white",
            "ticks": ""
           },
           "bgcolor": "#E5ECF6",
           "caxis": {
            "gridcolor": "white",
            "linecolor": "white",
            "ticks": ""
           }
          },
          "title": {
           "x": 0.05
          },
          "xaxis": {
           "automargin": true,
           "gridcolor": "white",
           "linecolor": "white",
           "ticks": "",
           "title": {
            "standoff": 15
           },
           "zerolinecolor": "white",
           "zerolinewidth": 2
          },
          "yaxis": {
           "automargin": true,
           "gridcolor": "white",
           "linecolor": "white",
           "ticks": "",
           "title": {
            "standoff": 15
           },
           "zerolinecolor": "white",
           "zerolinewidth": 2
          }
         }
        },
        "title": {
         "text": "Distribuição da variável faturamento"
        },
        "xaxis": {
         "anchor": "y",
         "domain": [
          0,
          1
         ],
         "title": {
          "text": "faturamento_mensal"
         }
        },
        "yaxis": {
         "anchor": "x",
         "domain": [
          0,
          1
         ],
         "title": {
          "text": "count"
         }
        }
       }
      }
     },
     "metadata": {},
     "output_type": "display_data"
    }
   ],
   "source": [
    "# distribuição faturamento\n",
    "px.histogram(df_segmento, x='faturamento_mensal', color='segmento_de_cliente', \n",
    "             title='Distribuição da variável faturamento')"
   ]
  },
  {
   "cell_type": "code",
   "execution_count": 78,
   "metadata": {},
   "outputs": [
    {
     "data": {
      "application/vnd.plotly.v1+json": {
       "config": {
        "plotlyServerURL": "https://plot.ly"
       },
       "data": [
        {
         "alignmentgroup": "True",
         "hovertemplate": "segmento_de_cliente=%{x}<br>idade=%{y}<extra></extra>",
         "legendgroup": "Starter",
         "marker": {
          "color": "#636efa"
         },
         "name": "Starter",
         "notched": false,
         "offsetgroup": "Starter",
         "orientation": "v",
         "showlegend": true,
         "type": "box",
         "x": [
          "Starter",
          "Starter",
          "Starter",
          "Starter",
          "Starter",
          "Starter",
          "Starter",
          "Starter",
          "Starter",
          "Starter",
          "Starter",
          "Starter",
          "Starter",
          "Starter",
          "Starter",
          "Starter",
          "Starter",
          "Starter",
          "Starter",
          "Starter",
          "Starter",
          "Starter"
         ],
         "x0": " ",
         "xaxis": "x",
         "y": {
          "bdata": "BgAECAMMCQcDBgwKBgYFBggLCRAHBw==",
          "dtype": "i1"
         },
         "y0": " ",
         "yaxis": "y"
        },
        {
         "alignmentgroup": "True",
         "hovertemplate": "segmento_de_cliente=%{x}<br>idade=%{y}<extra></extra>",
         "legendgroup": "Bronze",
         "marker": {
          "color": "#EF553B"
         },
         "name": "Bronze",
         "notched": false,
         "offsetgroup": "Bronze",
         "orientation": "v",
         "showlegend": true,
         "type": "box",
         "x": [
          "Bronze",
          "Bronze",
          "Bronze",
          "Bronze",
          "Bronze",
          "Bronze",
          "Bronze",
          "Bronze",
          "Bronze",
          "Bronze",
          "Bronze",
          "Bronze",
          "Bronze",
          "Bronze",
          "Bronze",
          "Bronze",
          "Bronze",
          "Bronze",
          "Bronze",
          "Bronze",
          "Bronze",
          "Bronze",
          "Bronze",
          "Bronze",
          "Bronze",
          "Bronze",
          "Bronze",
          "Bronze",
          "Bronze",
          "Bronze",
          "Bronze",
          "Bronze",
          "Bronze",
          "Bronze",
          "Bronze",
          "Bronze",
          "Bronze",
          "Bronze",
          "Bronze",
          "Bronze",
          "Bronze",
          "Bronze",
          "Bronze",
          "Bronze",
          "Bronze",
          "Bronze",
          "Bronze",
          "Bronze",
          "Bronze",
          "Bronze",
          "Bronze",
          "Bronze",
          "Bronze",
          "Bronze",
          "Bronze",
          "Bronze",
          "Bronze",
          "Bronze",
          "Bronze",
          "Bronze",
          "Bronze",
          "Bronze",
          "Bronze",
          "Bronze",
          "Bronze",
          "Bronze",
          "Bronze",
          "Bronze",
          "Bronze",
          "Bronze",
          "Bronze",
          "Bronze",
          "Bronze",
          "Bronze",
          "Bronze",
          "Bronze",
          "Bronze",
          "Bronze",
          "Bronze",
          "Bronze",
          "Bronze",
          "Bronze",
          "Bronze",
          "Bronze",
          "Bronze",
          "Bronze",
          "Bronze",
          "Bronze",
          "Bronze",
          "Bronze",
          "Bronze",
          "Bronze",
          "Bronze",
          "Bronze",
          "Bronze",
          "Bronze",
          "Bronze",
          "Bronze",
          "Bronze",
          "Bronze",
          "Bronze",
          "Bronze",
          "Bronze",
          "Bronze",
          "Bronze",
          "Bronze",
          "Bronze",
          "Bronze",
          "Bronze",
          "Bronze",
          "Bronze",
          "Bronze",
          "Bronze",
          "Bronze",
          "Bronze",
          "Bronze",
          "Bronze",
          "Bronze",
          "Bronze",
          "Bronze",
          "Bronze",
          "Bronze",
          "Bronze",
          "Bronze",
          "Bronze",
          "Bronze",
          "Bronze",
          "Bronze",
          "Bronze",
          "Bronze",
          "Bronze",
          "Bronze",
          "Bronze",
          "Bronze",
          "Bronze",
          "Bronze",
          "Bronze",
          "Bronze",
          "Bronze",
          "Bronze",
          "Bronze",
          "Bronze",
          "Bronze",
          "Bronze",
          "Bronze",
          "Bronze",
          "Bronze",
          "Bronze",
          "Bronze",
          "Bronze",
          "Bronze",
          "Bronze",
          "Bronze",
          "Bronze",
          "Bronze",
          "Bronze",
          "Bronze",
          "Bronze",
          "Bronze",
          "Bronze",
          "Bronze",
          "Bronze",
          "Bronze",
          "Bronze",
          "Bronze",
          "Bronze",
          "Bronze",
          "Bronze",
          "Bronze",
          "Bronze",
          "Bronze",
          "Bronze",
          "Bronze",
          "Bronze",
          "Bronze",
          "Bronze",
          "Bronze",
          "Bronze",
          "Bronze",
          "Bronze",
          "Bronze",
          "Bronze",
          "Bronze",
          "Bronze",
          "Bronze",
          "Bronze",
          "Bronze",
          "Bronze",
          "Bronze",
          "Bronze",
          "Bronze",
          "Bronze",
          "Bronze",
          "Bronze",
          "Bronze",
          "Bronze",
          "Bronze",
          "Bronze",
          "Bronze",
          "Bronze",
          "Bronze",
          "Bronze"
         ],
         "x0": " ",
         "xaxis": "x",
         "y": {
          "bdata": "Bg8KCQoIDAoHDAMFBg4MCAwMCAkGCQIKDgYNBggKCQwNBw0KCgUIBAsKCQkIDAsQAwcLCQwHEAwHBgUHCw0NDwIFBAcMBwoKBwgFCgQNCQcJBwoGAgkHCAcGCQUEDQYJEAoMCAUFCwkJDAUHDQcLDA8EBw0MCwYHDgcGCQgCDgUKAwkICQYKBggHCQgHCQoICAkPCwYHCAcIDAcLCAcMDgoDCwwGCQgLCg0LCgQICgUHCgULBQsMDwcIBgkLCAYFAQ0HCAkECgYKBA==",
          "dtype": "i1"
         },
         "y0": " ",
         "yaxis": "y"
        },
        {
         "alignmentgroup": "True",
         "hovertemplate": "segmento_de_cliente=%{x}<br>idade=%{y}<extra></extra>",
         "legendgroup": "Silver",
         "marker": {
          "color": "#00cc96"
         },
         "name": "Silver",
         "notched": false,
         "offsetgroup": "Silver",
         "orientation": "v",
         "showlegend": true,
         "type": "box",
         "x": [
          "Silver",
          "Silver",
          "Silver",
          "Silver",
          "Silver",
          "Silver",
          "Silver",
          "Silver",
          "Silver",
          "Silver",
          "Silver",
          "Silver",
          "Silver",
          "Silver",
          "Silver",
          "Silver",
          "Silver",
          "Silver",
          "Silver",
          "Silver",
          "Silver",
          "Silver",
          "Silver",
          "Silver",
          "Silver",
          "Silver",
          "Silver",
          "Silver",
          "Silver",
          "Silver",
          "Silver",
          "Silver",
          "Silver",
          "Silver",
          "Silver",
          "Silver",
          "Silver",
          "Silver",
          "Silver",
          "Silver",
          "Silver",
          "Silver",
          "Silver",
          "Silver",
          "Silver",
          "Silver",
          "Silver",
          "Silver",
          "Silver",
          "Silver",
          "Silver",
          "Silver",
          "Silver",
          "Silver",
          "Silver",
          "Silver",
          "Silver",
          "Silver",
          "Silver",
          "Silver",
          "Silver",
          "Silver",
          "Silver",
          "Silver",
          "Silver",
          "Silver",
          "Silver",
          "Silver",
          "Silver",
          "Silver",
          "Silver",
          "Silver",
          "Silver",
          "Silver",
          "Silver",
          "Silver",
          "Silver",
          "Silver",
          "Silver",
          "Silver",
          "Silver",
          "Silver",
          "Silver",
          "Silver",
          "Silver",
          "Silver",
          "Silver",
          "Silver",
          "Silver",
          "Silver",
          "Silver",
          "Silver",
          "Silver",
          "Silver",
          "Silver",
          "Silver",
          "Silver",
          "Silver",
          "Silver",
          "Silver",
          "Silver",
          "Silver",
          "Silver",
          "Silver",
          "Silver",
          "Silver",
          "Silver",
          "Silver",
          "Silver",
          "Silver",
          "Silver",
          "Silver",
          "Silver",
          "Silver",
          "Silver",
          "Silver",
          "Silver",
          "Silver",
          "Silver",
          "Silver",
          "Silver",
          "Silver",
          "Silver",
          "Silver",
          "Silver",
          "Silver",
          "Silver",
          "Silver",
          "Silver",
          "Silver",
          "Silver",
          "Silver",
          "Silver",
          "Silver",
          "Silver",
          "Silver",
          "Silver",
          "Silver",
          "Silver",
          "Silver",
          "Silver",
          "Silver",
          "Silver",
          "Silver",
          "Silver",
          "Silver",
          "Silver",
          "Silver",
          "Silver",
          "Silver",
          "Silver",
          "Silver",
          "Silver",
          "Silver",
          "Silver",
          "Silver",
          "Silver",
          "Silver",
          "Silver",
          "Silver",
          "Silver",
          "Silver",
          "Silver",
          "Silver",
          "Silver",
          "Silver",
          "Silver",
          "Silver",
          "Silver",
          "Silver",
          "Silver",
          "Silver",
          "Silver",
          "Silver",
          "Silver",
          "Silver",
          "Silver",
          "Silver",
          "Silver",
          "Silver",
          "Silver",
          "Silver",
          "Silver",
          "Silver",
          "Silver",
          "Silver",
          "Silver",
          "Silver",
          "Silver",
          "Silver",
          "Silver",
          "Silver",
          "Silver",
          "Silver",
          "Silver",
          "Silver",
          "Silver",
          "Silver",
          "Silver",
          "Silver",
          "Silver",
          "Silver",
          "Silver",
          "Silver",
          "Silver",
          "Silver",
          "Silver",
          "Silver",
          "Silver",
          "Silver",
          "Silver",
          "Silver",
          "Silver",
          "Silver",
          "Silver",
          "Silver",
          "Silver",
          "Silver",
          "Silver",
          "Silver",
          "Silver",
          "Silver",
          "Silver",
          "Silver",
          "Silver",
          "Silver",
          "Silver",
          "Silver",
          "Silver",
          "Silver",
          "Silver",
          "Silver",
          "Silver",
          "Silver",
          "Silver",
          "Silver",
          "Silver",
          "Silver",
          "Silver",
          "Silver",
          "Silver",
          "Silver",
          "Silver",
          "Silver",
          "Silver",
          "Silver",
          "Silver",
          "Silver",
          "Silver",
          "Silver",
          "Silver",
          "Silver",
          "Silver",
          "Silver",
          "Silver",
          "Silver",
          "Silver",
          "Silver",
          "Silver",
          "Silver"
         ],
         "x0": " ",
         "xaxis": "x",
         "y": {
          "bdata": "BA8LCgkLCQgIDAYQCQ8HCQwHDAwJCwcJBwYNCQkNCgcHCgoICgsNDAkJBAcKCwkHCgwKDwkHBw4MDgoOCQsHCwcLBQgICgoHCgoHCgoLBw0NCwkJDAQLBwgJCAYIBgkLBQwICgcMCgoPCAoMCQgIDAYOCQYMCQsKCAkNCAcMBQ0HBQ0LCAYJBwgKCQgJBwoKCQkLDg0JCAwKDAwJCg0LBxAMBwsLCQYEDgsGCwcMCQkKDAoJCwoMCg0MCgsNCwcICg0IDwsKDAwGBAoICAgMCBALDAoQCwUKCggMDAYICA4NBg0LCAsMCQoPBwoKEAgKCgoEBgsJDwcLCg0ECwsLBQwNCAU=",
          "dtype": "i1"
         },
         "y0": " ",
         "yaxis": "y"
        },
        {
         "alignmentgroup": "True",
         "hovertemplate": "segmento_de_cliente=%{x}<br>idade=%{y}<extra></extra>",
         "legendgroup": "Gold",
         "marker": {
          "color": "#ab63fa"
         },
         "name": "Gold",
         "notched": false,
         "offsetgroup": "Gold",
         "orientation": "v",
         "showlegend": true,
         "type": "box",
         "x": [
          "Gold",
          "Gold",
          "Gold",
          "Gold",
          "Gold",
          "Gold",
          "Gold",
          "Gold",
          "Gold",
          "Gold",
          "Gold",
          "Gold",
          "Gold",
          "Gold",
          "Gold",
          "Gold"
         ],
         "x0": " ",
         "xaxis": "x",
         "y": {
          "bdata": "DQcLCgoQDQsICQoNCwcNDQ==",
          "dtype": "i1"
         },
         "y0": " ",
         "yaxis": "y"
        }
       ],
       "layout": {
        "boxmode": "overlay",
        "legend": {
         "title": {
          "text": "segmento_de_cliente"
         },
         "tracegroupgap": 0
        },
        "template": {
         "data": {
          "bar": [
           {
            "error_x": {
             "color": "#2a3f5f"
            },
            "error_y": {
             "color": "#2a3f5f"
            },
            "marker": {
             "line": {
              "color": "#E5ECF6",
              "width": 0.5
             },
             "pattern": {
              "fillmode": "overlay",
              "size": 10,
              "solidity": 0.2
             }
            },
            "type": "bar"
           }
          ],
          "barpolar": [
           {
            "marker": {
             "line": {
              "color": "#E5ECF6",
              "width": 0.5
             },
             "pattern": {
              "fillmode": "overlay",
              "size": 10,
              "solidity": 0.2
             }
            },
            "type": "barpolar"
           }
          ],
          "carpet": [
           {
            "aaxis": {
             "endlinecolor": "#2a3f5f",
             "gridcolor": "white",
             "linecolor": "white",
             "minorgridcolor": "white",
             "startlinecolor": "#2a3f5f"
            },
            "baxis": {
             "endlinecolor": "#2a3f5f",
             "gridcolor": "white",
             "linecolor": "white",
             "minorgridcolor": "white",
             "startlinecolor": "#2a3f5f"
            },
            "type": "carpet"
           }
          ],
          "choropleth": [
           {
            "colorbar": {
             "outlinewidth": 0,
             "ticks": ""
            },
            "type": "choropleth"
           }
          ],
          "contour": [
           {
            "colorbar": {
             "outlinewidth": 0,
             "ticks": ""
            },
            "colorscale": [
             [
              0,
              "#0d0887"
             ],
             [
              0.1111111111111111,
              "#46039f"
             ],
             [
              0.2222222222222222,
              "#7201a8"
             ],
             [
              0.3333333333333333,
              "#9c179e"
             ],
             [
              0.4444444444444444,
              "#bd3786"
             ],
             [
              0.5555555555555556,
              "#d8576b"
             ],
             [
              0.6666666666666666,
              "#ed7953"
             ],
             [
              0.7777777777777778,
              "#fb9f3a"
             ],
             [
              0.8888888888888888,
              "#fdca26"
             ],
             [
              1,
              "#f0f921"
             ]
            ],
            "type": "contour"
           }
          ],
          "contourcarpet": [
           {
            "colorbar": {
             "outlinewidth": 0,
             "ticks": ""
            },
            "type": "contourcarpet"
           }
          ],
          "heatmap": [
           {
            "colorbar": {
             "outlinewidth": 0,
             "ticks": ""
            },
            "colorscale": [
             [
              0,
              "#0d0887"
             ],
             [
              0.1111111111111111,
              "#46039f"
             ],
             [
              0.2222222222222222,
              "#7201a8"
             ],
             [
              0.3333333333333333,
              "#9c179e"
             ],
             [
              0.4444444444444444,
              "#bd3786"
             ],
             [
              0.5555555555555556,
              "#d8576b"
             ],
             [
              0.6666666666666666,
              "#ed7953"
             ],
             [
              0.7777777777777778,
              "#fb9f3a"
             ],
             [
              0.8888888888888888,
              "#fdca26"
             ],
             [
              1,
              "#f0f921"
             ]
            ],
            "type": "heatmap"
           }
          ],
          "histogram": [
           {
            "marker": {
             "pattern": {
              "fillmode": "overlay",
              "size": 10,
              "solidity": 0.2
             }
            },
            "type": "histogram"
           }
          ],
          "histogram2d": [
           {
            "colorbar": {
             "outlinewidth": 0,
             "ticks": ""
            },
            "colorscale": [
             [
              0,
              "#0d0887"
             ],
             [
              0.1111111111111111,
              "#46039f"
             ],
             [
              0.2222222222222222,
              "#7201a8"
             ],
             [
              0.3333333333333333,
              "#9c179e"
             ],
             [
              0.4444444444444444,
              "#bd3786"
             ],
             [
              0.5555555555555556,
              "#d8576b"
             ],
             [
              0.6666666666666666,
              "#ed7953"
             ],
             [
              0.7777777777777778,
              "#fb9f3a"
             ],
             [
              0.8888888888888888,
              "#fdca26"
             ],
             [
              1,
              "#f0f921"
             ]
            ],
            "type": "histogram2d"
           }
          ],
          "histogram2dcontour": [
           {
            "colorbar": {
             "outlinewidth": 0,
             "ticks": ""
            },
            "colorscale": [
             [
              0,
              "#0d0887"
             ],
             [
              0.1111111111111111,
              "#46039f"
             ],
             [
              0.2222222222222222,
              "#7201a8"
             ],
             [
              0.3333333333333333,
              "#9c179e"
             ],
             [
              0.4444444444444444,
              "#bd3786"
             ],
             [
              0.5555555555555556,
              "#d8576b"
             ],
             [
              0.6666666666666666,
              "#ed7953"
             ],
             [
              0.7777777777777778,
              "#fb9f3a"
             ],
             [
              0.8888888888888888,
              "#fdca26"
             ],
             [
              1,
              "#f0f921"
             ]
            ],
            "type": "histogram2dcontour"
           }
          ],
          "mesh3d": [
           {
            "colorbar": {
             "outlinewidth": 0,
             "ticks": ""
            },
            "type": "mesh3d"
           }
          ],
          "parcoords": [
           {
            "line": {
             "colorbar": {
              "outlinewidth": 0,
              "ticks": ""
             }
            },
            "type": "parcoords"
           }
          ],
          "pie": [
           {
            "automargin": true,
            "type": "pie"
           }
          ],
          "scatter": [
           {
            "fillpattern": {
             "fillmode": "overlay",
             "size": 10,
             "solidity": 0.2
            },
            "type": "scatter"
           }
          ],
          "scatter3d": [
           {
            "line": {
             "colorbar": {
              "outlinewidth": 0,
              "ticks": ""
             }
            },
            "marker": {
             "colorbar": {
              "outlinewidth": 0,
              "ticks": ""
             }
            },
            "type": "scatter3d"
           }
          ],
          "scattercarpet": [
           {
            "marker": {
             "colorbar": {
              "outlinewidth": 0,
              "ticks": ""
             }
            },
            "type": "scattercarpet"
           }
          ],
          "scattergeo": [
           {
            "marker": {
             "colorbar": {
              "outlinewidth": 0,
              "ticks": ""
             }
            },
            "type": "scattergeo"
           }
          ],
          "scattergl": [
           {
            "marker": {
             "colorbar": {
              "outlinewidth": 0,
              "ticks": ""
             }
            },
            "type": "scattergl"
           }
          ],
          "scattermap": [
           {
            "marker": {
             "colorbar": {
              "outlinewidth": 0,
              "ticks": ""
             }
            },
            "type": "scattermap"
           }
          ],
          "scattermapbox": [
           {
            "marker": {
             "colorbar": {
              "outlinewidth": 0,
              "ticks": ""
             }
            },
            "type": "scattermapbox"
           }
          ],
          "scatterpolar": [
           {
            "marker": {
             "colorbar": {
              "outlinewidth": 0,
              "ticks": ""
             }
            },
            "type": "scatterpolar"
           }
          ],
          "scatterpolargl": [
           {
            "marker": {
             "colorbar": {
              "outlinewidth": 0,
              "ticks": ""
             }
            },
            "type": "scatterpolargl"
           }
          ],
          "scatterternary": [
           {
            "marker": {
             "colorbar": {
              "outlinewidth": 0,
              "ticks": ""
             }
            },
            "type": "scatterternary"
           }
          ],
          "surface": [
           {
            "colorbar": {
             "outlinewidth": 0,
             "ticks": ""
            },
            "colorscale": [
             [
              0,
              "#0d0887"
             ],
             [
              0.1111111111111111,
              "#46039f"
             ],
             [
              0.2222222222222222,
              "#7201a8"
             ],
             [
              0.3333333333333333,
              "#9c179e"
             ],
             [
              0.4444444444444444,
              "#bd3786"
             ],
             [
              0.5555555555555556,
              "#d8576b"
             ],
             [
              0.6666666666666666,
              "#ed7953"
             ],
             [
              0.7777777777777778,
              "#fb9f3a"
             ],
             [
              0.8888888888888888,
              "#fdca26"
             ],
             [
              1,
              "#f0f921"
             ]
            ],
            "type": "surface"
           }
          ],
          "table": [
           {
            "cells": {
             "fill": {
              "color": "#EBF0F8"
             },
             "line": {
              "color": "white"
             }
            },
            "header": {
             "fill": {
              "color": "#C8D4E3"
             },
             "line": {
              "color": "white"
             }
            },
            "type": "table"
           }
          ]
         },
         "layout": {
          "annotationdefaults": {
           "arrowcolor": "#2a3f5f",
           "arrowhead": 0,
           "arrowwidth": 1
          },
          "autotypenumbers": "strict",
          "coloraxis": {
           "colorbar": {
            "outlinewidth": 0,
            "ticks": ""
           }
          },
          "colorscale": {
           "diverging": [
            [
             0,
             "#8e0152"
            ],
            [
             0.1,
             "#c51b7d"
            ],
            [
             0.2,
             "#de77ae"
            ],
            [
             0.3,
             "#f1b6da"
            ],
            [
             0.4,
             "#fde0ef"
            ],
            [
             0.5,
             "#f7f7f7"
            ],
            [
             0.6,
             "#e6f5d0"
            ],
            [
             0.7,
             "#b8e186"
            ],
            [
             0.8,
             "#7fbc41"
            ],
            [
             0.9,
             "#4d9221"
            ],
            [
             1,
             "#276419"
            ]
           ],
           "sequential": [
            [
             0,
             "#0d0887"
            ],
            [
             0.1111111111111111,
             "#46039f"
            ],
            [
             0.2222222222222222,
             "#7201a8"
            ],
            [
             0.3333333333333333,
             "#9c179e"
            ],
            [
             0.4444444444444444,
             "#bd3786"
            ],
            [
             0.5555555555555556,
             "#d8576b"
            ],
            [
             0.6666666666666666,
             "#ed7953"
            ],
            [
             0.7777777777777778,
             "#fb9f3a"
            ],
            [
             0.8888888888888888,
             "#fdca26"
            ],
            [
             1,
             "#f0f921"
            ]
           ],
           "sequentialminus": [
            [
             0,
             "#0d0887"
            ],
            [
             0.1111111111111111,
             "#46039f"
            ],
            [
             0.2222222222222222,
             "#7201a8"
            ],
            [
             0.3333333333333333,
             "#9c179e"
            ],
            [
             0.4444444444444444,
             "#bd3786"
            ],
            [
             0.5555555555555556,
             "#d8576b"
            ],
            [
             0.6666666666666666,
             "#ed7953"
            ],
            [
             0.7777777777777778,
             "#fb9f3a"
            ],
            [
             0.8888888888888888,
             "#fdca26"
            ],
            [
             1,
             "#f0f921"
            ]
           ]
          },
          "colorway": [
           "#636efa",
           "#EF553B",
           "#00cc96",
           "#ab63fa",
           "#FFA15A",
           "#19d3f3",
           "#FF6692",
           "#B6E880",
           "#FF97FF",
           "#FECB52"
          ],
          "font": {
           "color": "#2a3f5f"
          },
          "geo": {
           "bgcolor": "white",
           "lakecolor": "white",
           "landcolor": "#E5ECF6",
           "showlakes": true,
           "showland": true,
           "subunitcolor": "white"
          },
          "hoverlabel": {
           "align": "left"
          },
          "hovermode": "closest",
          "mapbox": {
           "style": "light"
          },
          "paper_bgcolor": "white",
          "plot_bgcolor": "#E5ECF6",
          "polar": {
           "angularaxis": {
            "gridcolor": "white",
            "linecolor": "white",
            "ticks": ""
           },
           "bgcolor": "#E5ECF6",
           "radialaxis": {
            "gridcolor": "white",
            "linecolor": "white",
            "ticks": ""
           }
          },
          "scene": {
           "xaxis": {
            "backgroundcolor": "#E5ECF6",
            "gridcolor": "white",
            "gridwidth": 2,
            "linecolor": "white",
            "showbackground": true,
            "ticks": "",
            "zerolinecolor": "white"
           },
           "yaxis": {
            "backgroundcolor": "#E5ECF6",
            "gridcolor": "white",
            "gridwidth": 2,
            "linecolor": "white",
            "showbackground": true,
            "ticks": "",
            "zerolinecolor": "white"
           },
           "zaxis": {
            "backgroundcolor": "#E5ECF6",
            "gridcolor": "white",
            "gridwidth": 2,
            "linecolor": "white",
            "showbackground": true,
            "ticks": "",
            "zerolinecolor": "white"
           }
          },
          "shapedefaults": {
           "line": {
            "color": "#2a3f5f"
           }
          },
          "ternary": {
           "aaxis": {
            "gridcolor": "white",
            "linecolor": "white",
            "ticks": ""
           },
           "baxis": {
            "gridcolor": "white",
            "linecolor": "white",
            "ticks": ""
           },
           "bgcolor": "#E5ECF6",
           "caxis": {
            "gridcolor": "white",
            "linecolor": "white",
            "ticks": ""
           }
          },
          "title": {
           "x": 0.05
          },
          "xaxis": {
           "automargin": true,
           "gridcolor": "white",
           "linecolor": "white",
           "ticks": "",
           "title": {
            "standoff": 15
           },
           "zerolinecolor": "white",
           "zerolinewidth": 2
          },
          "yaxis": {
           "automargin": true,
           "gridcolor": "white",
           "linecolor": "white",
           "ticks": "",
           "title": {
            "standoff": 15
           },
           "zerolinecolor": "white",
           "zerolinewidth": 2
          }
         }
        },
        "title": {
         "text": "Boxplot da variável idade por segmento de cliente"
        },
        "xaxis": {
         "anchor": "y",
         "categoryarray": [
          "Starter",
          "Bronze",
          "Silver",
          "Gold"
         ],
         "categoryorder": "array",
         "domain": [
          0,
          1
         ],
         "title": {
          "text": "segmento_de_cliente"
         }
        },
        "yaxis": {
         "anchor": "x",
         "domain": [
          0,
          1
         ],
         "title": {
          "text": "idade"
         }
        }
       }
      }
     },
     "metadata": {},
     "output_type": "display_data"
    }
   ],
   "source": [
    "# Verificar a correlação entre as variáveis\n",
    "# Boxplot entre idade e segmento de cliente\n",
    "px.box(df_segmento, x='segmento_de_cliente', y='idade', \n",
    "       title='Boxplot da variável idade por segmento de cliente',\n",
    "       color='segmento_de_cliente',\n",
    "       category_orders={'segmento_de_cliente': lista_segmentos})"
   ]
  },
  {
   "cell_type": "code",
   "execution_count": 79,
   "metadata": {},
   "outputs": [
    {
     "data": {
      "application/vnd.plotly.v1+json": {
       "config": {
        "plotlyServerURL": "https://plot.ly"
       },
       "data": [
        {
         "alignmentgroup": "True",
         "hovertemplate": "segmento_de_cliente=%{x}<br>faturamento_mensal=%{y}<extra></extra>",
         "legendgroup": "Starter",
         "marker": {
          "color": "#636efa"
         },
         "name": "Starter",
         "notched": false,
         "offsetgroup": "Starter",
         "orientation": "v",
         "showlegend": true,
         "type": "box",
         "x": [
          "Starter",
          "Starter",
          "Starter",
          "Starter",
          "Starter",
          "Starter",
          "Starter",
          "Starter",
          "Starter",
          "Starter",
          "Starter",
          "Starter",
          "Starter",
          "Starter",
          "Starter",
          "Starter",
          "Starter",
          "Starter",
          "Starter",
          "Starter",
          "Starter",
          "Starter"
         ],
         "x0": " ",
         "xaxis": "x",
         "y": {
          "bdata": "7FG4HodqG0FmZmbm14gnQeF6FK5nU/tA4XoUriscEkH2KFwPUMsiQT0K16MIXPdA9ihcj9ysC0Fcj8L1LKT9QEjhehQhrhZBhetRuM5SFEFI4XoUTv3RQM3MzMysY/lAuB6F6zk1HkGuR+F6lFQFQaRwPQofofRAw/Uo3J0gKUE9CtcjAQAnQa5H4XpwSvNAcT0K19zHKUG4HoXrEfrYQDMzMzO1ahlBFK5H4eRQCkE=",
          "dtype": "f8"
         },
         "y0": " ",
         "yaxis": "y"
        },
        {
         "alignmentgroup": "True",
         "hovertemplate": "segmento_de_cliente=%{x}<br>faturamento_mensal=%{y}<extra></extra>",
         "legendgroup": "Bronze",
         "marker": {
          "color": "#EF553B"
         },
         "name": "Bronze",
         "notched": false,
         "offsetgroup": "Bronze",
         "orientation": "v",
         "showlegend": true,
         "type": "box",
         "x": [
          "Bronze",
          "Bronze",
          "Bronze",
          "Bronze",
          "Bronze",
          "Bronze",
          "Bronze",
          "Bronze",
          "Bronze",
          "Bronze",
          "Bronze",
          "Bronze",
          "Bronze",
          "Bronze",
          "Bronze",
          "Bronze",
          "Bronze",
          "Bronze",
          "Bronze",
          "Bronze",
          "Bronze",
          "Bronze",
          "Bronze",
          "Bronze",
          "Bronze",
          "Bronze",
          "Bronze",
          "Bronze",
          "Bronze",
          "Bronze",
          "Bronze",
          "Bronze",
          "Bronze",
          "Bronze",
          "Bronze",
          "Bronze",
          "Bronze",
          "Bronze",
          "Bronze",
          "Bronze",
          "Bronze",
          "Bronze",
          "Bronze",
          "Bronze",
          "Bronze",
          "Bronze",
          "Bronze",
          "Bronze",
          "Bronze",
          "Bronze",
          "Bronze",
          "Bronze",
          "Bronze",
          "Bronze",
          "Bronze",
          "Bronze",
          "Bronze",
          "Bronze",
          "Bronze",
          "Bronze",
          "Bronze",
          "Bronze",
          "Bronze",
          "Bronze",
          "Bronze",
          "Bronze",
          "Bronze",
          "Bronze",
          "Bronze",
          "Bronze",
          "Bronze",
          "Bronze",
          "Bronze",
          "Bronze",
          "Bronze",
          "Bronze",
          "Bronze",
          "Bronze",
          "Bronze",
          "Bronze",
          "Bronze",
          "Bronze",
          "Bronze",
          "Bronze",
          "Bronze",
          "Bronze",
          "Bronze",
          "Bronze",
          "Bronze",
          "Bronze",
          "Bronze",
          "Bronze",
          "Bronze",
          "Bronze",
          "Bronze",
          "Bronze",
          "Bronze",
          "Bronze",
          "Bronze",
          "Bronze",
          "Bronze",
          "Bronze",
          "Bronze",
          "Bronze",
          "Bronze",
          "Bronze",
          "Bronze",
          "Bronze",
          "Bronze",
          "Bronze",
          "Bronze",
          "Bronze",
          "Bronze",
          "Bronze",
          "Bronze",
          "Bronze",
          "Bronze",
          "Bronze",
          "Bronze",
          "Bronze",
          "Bronze",
          "Bronze",
          "Bronze",
          "Bronze",
          "Bronze",
          "Bronze",
          "Bronze",
          "Bronze",
          "Bronze",
          "Bronze",
          "Bronze",
          "Bronze",
          "Bronze",
          "Bronze",
          "Bronze",
          "Bronze",
          "Bronze",
          "Bronze",
          "Bronze",
          "Bronze",
          "Bronze",
          "Bronze",
          "Bronze",
          "Bronze",
          "Bronze",
          "Bronze",
          "Bronze",
          "Bronze",
          "Bronze",
          "Bronze",
          "Bronze",
          "Bronze",
          "Bronze",
          "Bronze",
          "Bronze",
          "Bronze",
          "Bronze",
          "Bronze",
          "Bronze",
          "Bronze",
          "Bronze",
          "Bronze",
          "Bronze",
          "Bronze",
          "Bronze",
          "Bronze",
          "Bronze",
          "Bronze",
          "Bronze",
          "Bronze",
          "Bronze",
          "Bronze",
          "Bronze",
          "Bronze",
          "Bronze",
          "Bronze",
          "Bronze",
          "Bronze",
          "Bronze",
          "Bronze",
          "Bronze",
          "Bronze",
          "Bronze",
          "Bronze",
          "Bronze",
          "Bronze",
          "Bronze",
          "Bronze",
          "Bronze",
          "Bronze",
          "Bronze",
          "Bronze",
          "Bronze",
          "Bronze",
          "Bronze",
          "Bronze",
          "Bronze",
          "Bronze",
          "Bronze",
          "Bronze",
          "Bronze",
          "Bronze"
         ],
         "x0": " ",
         "xaxis": "x",
         "y": {
          "bdata": "ZmZm5ivDJUEpXI/CdCEoQR+F61EvIStBPQrXoxDDMEH2KFyP+TklQYXrUTjS5SdBrkfhegD5L0HXo3C9cokpQa5H4foD4zJBKVyPwkPnHUE9Ctfjm8MxQbgehWuBQS1BzczMTNTNKkH2KFyP4rctQexRuB5MrSZBKVyPwmQNKkEfhesRblU1QaRwPYo/2DRB7FG4HivzIUFI4Xr0l0RBQbgeheu1cypBPQrXo5JQGkEK16NwD5ApQY/C9ehkfDdB16NwPQY5JEGkcD0K8aUqQR+F69HILDJB4XoUrpvyI0Fcj8K1Wbs2QXsUrkd9wBdB9ihcD/doJkEUrkdhfsIwQfYoXM8wFThBpHA9yksKNUEpXI+CwSYxQexRuJ6U6DJBZmZmZs9LE0FxPQrXL7IuQXsUrkcqxStBKVyPwgZ5MEEpXI/ChkYVQc3MzMxlpzVB4XoUrv+HJUFI4XoUEo4GQY/C9SiPLjVBw/UoXMKoLUGkcD0KjyEqQT0K16N/GShBpHA9CuvaIkHsUbhe/vc1QdejcL2cbylBMzMzsxb2LEFI4XqUymciQZqZmRl4QjhBexSuR8VgKUHNzMzMKKAjQR+F69HnPy1BXI/C9TMaPEF7FK5HYwMxQXsUrkfLuylBj8L1KF8OKkHsUbgeR1czQQAAAIDJbzVBAAAAgJ8UJkGPwvWoar4oQQrXo3CS3DJBexSuhw4GMEEK16NwkVgQQVyPwvU1sTNBFK5H4eoSAkHsUbie5yMwQY/C9SjSliZBmpmZ2Xn/NEEUrkfhDkonQfYoXM+5EDFB9ihcD+aEL0F7FK5HyeooQQAAAIA/VSBBhetRuNUAKkFmZmZm4zoyQSlcj0It8ClBCtejcA4ME0E9CtejtZQiQexRuB4hkxBBrkfhejx4J0GkcD3KXjkwQeF6FC7RyStBcT0KV2svLkGuR+H6cTcgQcP1KJxKPUJBCtej8HjYLUG4HoVre0UiQaRwPQrnmO9AhetROPE0M0H2KFyP/tErQXE9ClegRCBBMzMzszQfJ0GuR+H6DqIzQVK4HgVldydBFK5H4UMlKEEUrkfhtrMcQeF6FG50+zJBzczMzKyfKUEUrkfhCGooQfYoXI+ajO1AAAAAgDEpKEGPwvUoboM0Qa5H4Xp/FyNBAAAAgAK4K0Fcj8I11RNAQQAAAEAVPDhBPQrXI1QhLEFI4XoUEvsDQY/C9WjIBzNBZmZmZuWBMkGuR+H6i/YxQTMzMzPFex5BFK5HYcGyMEEK16NwtdsqQXE9ClfM/i5BmpmZmVdYNUHNzMzMYLkxQeF6FC6zzidBMzMzM1VEDEGuR+F6Fr4VQT0K1yMVYTdBKVyPQkK4LkFxPQpXodswQbgehes9aCZBZmZmZnmUKEGF61E4ZWwrQXE9ClfadyxBhetR+GTyN0GamZkZqpEyQbgehasSlDRBXI/C9SjJCEFI4XoUXl8sQR+F6xHjCDFBpHA9ihPmMkFI4XoU+9QsQXE9Che+JDBB4XoUrnryL0HhehSuH1UUQZqZmRmboy5BMzMzM4k2I0E9CtcjO8IgQdejcD0xIjxBAAAAAMjiDUH2KFwPbwQmQexRuJ4FrSlBMzMzc/rJPUEK16PwxDsuQR+F6xFJEjFBFK5HYdfTJUGamZnZcSgwQYXrUTiSkCRBKVyPAjc+MkFSuB6F654uQfYoXA9SaSJBMzMzs02hMkEAAACAhqggQQrXo/BwsCZBCtejcEiAGkGamZmZ90kdQaRwPQr3HCJBKVyPQsqJKkHXo3C9kdgqQc3MzEw9ICZBw/Uo3MFFNEHsUbgehpQaQbgehWueoS1Brkfh+jspL0HNzMwMxukyQXsUrkfpSP1AMzMz86KNNEFcj8L1ybs6QZqZmZm5CQ9BuB6F62D+HEHD9SjcUM8vQa5H4XrFOxpBcT0Kl2VLMkGPwvVoJbkyQXsUrscalShBXI/CdZA4JUFxPQrXmrcoQYXrUfh9wTJB7FG4HgvGKEE9CtejrL4mQc3MzEy2DzBBMzMzc12eO0GF61H4JFw0QY/C9eg2wTVBSOF6FANeOUGuR+F6DzIbQT0K16OT1B5BH4XrkZgIMEGamZkZDvonQWZmZuY0FyRBKVyPQpESOUEfheuRLbQzQc3MzOxQ30BBCtejcKMzBUE=",
          "dtype": "f8"
         },
         "y0": " ",
         "yaxis": "y"
        },
        {
         "alignmentgroup": "True",
         "hovertemplate": "segmento_de_cliente=%{x}<br>faturamento_mensal=%{y}<extra></extra>",
         "legendgroup": "Silver",
         "marker": {
          "color": "#00cc96"
         },
         "name": "Silver",
         "notched": false,
         "offsetgroup": "Silver",
         "orientation": "v",
         "showlegend": true,
         "type": "box",
         "x": [
          "Silver",
          "Silver",
          "Silver",
          "Silver",
          "Silver",
          "Silver",
          "Silver",
          "Silver",
          "Silver",
          "Silver",
          "Silver",
          "Silver",
          "Silver",
          "Silver",
          "Silver",
          "Silver",
          "Silver",
          "Silver",
          "Silver",
          "Silver",
          "Silver",
          "Silver",
          "Silver",
          "Silver",
          "Silver",
          "Silver",
          "Silver",
          "Silver",
          "Silver",
          "Silver",
          "Silver",
          "Silver",
          "Silver",
          "Silver",
          "Silver",
          "Silver",
          "Silver",
          "Silver",
          "Silver",
          "Silver",
          "Silver",
          "Silver",
          "Silver",
          "Silver",
          "Silver",
          "Silver",
          "Silver",
          "Silver",
          "Silver",
          "Silver",
          "Silver",
          "Silver",
          "Silver",
          "Silver",
          "Silver",
          "Silver",
          "Silver",
          "Silver",
          "Silver",
          "Silver",
          "Silver",
          "Silver",
          "Silver",
          "Silver",
          "Silver",
          "Silver",
          "Silver",
          "Silver",
          "Silver",
          "Silver",
          "Silver",
          "Silver",
          "Silver",
          "Silver",
          "Silver",
          "Silver",
          "Silver",
          "Silver",
          "Silver",
          "Silver",
          "Silver",
          "Silver",
          "Silver",
          "Silver",
          "Silver",
          "Silver",
          "Silver",
          "Silver",
          "Silver",
          "Silver",
          "Silver",
          "Silver",
          "Silver",
          "Silver",
          "Silver",
          "Silver",
          "Silver",
          "Silver",
          "Silver",
          "Silver",
          "Silver",
          "Silver",
          "Silver",
          "Silver",
          "Silver",
          "Silver",
          "Silver",
          "Silver",
          "Silver",
          "Silver",
          "Silver",
          "Silver",
          "Silver",
          "Silver",
          "Silver",
          "Silver",
          "Silver",
          "Silver",
          "Silver",
          "Silver",
          "Silver",
          "Silver",
          "Silver",
          "Silver",
          "Silver",
          "Silver",
          "Silver",
          "Silver",
          "Silver",
          "Silver",
          "Silver",
          "Silver",
          "Silver",
          "Silver",
          "Silver",
          "Silver",
          "Silver",
          "Silver",
          "Silver",
          "Silver",
          "Silver",
          "Silver",
          "Silver",
          "Silver",
          "Silver",
          "Silver",
          "Silver",
          "Silver",
          "Silver",
          "Silver",
          "Silver",
          "Silver",
          "Silver",
          "Silver",
          "Silver",
          "Silver",
          "Silver",
          "Silver",
          "Silver",
          "Silver",
          "Silver",
          "Silver",
          "Silver",
          "Silver",
          "Silver",
          "Silver",
          "Silver",
          "Silver",
          "Silver",
          "Silver",
          "Silver",
          "Silver",
          "Silver",
          "Silver",
          "Silver",
          "Silver",
          "Silver",
          "Silver",
          "Silver",
          "Silver",
          "Silver",
          "Silver",
          "Silver",
          "Silver",
          "Silver",
          "Silver",
          "Silver",
          "Silver",
          "Silver",
          "Silver",
          "Silver",
          "Silver",
          "Silver",
          "Silver",
          "Silver",
          "Silver",
          "Silver",
          "Silver",
          "Silver",
          "Silver",
          "Silver",
          "Silver",
          "Silver",
          "Silver",
          "Silver",
          "Silver",
          "Silver",
          "Silver",
          "Silver",
          "Silver",
          "Silver",
          "Silver",
          "Silver",
          "Silver",
          "Silver",
          "Silver",
          "Silver",
          "Silver",
          "Silver",
          "Silver",
          "Silver",
          "Silver",
          "Silver",
          "Silver",
          "Silver",
          "Silver",
          "Silver",
          "Silver",
          "Silver",
          "Silver",
          "Silver",
          "Silver",
          "Silver",
          "Silver",
          "Silver",
          "Silver",
          "Silver",
          "Silver",
          "Silver",
          "Silver",
          "Silver",
          "Silver",
          "Silver",
          "Silver",
          "Silver",
          "Silver",
          "Silver",
          "Silver",
          "Silver",
          "Silver",
          "Silver",
          "Silver",
          "Silver",
          "Silver",
          "Silver",
          "Silver",
          "Silver",
          "Silver",
          "Silver",
          "Silver"
         ],
         "x0": " ",
         "xaxis": "x",
         "y": {
          "bdata": "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",
          "dtype": "f8"
         },
         "y0": " ",
         "yaxis": "y"
        },
        {
         "alignmentgroup": "True",
         "hovertemplate": "segmento_de_cliente=%{x}<br>faturamento_mensal=%{y}<extra></extra>",
         "legendgroup": "Gold",
         "marker": {
          "color": "#ab63fa"
         },
         "name": "Gold",
         "notched": false,
         "offsetgroup": "Gold",
         "orientation": "v",
         "showlegend": true,
         "type": "box",
         "x": [
          "Gold",
          "Gold",
          "Gold",
          "Gold",
          "Gold",
          "Gold",
          "Gold",
          "Gold",
          "Gold",
          "Gold",
          "Gold",
          "Gold",
          "Gold",
          "Gold",
          "Gold",
          "Gold"
         ],
         "x0": " ",
         "xaxis": "x",
         "y": {
          "bdata": "rkfhumjvMkEAAACAhqQ1QYXrUXiOCTpBCtejMP6HMEG4HoVr19s3QaRwPYqfKzdBKVyPgkZXMEEfhesRA/g3QTMzM/PV3jRBSOF6lA44NkGPwvVoZow9QXsUrgfiBjhBrkfh+h8HPUHXo3D9Qiw7Qc3MzEyscjdB16NwfTKoOUE=",
          "dtype": "f8"
         },
         "y0": " ",
         "yaxis": "y"
        }
       ],
       "layout": {
        "boxmode": "overlay",
        "legend": {
         "title": {
          "text": "segmento_de_cliente"
         },
         "tracegroupgap": 0
        },
        "template": {
         "data": {
          "bar": [
           {
            "error_x": {
             "color": "#2a3f5f"
            },
            "error_y": {
             "color": "#2a3f5f"
            },
            "marker": {
             "line": {
              "color": "#E5ECF6",
              "width": 0.5
             },
             "pattern": {
              "fillmode": "overlay",
              "size": 10,
              "solidity": 0.2
             }
            },
            "type": "bar"
           }
          ],
          "barpolar": [
           {
            "marker": {
             "line": {
              "color": "#E5ECF6",
              "width": 0.5
             },
             "pattern": {
              "fillmode": "overlay",
              "size": 10,
              "solidity": 0.2
             }
            },
            "type": "barpolar"
           }
          ],
          "carpet": [
           {
            "aaxis": {
             "endlinecolor": "#2a3f5f",
             "gridcolor": "white",
             "linecolor": "white",
             "minorgridcolor": "white",
             "startlinecolor": "#2a3f5f"
            },
            "baxis": {
             "endlinecolor": "#2a3f5f",
             "gridcolor": "white",
             "linecolor": "white",
             "minorgridcolor": "white",
             "startlinecolor": "#2a3f5f"
            },
            "type": "carpet"
           }
          ],
          "choropleth": [
           {
            "colorbar": {
             "outlinewidth": 0,
             "ticks": ""
            },
            "type": "choropleth"
           }
          ],
          "contour": [
           {
            "colorbar": {
             "outlinewidth": 0,
             "ticks": ""
            },
            "colorscale": [
             [
              0,
              "#0d0887"
             ],
             [
              0.1111111111111111,
              "#46039f"
             ],
             [
              0.2222222222222222,
              "#7201a8"
             ],
             [
              0.3333333333333333,
              "#9c179e"
             ],
             [
              0.4444444444444444,
              "#bd3786"
             ],
             [
              0.5555555555555556,
              "#d8576b"
             ],
             [
              0.6666666666666666,
              "#ed7953"
             ],
             [
              0.7777777777777778,
              "#fb9f3a"
             ],
             [
              0.8888888888888888,
              "#fdca26"
             ],
             [
              1,
              "#f0f921"
             ]
            ],
            "type": "contour"
           }
          ],
          "contourcarpet": [
           {
            "colorbar": {
             "outlinewidth": 0,
             "ticks": ""
            },
            "type": "contourcarpet"
           }
          ],
          "heatmap": [
           {
            "colorbar": {
             "outlinewidth": 0,
             "ticks": ""
            },
            "colorscale": [
             [
              0,
              "#0d0887"
             ],
             [
              0.1111111111111111,
              "#46039f"
             ],
             [
              0.2222222222222222,
              "#7201a8"
             ],
             [
              0.3333333333333333,
              "#9c179e"
             ],
             [
              0.4444444444444444,
              "#bd3786"
             ],
             [
              0.5555555555555556,
              "#d8576b"
             ],
             [
              0.6666666666666666,
              "#ed7953"
             ],
             [
              0.7777777777777778,
              "#fb9f3a"
             ],
             [
              0.8888888888888888,
              "#fdca26"
             ],
             [
              1,
              "#f0f921"
             ]
            ],
            "type": "heatmap"
           }
          ],
          "histogram": [
           {
            "marker": {
             "pattern": {
              "fillmode": "overlay",
              "size": 10,
              "solidity": 0.2
             }
            },
            "type": "histogram"
           }
          ],
          "histogram2d": [
           {
            "colorbar": {
             "outlinewidth": 0,
             "ticks": ""
            },
            "colorscale": [
             [
              0,
              "#0d0887"
             ],
             [
              0.1111111111111111,
              "#46039f"
             ],
             [
              0.2222222222222222,
              "#7201a8"
             ],
             [
              0.3333333333333333,
              "#9c179e"
             ],
             [
              0.4444444444444444,
              "#bd3786"
             ],
             [
              0.5555555555555556,
              "#d8576b"
             ],
             [
              0.6666666666666666,
              "#ed7953"
             ],
             [
              0.7777777777777778,
              "#fb9f3a"
             ],
             [
              0.8888888888888888,
              "#fdca26"
             ],
             [
              1,
              "#f0f921"
             ]
            ],
            "type": "histogram2d"
           }
          ],
          "histogram2dcontour": [
           {
            "colorbar": {
             "outlinewidth": 0,
             "ticks": ""
            },
            "colorscale": [
             [
              0,
              "#0d0887"
             ],
             [
              0.1111111111111111,
              "#46039f"
             ],
             [
              0.2222222222222222,
              "#7201a8"
             ],
             [
              0.3333333333333333,
              "#9c179e"
             ],
             [
              0.4444444444444444,
              "#bd3786"
             ],
             [
              0.5555555555555556,
              "#d8576b"
             ],
             [
              0.6666666666666666,
              "#ed7953"
             ],
             [
              0.7777777777777778,
              "#fb9f3a"
             ],
             [
              0.8888888888888888,
              "#fdca26"
             ],
             [
              1,
              "#f0f921"
             ]
            ],
            "type": "histogram2dcontour"
           }
          ],
          "mesh3d": [
           {
            "colorbar": {
             "outlinewidth": 0,
             "ticks": ""
            },
            "type": "mesh3d"
           }
          ],
          "parcoords": [
           {
            "line": {
             "colorbar": {
              "outlinewidth": 0,
              "ticks": ""
             }
            },
            "type": "parcoords"
           }
          ],
          "pie": [
           {
            "automargin": true,
            "type": "pie"
           }
          ],
          "scatter": [
           {
            "fillpattern": {
             "fillmode": "overlay",
             "size": 10,
             "solidity": 0.2
            },
            "type": "scatter"
           }
          ],
          "scatter3d": [
           {
            "line": {
             "colorbar": {
              "outlinewidth": 0,
              "ticks": ""
             }
            },
            "marker": {
             "colorbar": {
              "outlinewidth": 0,
              "ticks": ""
             }
            },
            "type": "scatter3d"
           }
          ],
          "scattercarpet": [
           {
            "marker": {
             "colorbar": {
              "outlinewidth": 0,
              "ticks": ""
             }
            },
            "type": "scattercarpet"
           }
          ],
          "scattergeo": [
           {
            "marker": {
             "colorbar": {
              "outlinewidth": 0,
              "ticks": ""
             }
            },
            "type": "scattergeo"
           }
          ],
          "scattergl": [
           {
            "marker": {
             "colorbar": {
              "outlinewidth": 0,
              "ticks": ""
             }
            },
            "type": "scattergl"
           }
          ],
          "scattermap": [
           {
            "marker": {
             "colorbar": {
              "outlinewidth": 0,
              "ticks": ""
             }
            },
            "type": "scattermap"
           }
          ],
          "scattermapbox": [
           {
            "marker": {
             "colorbar": {
              "outlinewidth": 0,
              "ticks": ""
             }
            },
            "type": "scattermapbox"
           }
          ],
          "scatterpolar": [
           {
            "marker": {
             "colorbar": {
              "outlinewidth": 0,
              "ticks": ""
             }
            },
            "type": "scatterpolar"
           }
          ],
          "scatterpolargl": [
           {
            "marker": {
             "colorbar": {
              "outlinewidth": 0,
              "ticks": ""
             }
            },
            "type": "scatterpolargl"
           }
          ],
          "scatterternary": [
           {
            "marker": {
             "colorbar": {
              "outlinewidth": 0,
              "ticks": ""
             }
            },
            "type": "scatterternary"
           }
          ],
          "surface": [
           {
            "colorbar": {
             "outlinewidth": 0,
             "ticks": ""
            },
            "colorscale": [
             [
              0,
              "#0d0887"
             ],
             [
              0.1111111111111111,
              "#46039f"
             ],
             [
              0.2222222222222222,
              "#7201a8"
             ],
             [
              0.3333333333333333,
              "#9c179e"
             ],
             [
              0.4444444444444444,
              "#bd3786"
             ],
             [
              0.5555555555555556,
              "#d8576b"
             ],
             [
              0.6666666666666666,
              "#ed7953"
             ],
             [
              0.7777777777777778,
              "#fb9f3a"
             ],
             [
              0.8888888888888888,
              "#fdca26"
             ],
             [
              1,
              "#f0f921"
             ]
            ],
            "type": "surface"
           }
          ],
          "table": [
           {
            "cells": {
             "fill": {
              "color": "#EBF0F8"
             },
             "line": {
              "color": "white"
             }
            },
            "header": {
             "fill": {
              "color": "#C8D4E3"
             },
             "line": {
              "color": "white"
             }
            },
            "type": "table"
           }
          ]
         },
         "layout": {
          "annotationdefaults": {
           "arrowcolor": "#2a3f5f",
           "arrowhead": 0,
           "arrowwidth": 1
          },
          "autotypenumbers": "strict",
          "coloraxis": {
           "colorbar": {
            "outlinewidth": 0,
            "ticks": ""
           }
          },
          "colorscale": {
           "diverging": [
            [
             0,
             "#8e0152"
            ],
            [
             0.1,
             "#c51b7d"
            ],
            [
             0.2,
             "#de77ae"
            ],
            [
             0.3,
             "#f1b6da"
            ],
            [
             0.4,
             "#fde0ef"
            ],
            [
             0.5,
             "#f7f7f7"
            ],
            [
             0.6,
             "#e6f5d0"
            ],
            [
             0.7,
             "#b8e186"
            ],
            [
             0.8,
             "#7fbc41"
            ],
            [
             0.9,
             "#4d9221"
            ],
            [
             1,
             "#276419"
            ]
           ],
           "sequential": [
            [
             0,
             "#0d0887"
            ],
            [
             0.1111111111111111,
             "#46039f"
            ],
            [
             0.2222222222222222,
             "#7201a8"
            ],
            [
             0.3333333333333333,
             "#9c179e"
            ],
            [
             0.4444444444444444,
             "#bd3786"
            ],
            [
             0.5555555555555556,
             "#d8576b"
            ],
            [
             0.6666666666666666,
             "#ed7953"
            ],
            [
             0.7777777777777778,
             "#fb9f3a"
            ],
            [
             0.8888888888888888,
             "#fdca26"
            ],
            [
             1,
             "#f0f921"
            ]
           ],
           "sequentialminus": [
            [
             0,
             "#0d0887"
            ],
            [
             0.1111111111111111,
             "#46039f"
            ],
            [
             0.2222222222222222,
             "#7201a8"
            ],
            [
             0.3333333333333333,
             "#9c179e"
            ],
            [
             0.4444444444444444,
             "#bd3786"
            ],
            [
             0.5555555555555556,
             "#d8576b"
            ],
            [
             0.6666666666666666,
             "#ed7953"
            ],
            [
             0.7777777777777778,
             "#fb9f3a"
            ],
            [
             0.8888888888888888,
             "#fdca26"
            ],
            [
             1,
             "#f0f921"
            ]
           ]
          },
          "colorway": [
           "#636efa",
           "#EF553B",
           "#00cc96",
           "#ab63fa",
           "#FFA15A",
           "#19d3f3",
           "#FF6692",
           "#B6E880",
           "#FF97FF",
           "#FECB52"
          ],
          "font": {
           "color": "#2a3f5f"
          },
          "geo": {
           "bgcolor": "white",
           "lakecolor": "white",
           "landcolor": "#E5ECF6",
           "showlakes": true,
           "showland": true,
           "subunitcolor": "white"
          },
          "hoverlabel": {
           "align": "left"
          },
          "hovermode": "closest",
          "mapbox": {
           "style": "light"
          },
          "paper_bgcolor": "white",
          "plot_bgcolor": "#E5ECF6",
          "polar": {
           "angularaxis": {
            "gridcolor": "white",
            "linecolor": "white",
            "ticks": ""
           },
           "bgcolor": "#E5ECF6",
           "radialaxis": {
            "gridcolor": "white",
            "linecolor": "white",
            "ticks": ""
           }
          },
          "scene": {
           "xaxis": {
            "backgroundcolor": "#E5ECF6",
            "gridcolor": "white",
            "gridwidth": 2,
            "linecolor": "white",
            "showbackground": true,
            "ticks": "",
            "zerolinecolor": "white"
           },
           "yaxis": {
            "backgroundcolor": "#E5ECF6",
            "gridcolor": "white",
            "gridwidth": 2,
            "linecolor": "white",
            "showbackground": true,
            "ticks": "",
            "zerolinecolor": "white"
           },
           "zaxis": {
            "backgroundcolor": "#E5ECF6",
            "gridcolor": "white",
            "gridwidth": 2,
            "linecolor": "white",
            "showbackground": true,
            "ticks": "",
            "zerolinecolor": "white"
           }
          },
          "shapedefaults": {
           "line": {
            "color": "#2a3f5f"
           }
          },
          "ternary": {
           "aaxis": {
            "gridcolor": "white",
            "linecolor": "white",
            "ticks": ""
           },
           "baxis": {
            "gridcolor": "white",
            "linecolor": "white",
            "ticks": ""
           },
           "bgcolor": "#E5ECF6",
           "caxis": {
            "gridcolor": "white",
            "linecolor": "white",
            "ticks": ""
           }
          },
          "title": {
           "x": 0.05
          },
          "xaxis": {
           "automargin": true,
           "gridcolor": "white",
           "linecolor": "white",
           "ticks": "",
           "title": {
            "standoff": 15
           },
           "zerolinecolor": "white",
           "zerolinewidth": 2
          },
          "yaxis": {
           "automargin": true,
           "gridcolor": "white",
           "linecolor": "white",
           "ticks": "",
           "title": {
            "standoff": 15
           },
           "zerolinecolor": "white",
           "zerolinewidth": 2
          }
         }
        },
        "title": {
         "text": "Boxplot da variável faturamento por segmento de cliente"
        },
        "xaxis": {
         "anchor": "y",
         "categoryarray": [
          "Starter",
          "Bronze",
          "Silver",
          "Gold"
         ],
         "categoryorder": "array",
         "domain": [
          0,
          1
         ],
         "title": {
          "text": "segmento_de_cliente"
         }
        },
        "yaxis": {
         "anchor": "x",
         "domain": [
          0,
          1
         ],
         "title": {
          "text": "faturamento_mensal"
         }
        }
       }
      }
     },
     "metadata": {},
     "output_type": "display_data"
    }
   ],
   "source": [
    "# Boxplot entre faturamento e segmento de cliente\n",
    "px.box(df_segmento, x='segmento_de_cliente', y='faturamento_mensal', \n",
    "       title='Boxplot da variável faturamento por segmento de cliente',\n",
    "       color='segmento_de_cliente',\n",
    "       category_orders={'segmento_de_cliente': lista_segmentos})"
   ]
  },
  {
   "cell_type": "code",
   "execution_count": 80,
   "metadata": {},
   "outputs": [
    {
     "name": "stderr",
     "output_type": "stream",
     "text": [
      "/home/srmatheusmaciel/.local/share/virtualenvs/classificacao_arvore_decisao-pApQBjQT/lib/python3.12/site-packages/pingouin/contingency.py:151: UserWarning:\n",
      "\n",
      "Low count on observed frequencies.\n",
      "\n",
      "/home/srmatheusmaciel/.local/share/virtualenvs/classificacao_arvore_decisao-pApQBjQT/lib/python3.12/site-packages/pingouin/contingency.py:151: UserWarning:\n",
      "\n",
      "Low count on expected frequencies.\n",
      "\n"
     ]
    }
   ],
   "source": [
    "# Correlação variáveis qualitativas\n",
    "# Teste de qui-quadrado de pearson - Teste de independência\n",
    "# Teste de hipótese\n",
    "# H0: As variáveis são independentes\n",
    "# H1: As variáveis são dependentes (não são independentes)\n",
    "# se o p-valor for menor que 0.05 rejeitamos a hipótese nula\n",
    "# se o p-valor for maior que 0.05 não rejeitamos a hipótese nula\n",
    "\n",
    "# Teste de independência entre segmento de cliente e localização\n",
    "valor_esperado, valor_observado, estatísticas =  pg.chi2_independence(df_segmento, x='segmento_de_cliente', y='localizacao')"
   ]
  },
  {
   "cell_type": "code",
   "execution_count": 81,
   "metadata": {},
   "outputs": [
    {
     "data": {
      "text/html": [
       "<div>\n",
       "<style scoped>\n",
       "    .dataframe tbody tr th:only-of-type {\n",
       "        vertical-align: middle;\n",
       "    }\n",
       "\n",
       "    .dataframe tbody tr th {\n",
       "        vertical-align: top;\n",
       "    }\n",
       "\n",
       "    .dataframe thead th {\n",
       "        text-align: right;\n",
       "    }\n",
       "</style>\n",
       "<table border=\"1\" class=\"dataframe\">\n",
       "  <thead>\n",
       "    <tr style=\"text-align: right;\">\n",
       "      <th>localizacao</th>\n",
       "      <th>Belo Horizonte</th>\n",
       "      <th>Rio de Janeiro</th>\n",
       "      <th>São Paulo</th>\n",
       "      <th>Vitória</th>\n",
       "    </tr>\n",
       "    <tr>\n",
       "      <th>segmento_de_cliente</th>\n",
       "      <th></th>\n",
       "      <th></th>\n",
       "      <th></th>\n",
       "      <th></th>\n",
       "    </tr>\n",
       "  </thead>\n",
       "  <tbody>\n",
       "    <tr>\n",
       "      <th>Bronze</th>\n",
       "      <td>44.844</td>\n",
       "      <td>52.924</td>\n",
       "      <td>48.884</td>\n",
       "      <td>55.348</td>\n",
       "    </tr>\n",
       "    <tr>\n",
       "      <th>Gold</th>\n",
       "      <td>3.552</td>\n",
       "      <td>4.192</td>\n",
       "      <td>3.872</td>\n",
       "      <td>4.384</td>\n",
       "    </tr>\n",
       "    <tr>\n",
       "      <th>Silver</th>\n",
       "      <td>57.720</td>\n",
       "      <td>68.120</td>\n",
       "      <td>62.920</td>\n",
       "      <td>71.240</td>\n",
       "    </tr>\n",
       "    <tr>\n",
       "      <th>Starter</th>\n",
       "      <td>4.884</td>\n",
       "      <td>5.764</td>\n",
       "      <td>5.324</td>\n",
       "      <td>6.028</td>\n",
       "    </tr>\n",
       "  </tbody>\n",
       "</table>\n",
       "</div>"
      ],
      "text/plain": [
       "localizacao          Belo Horizonte  Rio de Janeiro  São Paulo  Vitória\n",
       "segmento_de_cliente                                                    \n",
       "Bronze                       44.844          52.924     48.884   55.348\n",
       "Gold                          3.552           4.192      3.872    4.384\n",
       "Silver                       57.720          68.120     62.920   71.240\n",
       "Starter                       4.884           5.764      5.324    6.028"
      ]
     },
     "execution_count": 81,
     "metadata": {},
     "output_type": "execute_result"
    }
   ],
   "source": [
    "# Valor esperado\n",
    "# É a frequencia que seria esperada se não houvesse relação entre as variáveis\n",
    "# é calculado utilizando a distribuição assumida no test do qui-quadrado\n",
    "valor_esperado"
   ]
  },
  {
   "cell_type": "code",
   "execution_count": 82,
   "metadata": {},
   "outputs": [
    {
     "data": {
      "text/html": [
       "<div>\n",
       "<style scoped>\n",
       "    .dataframe tbody tr th:only-of-type {\n",
       "        vertical-align: middle;\n",
       "    }\n",
       "\n",
       "    .dataframe tbody tr th {\n",
       "        vertical-align: top;\n",
       "    }\n",
       "\n",
       "    .dataframe thead th {\n",
       "        text-align: right;\n",
       "    }\n",
       "</style>\n",
       "<table border=\"1\" class=\"dataframe\">\n",
       "  <thead>\n",
       "    <tr style=\"text-align: right;\">\n",
       "      <th>localizacao</th>\n",
       "      <th>Belo Horizonte</th>\n",
       "      <th>Rio de Janeiro</th>\n",
       "      <th>São Paulo</th>\n",
       "      <th>Vitória</th>\n",
       "    </tr>\n",
       "    <tr>\n",
       "      <th>segmento_de_cliente</th>\n",
       "      <th></th>\n",
       "      <th></th>\n",
       "      <th></th>\n",
       "      <th></th>\n",
       "    </tr>\n",
       "  </thead>\n",
       "  <tbody>\n",
       "    <tr>\n",
       "      <th>Bronze</th>\n",
       "      <td>39</td>\n",
       "      <td>62</td>\n",
       "      <td>45</td>\n",
       "      <td>56</td>\n",
       "    </tr>\n",
       "    <tr>\n",
       "      <th>Gold</th>\n",
       "      <td>4</td>\n",
       "      <td>3</td>\n",
       "      <td>5</td>\n",
       "      <td>4</td>\n",
       "    </tr>\n",
       "    <tr>\n",
       "      <th>Silver</th>\n",
       "      <td>63</td>\n",
       "      <td>60</td>\n",
       "      <td>65</td>\n",
       "      <td>72</td>\n",
       "    </tr>\n",
       "    <tr>\n",
       "      <th>Starter</th>\n",
       "      <td>5</td>\n",
       "      <td>6</td>\n",
       "      <td>6</td>\n",
       "      <td>5</td>\n",
       "    </tr>\n",
       "  </tbody>\n",
       "</table>\n",
       "</div>"
      ],
      "text/plain": [
       "localizacao          Belo Horizonte  Rio de Janeiro  São Paulo  Vitória\n",
       "segmento_de_cliente                                                    \n",
       "Bronze                           39              62         45       56\n",
       "Gold                              4               3          5        4\n",
       "Silver                           63              60         65       72\n",
       "Starter                           5               6          6        5"
      ]
     },
     "execution_count": 82,
     "metadata": {},
     "output_type": "execute_result"
    }
   ],
   "source": [
    "# Valor observado\n",
    "# É a frequencia real observada entre as variáveis\n",
    "valor_observado"
   ]
  },
  {
   "cell_type": "code",
   "execution_count": 83,
   "metadata": {},
   "outputs": [
    {
     "data": {
      "text/html": [
       "<div>\n",
       "<style scoped>\n",
       "    .dataframe tbody tr th:only-of-type {\n",
       "        vertical-align: middle;\n",
       "    }\n",
       "\n",
       "    .dataframe tbody tr th {\n",
       "        vertical-align: top;\n",
       "    }\n",
       "\n",
       "    .dataframe thead th {\n",
       "        text-align: right;\n",
       "    }\n",
       "</style>\n",
       "<table border=\"1\" class=\"dataframe\">\n",
       "  <thead>\n",
       "    <tr style=\"text-align: right;\">\n",
       "      <th></th>\n",
       "      <th>test</th>\n",
       "      <th>lambda</th>\n",
       "      <th>chi2</th>\n",
       "      <th>dof</th>\n",
       "      <th>pval</th>\n",
       "      <th>cramer</th>\n",
       "      <th>power</th>\n",
       "    </tr>\n",
       "  </thead>\n",
       "  <tbody>\n",
       "    <tr>\n",
       "      <th>0</th>\n",
       "      <td>pearson</td>\n",
       "      <td>1.00</td>\n",
       "      <td>5.19</td>\n",
       "      <td>9.0</td>\n",
       "      <td>0.82</td>\n",
       "      <td>0.06</td>\n",
       "      <td>0.11</td>\n",
       "    </tr>\n",
       "    <tr>\n",
       "      <th>1</th>\n",
       "      <td>cressie-read</td>\n",
       "      <td>0.67</td>\n",
       "      <td>5.19</td>\n",
       "      <td>9.0</td>\n",
       "      <td>0.82</td>\n",
       "      <td>0.06</td>\n",
       "      <td>0.11</td>\n",
       "    </tr>\n",
       "    <tr>\n",
       "      <th>2</th>\n",
       "      <td>log-likelihood</td>\n",
       "      <td>0.00</td>\n",
       "      <td>5.20</td>\n",
       "      <td>9.0</td>\n",
       "      <td>0.82</td>\n",
       "      <td>0.06</td>\n",
       "      <td>0.11</td>\n",
       "    </tr>\n",
       "    <tr>\n",
       "      <th>3</th>\n",
       "      <td>freeman-tukey</td>\n",
       "      <td>-0.50</td>\n",
       "      <td>5.21</td>\n",
       "      <td>9.0</td>\n",
       "      <td>0.82</td>\n",
       "      <td>0.06</td>\n",
       "      <td>0.11</td>\n",
       "    </tr>\n",
       "    <tr>\n",
       "      <th>4</th>\n",
       "      <td>mod-log-likelihood</td>\n",
       "      <td>-1.00</td>\n",
       "      <td>5.22</td>\n",
       "      <td>9.0</td>\n",
       "      <td>0.81</td>\n",
       "      <td>0.06</td>\n",
       "      <td>0.11</td>\n",
       "    </tr>\n",
       "    <tr>\n",
       "      <th>5</th>\n",
       "      <td>neyman</td>\n",
       "      <td>-2.00</td>\n",
       "      <td>5.28</td>\n",
       "      <td>9.0</td>\n",
       "      <td>0.81</td>\n",
       "      <td>0.06</td>\n",
       "      <td>0.11</td>\n",
       "    </tr>\n",
       "  </tbody>\n",
       "</table>\n",
       "</div>"
      ],
      "text/plain": [
       "                 test  lambda  chi2  dof  pval  cramer  power\n",
       "0             pearson    1.00  5.19  9.0  0.82    0.06   0.11\n",
       "1        cressie-read    0.67  5.19  9.0  0.82    0.06   0.11\n",
       "2      log-likelihood    0.00  5.20  9.0  0.82    0.06   0.11\n",
       "3       freeman-tukey   -0.50  5.21  9.0  0.82    0.06   0.11\n",
       "4  mod-log-likelihood   -1.00  5.22  9.0  0.81    0.06   0.11\n",
       "5              neyman   -2.00  5.28  9.0  0.81    0.06   0.11"
      ]
     },
     "execution_count": 83,
     "metadata": {},
     "output_type": "execute_result"
    }
   ],
   "source": [
    "# Estatísticas\n",
    "# Estatísticas do teste do qui-quadrado\n",
    "estatísticas.round(2)"
   ]
  },
  {
   "cell_type": "markdown",
   "metadata": {},
   "source": [
    "As variaveis localização e segmento de cliente são independentes.\n",
    "Qui-Quadrado (p-value = 0.82)"
   ]
  },
  {
   "cell_type": "code",
   "execution_count": 84,
   "metadata": {},
   "outputs": [
    {
     "name": "stderr",
     "output_type": "stream",
     "text": [
      "/home/srmatheusmaciel/.local/share/virtualenvs/classificacao_arvore_decisao-pApQBjQT/lib/python3.12/site-packages/pingouin/contingency.py:151: UserWarning:\n",
      "\n",
      "Low count on observed frequencies.\n",
      "\n",
      "/home/srmatheusmaciel/.local/share/virtualenvs/classificacao_arvore_decisao-pApQBjQT/lib/python3.12/site-packages/pingouin/contingency.py:151: UserWarning:\n",
      "\n",
      "Low count on expected frequencies.\n",
      "\n",
      "/home/srmatheusmaciel/.local/share/virtualenvs/classificacao_arvore_decisao-pApQBjQT/lib/python3.12/site-packages/scipy/stats/_stats_py.py:7344: RuntimeWarning:\n",
      "\n",
      "divide by zero encountered in power\n",
      "\n",
      "/home/srmatheusmaciel/.local/share/virtualenvs/classificacao_arvore_decisao-pApQBjQT/lib/python3.12/site-packages/scipy/stats/_stats_py.py:7344: RuntimeWarning:\n",
      "\n",
      "invalid value encountered in multiply\n",
      "\n",
      "/home/srmatheusmaciel/.local/share/virtualenvs/classificacao_arvore_decisao-pApQBjQT/lib/python3.12/site-packages/scipy/stats/_stats_py.py:7341: RuntimeWarning:\n",
      "\n",
      "divide by zero encountered in divide\n",
      "\n"
     ]
    }
   ],
   "source": [
    "# Teste de independência entre segmento de cliente e atividade economica\n",
    "valor_esperado, valor_observado, estatísticas =  pg.chi2_independence(df_segmento, x='segmento_de_cliente', y='atividade_economica')"
   ]
  },
  {
   "cell_type": "code",
   "execution_count": 85,
   "metadata": {},
   "outputs": [
    {
     "data": {
      "text/html": [
       "<div>\n",
       "<style scoped>\n",
       "    .dataframe tbody tr th:only-of-type {\n",
       "        vertical-align: middle;\n",
       "    }\n",
       "\n",
       "    .dataframe tbody tr th {\n",
       "        vertical-align: top;\n",
       "    }\n",
       "\n",
       "    .dataframe thead th {\n",
       "        text-align: right;\n",
       "    }\n",
       "</style>\n",
       "<table border=\"1\" class=\"dataframe\">\n",
       "  <thead>\n",
       "    <tr style=\"text-align: right;\">\n",
       "      <th>atividade_economica</th>\n",
       "      <th>Agronegócio</th>\n",
       "      <th>Comércio</th>\n",
       "      <th>Indústria</th>\n",
       "      <th>Serviços</th>\n",
       "    </tr>\n",
       "    <tr>\n",
       "      <th>segmento_de_cliente</th>\n",
       "      <th></th>\n",
       "      <th></th>\n",
       "      <th></th>\n",
       "      <th></th>\n",
       "    </tr>\n",
       "  </thead>\n",
       "  <tbody>\n",
       "    <tr>\n",
       "      <th>Bronze</th>\n",
       "      <td>47.672</td>\n",
       "      <td>56.156</td>\n",
       "      <td>49.288</td>\n",
       "      <td>48.884</td>\n",
       "    </tr>\n",
       "    <tr>\n",
       "      <th>Gold</th>\n",
       "      <td>3.776</td>\n",
       "      <td>4.448</td>\n",
       "      <td>3.904</td>\n",
       "      <td>3.872</td>\n",
       "    </tr>\n",
       "    <tr>\n",
       "      <th>Silver</th>\n",
       "      <td>61.360</td>\n",
       "      <td>72.280</td>\n",
       "      <td>63.440</td>\n",
       "      <td>62.920</td>\n",
       "    </tr>\n",
       "    <tr>\n",
       "      <th>Starter</th>\n",
       "      <td>5.192</td>\n",
       "      <td>6.116</td>\n",
       "      <td>5.368</td>\n",
       "      <td>5.324</td>\n",
       "    </tr>\n",
       "  </tbody>\n",
       "</table>\n",
       "</div>"
      ],
      "text/plain": [
       "atividade_economica  Agronegócio  Comércio  Indústria  Serviços\n",
       "segmento_de_cliente                                            \n",
       "Bronze                    47.672    56.156     49.288    48.884\n",
       "Gold                       3.776     4.448      3.904     3.872\n",
       "Silver                    61.360    72.280     63.440    62.920\n",
       "Starter                    5.192     6.116      5.368     5.324"
      ]
     },
     "execution_count": 85,
     "metadata": {},
     "output_type": "execute_result"
    }
   ],
   "source": [
    "valor_esperado"
   ]
  },
  {
   "cell_type": "code",
   "execution_count": 86,
   "metadata": {},
   "outputs": [
    {
     "data": {
      "text/html": [
       "<div>\n",
       "<style scoped>\n",
       "    .dataframe tbody tr th:only-of-type {\n",
       "        vertical-align: middle;\n",
       "    }\n",
       "\n",
       "    .dataframe tbody tr th {\n",
       "        vertical-align: top;\n",
       "    }\n",
       "\n",
       "    .dataframe thead th {\n",
       "        text-align: right;\n",
       "    }\n",
       "</style>\n",
       "<table border=\"1\" class=\"dataframe\">\n",
       "  <thead>\n",
       "    <tr style=\"text-align: right;\">\n",
       "      <th>atividade_economica</th>\n",
       "      <th>Agronegócio</th>\n",
       "      <th>Comércio</th>\n",
       "      <th>Indústria</th>\n",
       "      <th>Serviços</th>\n",
       "    </tr>\n",
       "    <tr>\n",
       "      <th>segmento_de_cliente</th>\n",
       "      <th></th>\n",
       "      <th></th>\n",
       "      <th></th>\n",
       "      <th></th>\n",
       "    </tr>\n",
       "  </thead>\n",
       "  <tbody>\n",
       "    <tr>\n",
       "      <th>Bronze</th>\n",
       "      <td>47</td>\n",
       "      <td>56</td>\n",
       "      <td>50</td>\n",
       "      <td>49</td>\n",
       "    </tr>\n",
       "    <tr>\n",
       "      <th>Gold</th>\n",
       "      <td>7</td>\n",
       "      <td>5</td>\n",
       "      <td>4</td>\n",
       "      <td>0</td>\n",
       "    </tr>\n",
       "    <tr>\n",
       "      <th>Silver</th>\n",
       "      <td>57</td>\n",
       "      <td>75</td>\n",
       "      <td>63</td>\n",
       "      <td>65</td>\n",
       "    </tr>\n",
       "    <tr>\n",
       "      <th>Starter</th>\n",
       "      <td>7</td>\n",
       "      <td>3</td>\n",
       "      <td>5</td>\n",
       "      <td>7</td>\n",
       "    </tr>\n",
       "  </tbody>\n",
       "</table>\n",
       "</div>"
      ],
      "text/plain": [
       "atividade_economica  Agronegócio  Comércio  Indústria  Serviços\n",
       "segmento_de_cliente                                            \n",
       "Bronze                        47        56         50        49\n",
       "Gold                           7         5          4         0\n",
       "Silver                        57        75         63        65\n",
       "Starter                        7         3          5         7"
      ]
     },
     "execution_count": 86,
     "metadata": {},
     "output_type": "execute_result"
    }
   ],
   "source": [
    "valor_observado"
   ]
  },
  {
   "cell_type": "code",
   "execution_count": 87,
   "metadata": {},
   "outputs": [
    {
     "data": {
      "text/html": [
       "<div>\n",
       "<style scoped>\n",
       "    .dataframe tbody tr th:only-of-type {\n",
       "        vertical-align: middle;\n",
       "    }\n",
       "\n",
       "    .dataframe tbody tr th {\n",
       "        vertical-align: top;\n",
       "    }\n",
       "\n",
       "    .dataframe thead th {\n",
       "        text-align: right;\n",
       "    }\n",
       "</style>\n",
       "<table border=\"1\" class=\"dataframe\">\n",
       "  <thead>\n",
       "    <tr style=\"text-align: right;\">\n",
       "      <th></th>\n",
       "      <th>test</th>\n",
       "      <th>lambda</th>\n",
       "      <th>chi2</th>\n",
       "      <th>dof</th>\n",
       "      <th>pval</th>\n",
       "      <th>cramer</th>\n",
       "      <th>power</th>\n",
       "    </tr>\n",
       "  </thead>\n",
       "  <tbody>\n",
       "    <tr>\n",
       "      <th>0</th>\n",
       "      <td>pearson</td>\n",
       "      <td>1.00</td>\n",
       "      <td>9.97</td>\n",
       "      <td>9.0</td>\n",
       "      <td>0.35</td>\n",
       "      <td>0.08</td>\n",
       "      <td>0.19</td>\n",
       "    </tr>\n",
       "    <tr>\n",
       "      <th>1</th>\n",
       "      <td>cressie-read</td>\n",
       "      <td>0.67</td>\n",
       "      <td>10.61</td>\n",
       "      <td>9.0</td>\n",
       "      <td>0.30</td>\n",
       "      <td>0.08</td>\n",
       "      <td>0.20</td>\n",
       "    </tr>\n",
       "    <tr>\n",
       "      <th>2</th>\n",
       "      <td>log-likelihood</td>\n",
       "      <td>0.00</td>\n",
       "      <td>13.55</td>\n",
       "      <td>9.0</td>\n",
       "      <td>0.14</td>\n",
       "      <td>0.10</td>\n",
       "      <td>0.25</td>\n",
       "    </tr>\n",
       "    <tr>\n",
       "      <th>3</th>\n",
       "      <td>freeman-tukey</td>\n",
       "      <td>-0.50</td>\n",
       "      <td>NaN</td>\n",
       "      <td>9.0</td>\n",
       "      <td>NaN</td>\n",
       "      <td>NaN</td>\n",
       "      <td>NaN</td>\n",
       "    </tr>\n",
       "    <tr>\n",
       "      <th>4</th>\n",
       "      <td>mod-log-likelihood</td>\n",
       "      <td>-1.00</td>\n",
       "      <td>inf</td>\n",
       "      <td>9.0</td>\n",
       "      <td>0.00</td>\n",
       "      <td>inf</td>\n",
       "      <td>NaN</td>\n",
       "    </tr>\n",
       "    <tr>\n",
       "      <th>5</th>\n",
       "      <td>neyman</td>\n",
       "      <td>-2.00</td>\n",
       "      <td>NaN</td>\n",
       "      <td>9.0</td>\n",
       "      <td>NaN</td>\n",
       "      <td>NaN</td>\n",
       "      <td>NaN</td>\n",
       "    </tr>\n",
       "  </tbody>\n",
       "</table>\n",
       "</div>"
      ],
      "text/plain": [
       "                 test  lambda   chi2  dof  pval  cramer  power\n",
       "0             pearson    1.00   9.97  9.0  0.35    0.08   0.19\n",
       "1        cressie-read    0.67  10.61  9.0  0.30    0.08   0.20\n",
       "2      log-likelihood    0.00  13.55  9.0  0.14    0.10   0.25\n",
       "3       freeman-tukey   -0.50    NaN  9.0   NaN     NaN    NaN\n",
       "4  mod-log-likelihood   -1.00    inf  9.0  0.00     inf    NaN\n",
       "5              neyman   -2.00    NaN  9.0   NaN     NaN    NaN"
      ]
     },
     "execution_count": 87,
     "metadata": {},
     "output_type": "execute_result"
    }
   ],
   "source": [
    "estatísticas.round(2)"
   ]
  },
  {
   "cell_type": "markdown",
   "metadata": {},
   "source": [
    "As variáveis atividade economica e segmento de cliente são independentes\n",
    "Qui-Quadrado(p-value=0.35)"
   ]
  },
  {
   "cell_type": "code",
   "execution_count": 88,
   "metadata": {},
   "outputs": [
    {
     "name": "stderr",
     "output_type": "stream",
     "text": [
      "/home/srmatheusmaciel/.local/share/virtualenvs/classificacao_arvore_decisao-pApQBjQT/lib/python3.12/site-packages/pingouin/contingency.py:151: UserWarning:\n",
      "\n",
      "Low count on observed frequencies.\n",
      "\n",
      "/home/srmatheusmaciel/.local/share/virtualenvs/classificacao_arvore_decisao-pApQBjQT/lib/python3.12/site-packages/pingouin/contingency.py:151: UserWarning:\n",
      "\n",
      "Low count on expected frequencies.\n",
      "\n",
      "/home/srmatheusmaciel/.local/share/virtualenvs/classificacao_arvore_decisao-pApQBjQT/lib/python3.12/site-packages/scipy/stats/_stats_py.py:7344: RuntimeWarning:\n",
      "\n",
      "divide by zero encountered in power\n",
      "\n",
      "/home/srmatheusmaciel/.local/share/virtualenvs/classificacao_arvore_decisao-pApQBjQT/lib/python3.12/site-packages/scipy/stats/_stats_py.py:7344: RuntimeWarning:\n",
      "\n",
      "invalid value encountered in multiply\n",
      "\n",
      "/home/srmatheusmaciel/.local/share/virtualenvs/classificacao_arvore_decisao-pApQBjQT/lib/python3.12/site-packages/scipy/stats/_stats_py.py:7341: RuntimeWarning:\n",
      "\n",
      "divide by zero encountered in divide\n",
      "\n"
     ]
    }
   ],
   "source": [
    "# Teste de independência entre segmento de cliente e inovação\n",
    "valor_esperado, valor_observado, estatísticas =  pg.chi2_independence(df_segmento, x='segmento_de_cliente', y='inovacao')"
   ]
  },
  {
   "cell_type": "code",
   "execution_count": 89,
   "metadata": {},
   "outputs": [
    {
     "data": {
      "text/html": [
       "<div>\n",
       "<style scoped>\n",
       "    .dataframe tbody tr th:only-of-type {\n",
       "        vertical-align: middle;\n",
       "    }\n",
       "\n",
       "    .dataframe tbody tr th {\n",
       "        vertical-align: top;\n",
       "    }\n",
       "\n",
       "    .dataframe thead th {\n",
       "        text-align: right;\n",
       "    }\n",
       "</style>\n",
       "<table border=\"1\" class=\"dataframe\">\n",
       "  <thead>\n",
       "    <tr style=\"text-align: right;\">\n",
       "      <th>inovacao</th>\n",
       "      <th>0</th>\n",
       "      <th>1</th>\n",
       "      <th>2</th>\n",
       "      <th>3</th>\n",
       "      <th>4</th>\n",
       "      <th>5</th>\n",
       "      <th>6</th>\n",
       "      <th>7</th>\n",
       "      <th>8</th>\n",
       "      <th>9</th>\n",
       "    </tr>\n",
       "    <tr>\n",
       "      <th>segmento_de_cliente</th>\n",
       "      <th></th>\n",
       "      <th></th>\n",
       "      <th></th>\n",
       "      <th></th>\n",
       "      <th></th>\n",
       "      <th></th>\n",
       "      <th></th>\n",
       "      <th></th>\n",
       "      <th></th>\n",
       "      <th></th>\n",
       "    </tr>\n",
       "  </thead>\n",
       "  <tbody>\n",
       "    <tr>\n",
       "      <th>Bronze</th>\n",
       "      <td>21.008</td>\n",
       "      <td>23.028</td>\n",
       "      <td>22.624</td>\n",
       "      <td>19.392</td>\n",
       "      <td>17.372</td>\n",
       "      <td>17.372</td>\n",
       "      <td>21.816</td>\n",
       "      <td>21.412</td>\n",
       "      <td>18.988</td>\n",
       "      <td>18.988</td>\n",
       "    </tr>\n",
       "    <tr>\n",
       "      <th>Gold</th>\n",
       "      <td>1.664</td>\n",
       "      <td>1.824</td>\n",
       "      <td>1.792</td>\n",
       "      <td>1.536</td>\n",
       "      <td>1.376</td>\n",
       "      <td>1.376</td>\n",
       "      <td>1.728</td>\n",
       "      <td>1.696</td>\n",
       "      <td>1.504</td>\n",
       "      <td>1.504</td>\n",
       "    </tr>\n",
       "    <tr>\n",
       "      <th>Silver</th>\n",
       "      <td>27.040</td>\n",
       "      <td>29.640</td>\n",
       "      <td>29.120</td>\n",
       "      <td>24.960</td>\n",
       "      <td>22.360</td>\n",
       "      <td>22.360</td>\n",
       "      <td>28.080</td>\n",
       "      <td>27.560</td>\n",
       "      <td>24.440</td>\n",
       "      <td>24.440</td>\n",
       "    </tr>\n",
       "    <tr>\n",
       "      <th>Starter</th>\n",
       "      <td>2.288</td>\n",
       "      <td>2.508</td>\n",
       "      <td>2.464</td>\n",
       "      <td>2.112</td>\n",
       "      <td>1.892</td>\n",
       "      <td>1.892</td>\n",
       "      <td>2.376</td>\n",
       "      <td>2.332</td>\n",
       "      <td>2.068</td>\n",
       "      <td>2.068</td>\n",
       "    </tr>\n",
       "  </tbody>\n",
       "</table>\n",
       "</div>"
      ],
      "text/plain": [
       "inovacao                  0       1       2       3       4       5       6  \\\n",
       "segmento_de_cliente                                                           \n",
       "Bronze               21.008  23.028  22.624  19.392  17.372  17.372  21.816   \n",
       "Gold                  1.664   1.824   1.792   1.536   1.376   1.376   1.728   \n",
       "Silver               27.040  29.640  29.120  24.960  22.360  22.360  28.080   \n",
       "Starter               2.288   2.508   2.464   2.112   1.892   1.892   2.376   \n",
       "\n",
       "inovacao                  7       8       9  \n",
       "segmento_de_cliente                          \n",
       "Bronze               21.412  18.988  18.988  \n",
       "Gold                  1.696   1.504   1.504  \n",
       "Silver               27.560  24.440  24.440  \n",
       "Starter               2.332   2.068   2.068  "
      ]
     },
     "execution_count": 89,
     "metadata": {},
     "output_type": "execute_result"
    }
   ],
   "source": [
    "valor_esperado"
   ]
  },
  {
   "cell_type": "code",
   "execution_count": 90,
   "metadata": {},
   "outputs": [
    {
     "data": {
      "text/html": [
       "<div>\n",
       "<style scoped>\n",
       "    .dataframe tbody tr th:only-of-type {\n",
       "        vertical-align: middle;\n",
       "    }\n",
       "\n",
       "    .dataframe tbody tr th {\n",
       "        vertical-align: top;\n",
       "    }\n",
       "\n",
       "    .dataframe thead th {\n",
       "        text-align: right;\n",
       "    }\n",
       "</style>\n",
       "<table border=\"1\" class=\"dataframe\">\n",
       "  <thead>\n",
       "    <tr style=\"text-align: right;\">\n",
       "      <th>inovacao</th>\n",
       "      <th>0</th>\n",
       "      <th>1</th>\n",
       "      <th>2</th>\n",
       "      <th>3</th>\n",
       "      <th>4</th>\n",
       "      <th>5</th>\n",
       "      <th>6</th>\n",
       "      <th>7</th>\n",
       "      <th>8</th>\n",
       "      <th>9</th>\n",
       "    </tr>\n",
       "    <tr>\n",
       "      <th>segmento_de_cliente</th>\n",
       "      <th></th>\n",
       "      <th></th>\n",
       "      <th></th>\n",
       "      <th></th>\n",
       "      <th></th>\n",
       "      <th></th>\n",
       "      <th></th>\n",
       "      <th></th>\n",
       "      <th></th>\n",
       "      <th></th>\n",
       "    </tr>\n",
       "  </thead>\n",
       "  <tbody>\n",
       "    <tr>\n",
       "      <th>Bronze</th>\n",
       "      <td>36</td>\n",
       "      <td>44</td>\n",
       "      <td>32</td>\n",
       "      <td>22</td>\n",
       "      <td>12</td>\n",
       "      <td>14</td>\n",
       "      <td>15</td>\n",
       "      <td>12</td>\n",
       "      <td>9</td>\n",
       "      <td>6</td>\n",
       "    </tr>\n",
       "    <tr>\n",
       "      <th>Gold</th>\n",
       "      <td>0</td>\n",
       "      <td>0</td>\n",
       "      <td>0</td>\n",
       "      <td>0</td>\n",
       "      <td>0</td>\n",
       "      <td>3</td>\n",
       "      <td>0</td>\n",
       "      <td>5</td>\n",
       "      <td>4</td>\n",
       "      <td>4</td>\n",
       "    </tr>\n",
       "    <tr>\n",
       "      <th>Silver</th>\n",
       "      <td>10</td>\n",
       "      <td>5</td>\n",
       "      <td>20</td>\n",
       "      <td>25</td>\n",
       "      <td>30</td>\n",
       "      <td>25</td>\n",
       "      <td>38</td>\n",
       "      <td>36</td>\n",
       "      <td>34</td>\n",
       "      <td>37</td>\n",
       "    </tr>\n",
       "    <tr>\n",
       "      <th>Starter</th>\n",
       "      <td>6</td>\n",
       "      <td>8</td>\n",
       "      <td>4</td>\n",
       "      <td>1</td>\n",
       "      <td>1</td>\n",
       "      <td>1</td>\n",
       "      <td>1</td>\n",
       "      <td>0</td>\n",
       "      <td>0</td>\n",
       "      <td>0</td>\n",
       "    </tr>\n",
       "  </tbody>\n",
       "</table>\n",
       "</div>"
      ],
      "text/plain": [
       "inovacao              0   1   2   3   4   5   6   7   8   9\n",
       "segmento_de_cliente                                        \n",
       "Bronze               36  44  32  22  12  14  15  12   9   6\n",
       "Gold                  0   0   0   0   0   3   0   5   4   4\n",
       "Silver               10   5  20  25  30  25  38  36  34  37\n",
       "Starter               6   8   4   1   1   1   1   0   0   0"
      ]
     },
     "execution_count": 90,
     "metadata": {},
     "output_type": "execute_result"
    }
   ],
   "source": [
    "valor_observado"
   ]
  },
  {
   "cell_type": "code",
   "execution_count": 91,
   "metadata": {},
   "outputs": [
    {
     "data": {
      "text/html": [
       "<div>\n",
       "<style scoped>\n",
       "    .dataframe tbody tr th:only-of-type {\n",
       "        vertical-align: middle;\n",
       "    }\n",
       "\n",
       "    .dataframe tbody tr th {\n",
       "        vertical-align: top;\n",
       "    }\n",
       "\n",
       "    .dataframe thead th {\n",
       "        text-align: right;\n",
       "    }\n",
       "</style>\n",
       "<table border=\"1\" class=\"dataframe\">\n",
       "  <thead>\n",
       "    <tr style=\"text-align: right;\">\n",
       "      <th></th>\n",
       "      <th>test</th>\n",
       "      <th>lambda</th>\n",
       "      <th>chi2</th>\n",
       "      <th>dof</th>\n",
       "      <th>pval</th>\n",
       "      <th>cramer</th>\n",
       "      <th>power</th>\n",
       "    </tr>\n",
       "  </thead>\n",
       "  <tbody>\n",
       "    <tr>\n",
       "      <th>0</th>\n",
       "      <td>pearson</td>\n",
       "      <td>1.00000</td>\n",
       "      <td>164.29399</td>\n",
       "      <td>27.0</td>\n",
       "      <td>0.0</td>\n",
       "      <td>0.33095</td>\n",
       "      <td>0.99850</td>\n",
       "    </tr>\n",
       "    <tr>\n",
       "      <th>1</th>\n",
       "      <td>cressie-read</td>\n",
       "      <td>0.66667</td>\n",
       "      <td>165.49946</td>\n",
       "      <td>27.0</td>\n",
       "      <td>0.0</td>\n",
       "      <td>0.33216</td>\n",
       "      <td>0.99861</td>\n",
       "    </tr>\n",
       "    <tr>\n",
       "      <th>2</th>\n",
       "      <td>log-likelihood</td>\n",
       "      <td>0.00000</td>\n",
       "      <td>181.48878</td>\n",
       "      <td>27.0</td>\n",
       "      <td>0.0</td>\n",
       "      <td>0.34784</td>\n",
       "      <td>0.99951</td>\n",
       "    </tr>\n",
       "    <tr>\n",
       "      <th>3</th>\n",
       "      <td>freeman-tukey</td>\n",
       "      <td>-0.50000</td>\n",
       "      <td>NaN</td>\n",
       "      <td>27.0</td>\n",
       "      <td>NaN</td>\n",
       "      <td>NaN</td>\n",
       "      <td>NaN</td>\n",
       "    </tr>\n",
       "    <tr>\n",
       "      <th>4</th>\n",
       "      <td>mod-log-likelihood</td>\n",
       "      <td>-1.00000</td>\n",
       "      <td>inf</td>\n",
       "      <td>27.0</td>\n",
       "      <td>0.0</td>\n",
       "      <td>inf</td>\n",
       "      <td>NaN</td>\n",
       "    </tr>\n",
       "    <tr>\n",
       "      <th>5</th>\n",
       "      <td>neyman</td>\n",
       "      <td>-2.00000</td>\n",
       "      <td>NaN</td>\n",
       "      <td>27.0</td>\n",
       "      <td>NaN</td>\n",
       "      <td>NaN</td>\n",
       "      <td>NaN</td>\n",
       "    </tr>\n",
       "  </tbody>\n",
       "</table>\n",
       "</div>"
      ],
      "text/plain": [
       "                 test   lambda       chi2   dof  pval   cramer    power\n",
       "0             pearson  1.00000  164.29399  27.0   0.0  0.33095  0.99850\n",
       "1        cressie-read  0.66667  165.49946  27.0   0.0  0.33216  0.99861\n",
       "2      log-likelihood  0.00000  181.48878  27.0   0.0  0.34784  0.99951\n",
       "3       freeman-tukey -0.50000        NaN  27.0   NaN      NaN      NaN\n",
       "4  mod-log-likelihood -1.00000        inf  27.0   0.0      inf      NaN\n",
       "5              neyman -2.00000        NaN  27.0   NaN      NaN      NaN"
      ]
     },
     "execution_count": 91,
     "metadata": {},
     "output_type": "execute_result"
    }
   ],
   "source": [
    "estatísticas.round(5)"
   ]
  },
  {
   "cell_type": "markdown",
   "metadata": {},
   "source": [
    "No caso da variavel inovação, há uma correlação entre a variavel target. Portanto as variaveis não são independentes. Qui-quadrado (p-value=0.0000)"
   ]
  },
  {
   "cell_type": "markdown",
   "metadata": {},
   "source": [
    "### Treinamento do Modelo da Arvore de Decisão"
   ]
  },
  {
   "cell_type": "code",
   "execution_count": 92,
   "metadata": {},
   "outputs": [],
   "source": [
    "# separar x e y\n",
    "X = df_segmento.drop(columns=['segmento_de_cliente'])\n",
    "y = df_segmento['segmento_de_cliente']"
   ]
  },
  {
   "cell_type": "code",
   "execution_count": 93,
   "metadata": {},
   "outputs": [],
   "source": [
    "# Pipeline\n",
    "# OneHotEncoder - Transforma variáveis categóricas em numéricas\n",
    "# SimpleImputer - Preenche valores faltantes\n",
    "#Treinamento do modelo\n",
    "\n",
    "# Lista de variaveis categoricas\n",
    "# A variavel inovacao não entrará pois não é uma variavel independente da target\n",
    "categorical_features = ['atividade_economica', 'localizacao']\n",
    "\n",
    "# Criar um transformador de variaveis categóricas usando o OneHotEncoder\n",
    "categorical_transformer = Pipeline(steps=[\n",
    "    ('imputer', SimpleImputer(strategy='most_frequent')),\n",
    "    ('onehot', OneHotEncoder(handle_unknown='ignore'))])\n",
    "\n",
    "# Preprocessamento\n",
    "preprocessor = ColumnTransformer(\n",
    "    transformers=[\n",
    "        ('cat', categorical_transformer, categorical_features)\n",
    "        ])\n",
    "\n",
    "# Pipeline com o preprocessamento e o modelo de arvore de decisão\n",
    "dt_model = Pipeline(steps=[('preprocessor', preprocessor),\n",
    "                           ('classifier', DecisionTreeClassifier())])"
   ]
  },
  {
   "cell_type": "markdown",
   "metadata": {},
   "source": [
    "### Validação Cruzada"
   ]
  },
  {
   "cell_type": "code",
   "execution_count": 94,
   "metadata": {},
   "outputs": [],
   "source": [
    "# Treinar o modelo com Validação Cruzada usando o StratifieldKFold \n",
    "# Por que as classes estão desbalanceadas\n",
    "cv_folds = StratifiedKFold(n_splits=3, shuffle=True, random_state=51)\n",
    "\n",
    "metrics_result = cross_validate(dt_model, X, y, \n",
    "                                cv=cv_folds, \n",
    "                                scoring=['accuracy'],\n",
    "                                return_estimator=True)"
   ]
  },
  {
   "cell_type": "code",
   "execution_count": 95,
   "metadata": {},
   "outputs": [
    {
     "data": {
      "text/plain": [
       "{'fit_time': array([0.01994467, 0.01295996, 0.01132631]),\n",
       " 'score_time': array([0.01079464, 0.00830221, 0.00702238]),\n",
       " 'estimator': [Pipeline(steps=[('preprocessor',\n",
       "                   ColumnTransformer(transformers=[('cat',\n",
       "                                                    Pipeline(steps=[('imputer',\n",
       "                                                                     SimpleImputer(strategy='most_frequent')),\n",
       "                                                                    ('onehot',\n",
       "                                                                     OneHotEncoder(handle_unknown='ignore'))]),\n",
       "                                                    ['atividade_economica',\n",
       "                                                     'localizacao'])])),\n",
       "                  ('classifier', DecisionTreeClassifier())]),\n",
       "  Pipeline(steps=[('preprocessor',\n",
       "                   ColumnTransformer(transformers=[('cat',\n",
       "                                                    Pipeline(steps=[('imputer',\n",
       "                                                                     SimpleImputer(strategy='most_frequent')),\n",
       "                                                                    ('onehot',\n",
       "                                                                     OneHotEncoder(handle_unknown='ignore'))]),\n",
       "                                                    ['atividade_economica',\n",
       "                                                     'localizacao'])])),\n",
       "                  ('classifier', DecisionTreeClassifier())]),\n",
       "  Pipeline(steps=[('preprocessor',\n",
       "                   ColumnTransformer(transformers=[('cat',\n",
       "                                                    Pipeline(steps=[('imputer',\n",
       "                                                                     SimpleImputer(strategy='most_frequent')),\n",
       "                                                                    ('onehot',\n",
       "                                                                     OneHotEncoder(handle_unknown='ignore'))]),\n",
       "                                                    ['atividade_economica',\n",
       "                                                     'localizacao'])])),\n",
       "                  ('classifier', DecisionTreeClassifier())])],\n",
       " 'test_accuracy': array([0.47904192, 0.47305389, 0.46987952])}"
      ]
     },
     "execution_count": 95,
     "metadata": {},
     "output_type": "execute_result"
    }
   ],
   "source": [
    "# Mostrar o retorno do cross_validate\n",
    "metrics_result"
   ]
  },
  {
   "cell_type": "code",
   "execution_count": 96,
   "metadata": {},
   "outputs": [
    {
     "data": {
      "text/plain": [
       "np.float64(0.4739917754851743)"
      ]
     },
     "execution_count": 96,
     "metadata": {},
     "output_type": "execute_result"
    }
   ],
   "source": [
    "# Média da acurácia, considerando os 3 splits\n",
    "metrics_result['test_accuracy'].mean()"
   ]
  },
  {
   "cell_type": "code",
   "execution_count": 97,
   "metadata": {},
   "outputs": [],
   "source": [
    "# Acurácia\n",
    "# Total de previsões corretas dividido pelo total de previsões\n",
    "# Acurácia = (VP + VN) / (VP + VN + FP + FN)\n",
    "# VP - Verdadeiro positivo\n",
    "# VN - Verdadeiro negativo\n",
    "# FP - Falso positivo\n",
    "# FN - Falso negativo\n",
    "\n"
   ]
  },
  {
   "cell_type": "code",
   "execution_count": 98,
   "metadata": {},
   "outputs": [],
   "source": [
    "# Fazendo predições usando Cross Validation\n",
    "y_pred = cross_val_predict(dt_model, X, y, cv=cv_folds)"
   ]
  },
  {
   "cell_type": "code",
   "execution_count": 100,
   "metadata": {},
   "outputs": [
    {
     "name": "stdout",
     "output_type": "stream",
     "text": [
      "Relatório de classificação:\n",
      "              precision    recall  f1-score   support\n",
      "\n",
      "      Bronze       0.41      0.36      0.38       202\n",
      "        Gold       0.00      0.00      0.00        16\n",
      "      Silver       0.51      0.63      0.57       260\n",
      "     Starter       0.00      0.00      0.00        22\n",
      "\n",
      "    accuracy                           0.47       500\n",
      "   macro avg       0.23      0.25      0.24       500\n",
      "weighted avg       0.43      0.47      0.45       500\n",
      "\n"
     ]
    },
    {
     "name": "stderr",
     "output_type": "stream",
     "text": [
      "/home/srmatheusmaciel/.local/share/virtualenvs/classificacao_arvore_decisao-pApQBjQT/lib/python3.12/site-packages/sklearn/metrics/_classification.py:1565: UndefinedMetricWarning:\n",
      "\n",
      "Precision is ill-defined and being set to 0.0 in labels with no predicted samples. Use `zero_division` parameter to control this behavior.\n",
      "\n",
      "/home/srmatheusmaciel/.local/share/virtualenvs/classificacao_arvore_decisao-pApQBjQT/lib/python3.12/site-packages/sklearn/metrics/_classification.py:1565: UndefinedMetricWarning:\n",
      "\n",
      "Precision is ill-defined and being set to 0.0 in labels with no predicted samples. Use `zero_division` parameter to control this behavior.\n",
      "\n",
      "/home/srmatheusmaciel/.local/share/virtualenvs/classificacao_arvore_decisao-pApQBjQT/lib/python3.12/site-packages/sklearn/metrics/_classification.py:1565: UndefinedMetricWarning:\n",
      "\n",
      "Precision is ill-defined and being set to 0.0 in labels with no predicted samples. Use `zero_division` parameter to control this behavior.\n",
      "\n"
     ]
    }
   ],
   "source": [
    "# Avalia o desempenho do modelo\n",
    "classification_report_str = classification_report(y,y_pred)\n",
    "print(f'Relatório de classificação:\\n{classification_report_str}')"
   ]
  },
  {
   "cell_type": "code",
   "execution_count": 101,
   "metadata": {},
   "outputs": [
    {
     "data": {
      "text/plain": [
       "<sklearn.metrics._plot.confusion_matrix.ConfusionMatrixDisplay at 0x799c4780a2d0>"
      ]
     },
     "execution_count": 101,
     "metadata": {},
     "output_type": "execute_result"
    },
    {
     "data": {
      "image/png": "[encoded data removed]",
      "text/plain": [
       "<Figure size 640x480 with 2 Axes>"
      ]
     },
     "metadata": {},
     "output_type": "display_data"
    }
   ],
   "source": [
    "# Mostrar Matriz de confusão\n",
    "confusion_matrix_modelo = confusion_matrix(y, y_pred, labels=lista_segmentos)\n",
    "disp = ConfusionMatrixDisplay(confusion_matrix_modelo, display_labels=lista_segmentos)\n",
    "disp.plot()"
   ]
  },
  {
   "cell_type": "markdown",
   "metadata": {},
   "source": [
    "### Tuning de Hiperparâmetros"
   ]
  },
  {
   "cell_type": "code",
   "execution_count": 102,
   "metadata": {},
   "outputs": [],
   "source": [
    "# Ajustar hipermarametros do modelo usando Optuna\n",
    "# min_samples_leaf = Mínimo de instâncias requerido para ser uma folha (nó final)\n",
    "# max_depth = Profundidade máxima da árvore\n",
    "# max_features = Número máximo de features a serem consideradas para dividir um nó\n",
    "# criterion = Função para medir a qualidade de uma divisão\n",
    "# splitter = Estratégia usada para dividir o nó\n",
    "# ccp_alpha = Parâmetro de poda de custo-complexidade\n",
    "# min_samples_split = Número mínimo de amostras necessárias para dividir um nó"
   ]
  },
  {
   "cell_type": "code",
   "execution_count": 103,
   "metadata": {},
   "outputs": [],
   "source": [
    "def decisiontree_optuna(trial):\n",
    "    min_samples_leaf = trial.suggest_int('min_samples_leaf', 1, 20)\n",
    "    max_depth = trial.suggest_int('max_depth', 2, 8)\n",
    "\n",
    "    dt_model.set_params(classifier__min_samples_leaf=min_samples_leaf)\n",
    "    dt_model.set_params(classifier__max_depth=max_depth)\n",
    "\n",
    "    scores = cross_val_score(dt_model, X, y, cv=cv_folds, scoring='accuracy')\n",
    "    \n",
    "    return scores.mean()\n"
   ]
  },
  {
   "cell_type": "code",
   "execution_count": 105,
   "metadata": {},
   "outputs": [
    {
     "name": "stderr",
     "output_type": "stream",
     "text": [
      "[I 2025-03-23 08:11:47,701] A new study created in memory with name: no-name-b70b93f9-39db-4d6a-9275-f44b1039d301\n",
      "[I 2025-03-23 08:11:47,793] Trial 0 finished with value: 0.4739917754851743 and parameters: {'min_samples_leaf': 4, 'max_depth': 8}. Best is trial 0 with value: 0.4739917754851743.\n",
      "[I 2025-03-23 08:11:47,856] Trial 1 finished with value: 0.4739917754851743 and parameters: {'min_samples_leaf': 12, 'max_depth': 6}. Best is trial 0 with value: 0.4739917754851743.\n",
      "[I 2025-03-23 08:11:47,914] Trial 2 finished with value: 0.4739917754851743 and parameters: {'min_samples_leaf': 3, 'max_depth': 6}. Best is trial 0 with value: 0.4739917754851743.\n",
      "[I 2025-03-23 08:11:47,989] Trial 3 finished with value: 0.4620037034365005 and parameters: {'min_samples_leaf': 20, 'max_depth': 2}. Best is trial 0 with value: 0.4739917754851743.\n",
      "[I 2025-03-23 08:11:48,048] Trial 4 finished with value: 0.4600197195969507 and parameters: {'min_samples_leaf': 20, 'max_depth': 3}. Best is trial 0 with value: 0.4739917754851743.\n",
      "[I 2025-03-23 08:11:48,125] Trial 5 finished with value: 0.4580116874684366 and parameters: {'min_samples_leaf': 16, 'max_depth': 3}. Best is trial 0 with value: 0.4739917754851743.\n",
      "[I 2025-03-23 08:11:48,188] Trial 6 finished with value: 0.4739917754851743 and parameters: {'min_samples_leaf': 7, 'max_depth': 7}. Best is trial 0 with value: 0.4739917754851743.\n",
      "[I 2025-03-23 08:11:48,258] Trial 7 finished with value: 0.4679676790996321 and parameters: {'min_samples_leaf': 18, 'max_depth': 7}. Best is trial 0 with value: 0.4739917754851743.\n",
      "[I 2025-03-23 08:11:48,323] Trial 8 finished with value: 0.4739917754851743 and parameters: {'min_samples_leaf': 10, 'max_depth': 8}. Best is trial 0 with value: 0.4739917754851743.\n",
      "[I 2025-03-23 08:11:48,401] Trial 9 finished with value: 0.4699877353726283 and parameters: {'min_samples_leaf': 11, 'max_depth': 3}. Best is trial 0 with value: 0.4739917754851743.\n",
      "[I 2025-03-23 08:11:48,464] Trial 10 finished with value: 0.45398359906692637 and parameters: {'min_samples_leaf': 1, 'max_depth': 5}. Best is trial 0 with value: 0.4739917754851743.\n",
      "[I 2025-03-23 08:11:48,534] Trial 11 finished with value: 0.4739917754851743 and parameters: {'min_samples_leaf': 11, 'max_depth': 8}. Best is trial 0 with value: 0.4739917754851743.\n",
      "[I 2025-03-23 08:11:48,600] Trial 12 finished with value: 0.45398359906692637 and parameters: {'min_samples_leaf': 6, 'max_depth': 5}. Best is trial 0 with value: 0.4739917754851743.\n",
      "[I 2025-03-23 08:11:48,672] Trial 13 finished with value: 0.4739917754851743 and parameters: {'min_samples_leaf': 15, 'max_depth': 6}. Best is trial 0 with value: 0.4739917754851743.\n",
      "[I 2025-03-23 08:11:48,738] Trial 14 finished with value: 0.4739917754851743 and parameters: {'min_samples_leaf': 7, 'max_depth': 7}. Best is trial 0 with value: 0.4739917754851743.\n",
      "[I 2025-03-23 08:11:48,804] Trial 15 finished with value: 0.45398359906692637 and parameters: {'min_samples_leaf': 13, 'max_depth': 5}. Best is trial 0 with value: 0.4739917754851743.\n",
      "[I 2025-03-23 08:11:48,876] Trial 16 finished with value: 0.4739917754851743 and parameters: {'min_samples_leaf': 4, 'max_depth': 8}. Best is trial 0 with value: 0.4739917754851743.\n",
      "[I 2025-03-23 08:11:48,950] Trial 17 finished with value: 0.4739917754851743 and parameters: {'min_samples_leaf': 9, 'max_depth': 6}. Best is trial 0 with value: 0.4739917754851743.\n",
      "[I 2025-03-23 08:11:49,024] Trial 18 finished with value: 0.45398359906692637 and parameters: {'min_samples_leaf': 13, 'max_depth': 4}. Best is trial 0 with value: 0.4739917754851743.\n",
      "[I 2025-03-23 08:11:49,094] Trial 19 finished with value: 0.4739917754851743 and parameters: {'min_samples_leaf': 1, 'max_depth': 7}. Best is trial 0 with value: 0.4739917754851743.\n",
      "[I 2025-03-23 08:11:49,188] Trial 20 finished with value: 0.4739917754851743 and parameters: {'min_samples_leaf': 5, 'max_depth': 6}. Best is trial 0 with value: 0.4739917754851743.\n",
      "[I 2025-03-23 08:11:49,284] Trial 21 finished with value: 0.4739917754851743 and parameters: {'min_samples_leaf': 3, 'max_depth': 6}. Best is trial 0 with value: 0.4739917754851743.\n",
      "[I 2025-03-23 08:11:49,348] Trial 22 finished with value: 0.45398359906692637 and parameters: {'min_samples_leaf': 3, 'max_depth': 4}. Best is trial 0 with value: 0.4739917754851743.\n",
      "[I 2025-03-23 08:11:49,440] Trial 23 finished with value: 0.4739917754851743 and parameters: {'min_samples_leaf': 8, 'max_depth': 7}. Best is trial 0 with value: 0.4739917754851743.\n",
      "[I 2025-03-23 08:11:49,524] Trial 24 finished with value: 0.45398359906692637 and parameters: {'min_samples_leaf': 13, 'max_depth': 5}. Best is trial 0 with value: 0.4739917754851743.\n",
      "[I 2025-03-23 08:11:49,616] Trial 25 finished with value: 0.4739917754851743 and parameters: {'min_samples_leaf': 3, 'max_depth': 8}. Best is trial 0 with value: 0.4739917754851743.\n",
      "[I 2025-03-23 08:11:49,701] Trial 26 finished with value: 0.4739917754851743 and parameters: {'min_samples_leaf': 5, 'max_depth': 6}. Best is trial 0 with value: 0.4739917754851743.\n",
      "[I 2025-03-23 08:11:49,788] Trial 27 finished with value: 0.45398359906692637 and parameters: {'min_samples_leaf': 1, 'max_depth': 4}. Best is trial 0 with value: 0.4739917754851743.\n",
      "[I 2025-03-23 08:11:49,858] Trial 28 finished with value: 0.4739917754851743 and parameters: {'min_samples_leaf': 9, 'max_depth': 7}. Best is trial 0 with value: 0.4739917754851743.\n",
      "[I 2025-03-23 08:11:49,939] Trial 29 finished with value: 0.4740518962075848 and parameters: {'min_samples_leaf': 15, 'max_depth': 2}. Best is trial 29 with value: 0.4740518962075848.\n",
      "[I 2025-03-23 08:11:50,023] Trial 30 finished with value: 0.45398359906692637 and parameters: {'min_samples_leaf': 15, 'max_depth': 4}. Best is trial 29 with value: 0.4740518962075848.\n",
      "[I 2025-03-23 08:11:50,084] Trial 31 finished with value: 0.4620037034365005 and parameters: {'min_samples_leaf': 18, 'max_depth': 2}. Best is trial 29 with value: 0.4740518962075848.\n",
      "[I 2025-03-23 08:11:50,143] Trial 32 finished with value: 0.4740518962075848 and parameters: {'min_samples_leaf': 12, 'max_depth': 2}. Best is trial 29 with value: 0.4740518962075848.\n",
      "[I 2025-03-23 08:11:50,220] Trial 33 finished with value: 0.4740518962075848 and parameters: {'min_samples_leaf': 12, 'max_depth': 2}. Best is trial 29 with value: 0.4740518962075848.\n",
      "[I 2025-03-23 08:11:50,274] Trial 34 finished with value: 0.4740518962075848 and parameters: {'min_samples_leaf': 12, 'max_depth': 2}. Best is trial 29 with value: 0.4740518962075848.\n",
      "[I 2025-03-23 08:11:50,353] Trial 35 finished with value: 0.4740518962075848 and parameters: {'min_samples_leaf': 14, 'max_depth': 2}. Best is trial 29 with value: 0.4740518962075848.\n",
      "[I 2025-03-23 08:11:50,425] Trial 36 finished with value: 0.4740518962075848 and parameters: {'min_samples_leaf': 17, 'max_depth': 2}. Best is trial 29 with value: 0.4740518962075848.\n",
      "[I 2025-03-23 08:11:50,503] Trial 37 finished with value: 0.4699877353726283 and parameters: {'min_samples_leaf': 12, 'max_depth': 3}. Best is trial 29 with value: 0.4740518962075848.\n",
      "[I 2025-03-23 08:11:50,570] Trial 38 finished with value: 0.4740518962075848 and parameters: {'min_samples_leaf': 12, 'max_depth': 2}. Best is trial 29 with value: 0.4740518962075848.\n",
      "[I 2025-03-23 08:11:50,642] Trial 39 finished with value: 0.4699877353726283 and parameters: {'min_samples_leaf': 15, 'max_depth': 3}. Best is trial 29 with value: 0.4740518962075848.\n",
      "[I 2025-03-23 08:11:50,697] Trial 40 finished with value: 0.4740518962075848 and parameters: {'min_samples_leaf': 10, 'max_depth': 2}. Best is trial 29 with value: 0.4740518962075848.\n",
      "[I 2025-03-23 08:11:50,757] Trial 41 finished with value: 0.4740518962075848 and parameters: {'min_samples_leaf': 14, 'max_depth': 2}. Best is trial 29 with value: 0.4740518962075848.\n",
      "[I 2025-03-23 08:11:50,811] Trial 42 finished with value: 0.4740518962075848 and parameters: {'min_samples_leaf': 14, 'max_depth': 2}. Best is trial 29 with value: 0.4740518962075848.\n",
      "[I 2025-03-23 08:11:50,866] Trial 43 finished with value: 0.4580116874684366 and parameters: {'min_samples_leaf': 16, 'max_depth': 3}. Best is trial 29 with value: 0.4740518962075848.\n",
      "[I 2025-03-23 08:11:50,935] Trial 44 finished with value: 0.4740518962075848 and parameters: {'min_samples_leaf': 11, 'max_depth': 2}. Best is trial 29 with value: 0.4740518962075848.\n",
      "[I 2025-03-23 08:11:50,990] Trial 45 finished with value: 0.4699877353726283 and parameters: {'min_samples_leaf': 14, 'max_depth': 3}. Best is trial 29 with value: 0.4740518962075848.\n",
      "[I 2025-03-23 08:11:51,045] Trial 46 finished with value: 0.4740518962075848 and parameters: {'min_samples_leaf': 12, 'max_depth': 2}. Best is trial 29 with value: 0.4740518962075848.\n",
      "[I 2025-03-23 08:11:51,096] Trial 47 finished with value: 0.4580116874684366 and parameters: {'min_samples_leaf': 18, 'max_depth': 3}. Best is trial 29 with value: 0.4740518962075848.\n",
      "[I 2025-03-23 08:11:51,146] Trial 48 finished with value: 0.4740518962075848 and parameters: {'min_samples_leaf': 16, 'max_depth': 2}. Best is trial 29 with value: 0.4740518962075848.\n",
      "[I 2025-03-23 08:11:51,199] Trial 49 finished with value: 0.4699877353726283 and parameters: {'min_samples_leaf': 10, 'max_depth': 3}. Best is trial 29 with value: 0.4740518962075848.\n",
      "[I 2025-03-23 08:11:51,263] Trial 50 finished with value: 0.4740518962075848 and parameters: {'min_samples_leaf': 13, 'max_depth': 2}. Best is trial 29 with value: 0.4740518962075848.\n",
      "[I 2025-03-23 08:11:51,332] Trial 51 finished with value: 0.4620037034365005 and parameters: {'min_samples_leaf': 19, 'max_depth': 2}. Best is trial 29 with value: 0.4740518962075848.\n",
      "[I 2025-03-23 08:11:51,399] Trial 52 finished with value: 0.4740518962075848 and parameters: {'min_samples_leaf': 16, 'max_depth': 2}. Best is trial 29 with value: 0.4740518962075848.\n",
      "[I 2025-03-23 08:11:51,486] Trial 53 finished with value: 0.4699877353726283 and parameters: {'min_samples_leaf': 15, 'max_depth': 3}. Best is trial 29 with value: 0.4740518962075848.\n",
      "[I 2025-03-23 08:11:51,565] Trial 54 finished with value: 0.4740518962075848 and parameters: {'min_samples_leaf': 17, 'max_depth': 2}. Best is trial 29 with value: 0.4740518962075848.\n",
      "[I 2025-03-23 08:11:51,632] Trial 55 finished with value: 0.4740518962075848 and parameters: {'min_samples_leaf': 17, 'max_depth': 2}. Best is trial 29 with value: 0.4740518962075848.\n",
      "[I 2025-03-23 08:11:51,701] Trial 56 finished with value: 0.4740518962075848 and parameters: {'min_samples_leaf': 11, 'max_depth': 2}. Best is trial 29 with value: 0.4740518962075848.\n",
      "[I 2025-03-23 08:11:51,789] Trial 57 finished with value: 0.4699877353726283 and parameters: {'min_samples_leaf': 14, 'max_depth': 3}. Best is trial 29 with value: 0.4740518962075848.\n",
      "[I 2025-03-23 08:11:51,892] Trial 58 finished with value: 0.4740518962075848 and parameters: {'min_samples_leaf': 13, 'max_depth': 2}. Best is trial 29 with value: 0.4740518962075848.\n",
      "[I 2025-03-23 08:11:51,986] Trial 59 finished with value: 0.4699877353726283 and parameters: {'min_samples_leaf': 9, 'max_depth': 3}. Best is trial 29 with value: 0.4740518962075848.\n",
      "[I 2025-03-23 08:11:52,090] Trial 60 finished with value: 0.4740518962075848 and parameters: {'min_samples_leaf': 12, 'max_depth': 2}. Best is trial 29 with value: 0.4740518962075848.\n",
      "[I 2025-03-23 08:11:52,193] Trial 61 finished with value: 0.4740518962075848 and parameters: {'min_samples_leaf': 12, 'max_depth': 2}. Best is trial 29 with value: 0.4740518962075848.\n",
      "[I 2025-03-23 08:11:52,286] Trial 62 finished with value: 0.4740518962075848 and parameters: {'min_samples_leaf': 11, 'max_depth': 2}. Best is trial 29 with value: 0.4740518962075848.\n",
      "[I 2025-03-23 08:11:52,373] Trial 63 finished with value: 0.4740518962075848 and parameters: {'min_samples_leaf': 17, 'max_depth': 2}. Best is trial 29 with value: 0.4740518962075848.\n",
      "[I 2025-03-23 08:11:52,439] Trial 64 finished with value: 0.4740518962075848 and parameters: {'min_samples_leaf': 12, 'max_depth': 2}. Best is trial 29 with value: 0.4740518962075848.\n",
      "[I 2025-03-23 08:11:52,506] Trial 65 finished with value: 0.4699877353726283 and parameters: {'min_samples_leaf': 14, 'max_depth': 3}. Best is trial 29 with value: 0.4740518962075848.\n",
      "[I 2025-03-23 08:11:52,575] Trial 66 finished with value: 0.4740518962075848 and parameters: {'min_samples_leaf': 15, 'max_depth': 2}. Best is trial 29 with value: 0.4740518962075848.\n",
      "[I 2025-03-23 08:11:52,637] Trial 67 finished with value: 0.4600197195969507 and parameters: {'min_samples_leaf': 20, 'max_depth': 3}. Best is trial 29 with value: 0.4740518962075848.\n",
      "[I 2025-03-23 08:11:52,699] Trial 68 finished with value: 0.4740518962075848 and parameters: {'min_samples_leaf': 10, 'max_depth': 2}. Best is trial 29 with value: 0.4740518962075848.\n",
      "[I 2025-03-23 08:11:52,766] Trial 69 finished with value: 0.45398359906692637 and parameters: {'min_samples_leaf': 13, 'max_depth': 4}. Best is trial 29 with value: 0.4740518962075848.\n",
      "[I 2025-03-23 08:11:52,837] Trial 70 finished with value: 0.4740518962075848 and parameters: {'min_samples_leaf': 13, 'max_depth': 2}. Best is trial 29 with value: 0.4740518962075848.\n",
      "[I 2025-03-23 08:11:52,905] Trial 71 finished with value: 0.4740518962075848 and parameters: {'min_samples_leaf': 10, 'max_depth': 2}. Best is trial 29 with value: 0.4740518962075848.\n",
      "[I 2025-03-23 08:11:52,996] Trial 72 finished with value: 0.4740518962075848 and parameters: {'min_samples_leaf': 8, 'max_depth': 2}. Best is trial 29 with value: 0.4740518962075848.\n",
      "[I 2025-03-23 08:11:53,062] Trial 73 finished with value: 0.4740518962075848 and parameters: {'min_samples_leaf': 12, 'max_depth': 2}. Best is trial 29 with value: 0.4740518962075848.\n",
      "[I 2025-03-23 08:11:53,135] Trial 74 finished with value: 0.4699877353726283 and parameters: {'min_samples_leaf': 11, 'max_depth': 3}. Best is trial 29 with value: 0.4740518962075848.\n",
      "[I 2025-03-23 08:11:53,199] Trial 75 finished with value: 0.4740518962075848 and parameters: {'min_samples_leaf': 8, 'max_depth': 2}. Best is trial 29 with value: 0.4740518962075848.\n",
      "[I 2025-03-23 08:11:53,277] Trial 76 finished with value: 0.4740518962075848 and parameters: {'min_samples_leaf': 9, 'max_depth': 2}. Best is trial 29 with value: 0.4740518962075848.\n",
      "[I 2025-03-23 08:11:53,360] Trial 77 finished with value: 0.4740518962075848 and parameters: {'min_samples_leaf': 10, 'max_depth': 2}. Best is trial 29 with value: 0.4740518962075848.\n",
      "[I 2025-03-23 08:11:53,430] Trial 78 finished with value: 0.4699877353726283 and parameters: {'min_samples_leaf': 14, 'max_depth': 3}. Best is trial 29 with value: 0.4740518962075848.\n",
      "[I 2025-03-23 08:11:53,496] Trial 79 finished with value: 0.4740518962075848 and parameters: {'min_samples_leaf': 16, 'max_depth': 2}. Best is trial 29 with value: 0.4740518962075848.\n",
      "[I 2025-03-23 08:11:53,566] Trial 80 finished with value: 0.4699877353726283 and parameters: {'min_samples_leaf': 11, 'max_depth': 3}. Best is trial 29 with value: 0.4740518962075848.\n",
      "[I 2025-03-23 08:11:53,632] Trial 81 finished with value: 0.4740518962075848 and parameters: {'min_samples_leaf': 14, 'max_depth': 2}. Best is trial 29 with value: 0.4740518962075848.\n",
      "[I 2025-03-23 08:11:53,699] Trial 82 finished with value: 0.4740518962075848 and parameters: {'min_samples_leaf': 12, 'max_depth': 2}. Best is trial 29 with value: 0.4740518962075848.\n",
      "[I 2025-03-23 08:11:53,783] Trial 83 finished with value: 0.4740518962075848 and parameters: {'min_samples_leaf': 15, 'max_depth': 2}. Best is trial 29 with value: 0.4740518962075848.\n",
      "[I 2025-03-23 08:11:53,853] Trial 84 finished with value: 0.4740518962075848 and parameters: {'min_samples_leaf': 13, 'max_depth': 2}. Best is trial 29 with value: 0.4740518962075848.\n",
      "[I 2025-03-23 08:11:53,930] Trial 85 finished with value: 0.4740518962075848 and parameters: {'min_samples_leaf': 12, 'max_depth': 2}. Best is trial 29 with value: 0.4740518962075848.\n",
      "[I 2025-03-23 08:11:53,989] Trial 86 finished with value: 0.4699877353726283 and parameters: {'min_samples_leaf': 14, 'max_depth': 3}. Best is trial 29 with value: 0.4740518962075848.\n",
      "[I 2025-03-23 08:11:54,045] Trial 87 finished with value: 0.4740518962075848 and parameters: {'min_samples_leaf': 16, 'max_depth': 2}. Best is trial 29 with value: 0.4740518962075848.\n",
      "[I 2025-03-23 08:11:54,099] Trial 88 finished with value: 0.4740518962075848 and parameters: {'min_samples_leaf': 13, 'max_depth': 2}. Best is trial 29 with value: 0.4740518962075848.\n",
      "[I 2025-03-23 08:11:54,154] Trial 89 finished with value: 0.4740518962075848 and parameters: {'min_samples_leaf': 15, 'max_depth': 2}. Best is trial 29 with value: 0.4740518962075848.\n",
      "[I 2025-03-23 08:11:54,205] Trial 90 finished with value: 0.4580116874684366 and parameters: {'min_samples_leaf': 18, 'max_depth': 3}. Best is trial 29 with value: 0.4740518962075848.\n",
      "[I 2025-03-23 08:11:54,263] Trial 91 finished with value: 0.4740518962075848 and parameters: {'min_samples_leaf': 14, 'max_depth': 2}. Best is trial 29 with value: 0.4740518962075848.\n",
      "[I 2025-03-23 08:11:54,357] Trial 92 finished with value: 0.4740518962075848 and parameters: {'min_samples_leaf': 15, 'max_depth': 2}. Best is trial 29 with value: 0.4740518962075848.\n",
      "[I 2025-03-23 08:11:54,441] Trial 93 finished with value: 0.4740518962075848 and parameters: {'min_samples_leaf': 17, 'max_depth': 2}. Best is trial 29 with value: 0.4740518962075848.\n",
      "[I 2025-03-23 08:11:54,549] Trial 94 finished with value: 0.4620037034365005 and parameters: {'min_samples_leaf': 19, 'max_depth': 2}. Best is trial 29 with value: 0.4740518962075848.\n",
      "[I 2025-03-23 08:11:54,663] Trial 95 finished with value: 0.45398359906692637 and parameters: {'min_samples_leaf': 11, 'max_depth': 5}. Best is trial 29 with value: 0.4740518962075848.\n",
      "[I 2025-03-23 08:11:54,753] Trial 96 finished with value: 0.4740518962075848 and parameters: {'min_samples_leaf': 13, 'max_depth': 2}. Best is trial 29 with value: 0.4740518962075848.\n",
      "[I 2025-03-23 08:11:54,814] Trial 97 finished with value: 0.4740518962075848 and parameters: {'min_samples_leaf': 12, 'max_depth': 2}. Best is trial 29 with value: 0.4740518962075848.\n",
      "[I 2025-03-23 08:11:54,888] Trial 98 finished with value: 0.4740518962075848 and parameters: {'min_samples_leaf': 14, 'max_depth': 2}. Best is trial 29 with value: 0.4740518962075848.\n",
      "[I 2025-03-23 08:11:54,962] Trial 99 finished with value: 0.4580116874684366 and parameters: {'min_samples_leaf': 16, 'max_depth': 3}. Best is trial 29 with value: 0.4740518962075848.\n",
      "[I 2025-03-23 08:11:55,037] Trial 100 finished with value: 0.4740518962075848 and parameters: {'min_samples_leaf': 10, 'max_depth': 2}. Best is trial 29 with value: 0.4740518962075848.\n",
      "[I 2025-03-23 08:11:55,110] Trial 101 finished with value: 0.4740518962075848 and parameters: {'min_samples_leaf': 11, 'max_depth': 2}. Best is trial 29 with value: 0.4740518962075848.\n",
      "[I 2025-03-23 08:11:55,167] Trial 102 finished with value: 0.4740518962075848 and parameters: {'min_samples_leaf': 9, 'max_depth': 2}. Best is trial 29 with value: 0.4740518962075848.\n",
      "[I 2025-03-23 08:11:55,251] Trial 103 finished with value: 0.4740518962075848 and parameters: {'min_samples_leaf': 11, 'max_depth': 2}. Best is trial 29 with value: 0.4740518962075848.\n",
      "[I 2025-03-23 08:11:55,331] Trial 104 finished with value: 0.4740518962075848 and parameters: {'min_samples_leaf': 13, 'max_depth': 2}. Best is trial 29 with value: 0.4740518962075848.\n",
      "[I 2025-03-23 08:11:55,419] Trial 105 finished with value: 0.4740518962075848 and parameters: {'min_samples_leaf': 12, 'max_depth': 2}. Best is trial 29 with value: 0.4740518962075848.\n",
      "[I 2025-03-23 08:11:55,489] Trial 106 finished with value: 0.4740518962075848 and parameters: {'min_samples_leaf': 10, 'max_depth': 2}. Best is trial 29 with value: 0.4740518962075848.\n",
      "[I 2025-03-23 08:11:55,576] Trial 107 finished with value: 0.4740518962075848 and parameters: {'min_samples_leaf': 12, 'max_depth': 2}. Best is trial 29 with value: 0.4740518962075848.\n",
      "[I 2025-03-23 08:11:55,638] Trial 108 finished with value: 0.4699877353726283 and parameters: {'min_samples_leaf': 14, 'max_depth': 3}. Best is trial 29 with value: 0.4740518962075848.\n",
      "[I 2025-03-23 08:11:55,690] Trial 109 finished with value: 0.4740518962075848 and parameters: {'min_samples_leaf': 11, 'max_depth': 2}. Best is trial 29 with value: 0.4740518962075848.\n",
      "[I 2025-03-23 08:11:55,771] Trial 110 finished with value: 0.4740518962075848 and parameters: {'min_samples_leaf': 13, 'max_depth': 2}. Best is trial 29 with value: 0.4740518962075848.\n",
      "[I 2025-03-23 08:11:55,831] Trial 111 finished with value: 0.4740518962075848 and parameters: {'min_samples_leaf': 12, 'max_depth': 2}. Best is trial 29 with value: 0.4740518962075848.\n",
      "[I 2025-03-23 08:11:55,911] Trial 112 finished with value: 0.4740518962075848 and parameters: {'min_samples_leaf': 11, 'max_depth': 2}. Best is trial 29 with value: 0.4740518962075848.\n",
      "[I 2025-03-23 08:11:55,972] Trial 113 finished with value: 0.4740518962075848 and parameters: {'min_samples_leaf': 13, 'max_depth': 2}. Best is trial 29 with value: 0.4740518962075848.\n",
      "[I 2025-03-23 08:11:56,025] Trial 114 finished with value: 0.4740518962075848 and parameters: {'min_samples_leaf': 12, 'max_depth': 2}. Best is trial 29 with value: 0.4740518962075848.\n",
      "[I 2025-03-23 08:11:56,078] Trial 115 finished with value: 0.4740518962075848 and parameters: {'min_samples_leaf': 15, 'max_depth': 2}. Best is trial 29 with value: 0.4740518962075848.\n",
      "[I 2025-03-23 08:11:56,141] Trial 116 finished with value: 0.4740518962075848 and parameters: {'min_samples_leaf': 14, 'max_depth': 2}. Best is trial 29 with value: 0.4740518962075848.\n",
      "[I 2025-03-23 08:11:56,209] Trial 117 finished with value: 0.4740518962075848 and parameters: {'min_samples_leaf': 13, 'max_depth': 2}. Best is trial 29 with value: 0.4740518962075848.\n",
      "[I 2025-03-23 08:11:56,282] Trial 118 finished with value: 0.4740518962075848 and parameters: {'min_samples_leaf': 10, 'max_depth': 2}. Best is trial 29 with value: 0.4740518962075848.\n",
      "[I 2025-03-23 08:11:56,337] Trial 119 finished with value: 0.4699877353726283 and parameters: {'min_samples_leaf': 9, 'max_depth': 3}. Best is trial 29 with value: 0.4740518962075848.\n",
      "[I 2025-03-23 08:11:56,391] Trial 120 finished with value: 0.4740518962075848 and parameters: {'min_samples_leaf': 12, 'max_depth': 2}. Best is trial 29 with value: 0.4740518962075848.\n",
      "[I 2025-03-23 08:11:56,449] Trial 121 finished with value: 0.4740518962075848 and parameters: {'min_samples_leaf': 17, 'max_depth': 2}. Best is trial 29 with value: 0.4740518962075848.\n",
      "[I 2025-03-23 08:11:56,533] Trial 122 finished with value: 0.4740518962075848 and parameters: {'min_samples_leaf': 16, 'max_depth': 2}. Best is trial 29 with value: 0.4740518962075848.\n",
      "[I 2025-03-23 08:11:56,627] Trial 123 finished with value: 0.4740518962075848 and parameters: {'min_samples_leaf': 16, 'max_depth': 2}. Best is trial 29 with value: 0.4740518962075848.\n",
      "[I 2025-03-23 08:11:56,697] Trial 124 finished with value: 0.4740518962075848 and parameters: {'min_samples_leaf': 15, 'max_depth': 2}. Best is trial 29 with value: 0.4740518962075848.\n",
      "[I 2025-03-23 08:11:56,760] Trial 125 finished with value: 0.4740518962075848 and parameters: {'min_samples_leaf': 16, 'max_depth': 2}. Best is trial 29 with value: 0.4740518962075848.\n",
      "[I 2025-03-23 08:11:56,827] Trial 126 finished with value: 0.4740518962075848 and parameters: {'min_samples_leaf': 14, 'max_depth': 2}. Best is trial 29 with value: 0.4740518962075848.\n",
      "[I 2025-03-23 08:11:56,902] Trial 127 finished with value: 0.4740518962075848 and parameters: {'min_samples_leaf': 17, 'max_depth': 2}. Best is trial 29 with value: 0.4740518962075848.\n",
      "[I 2025-03-23 08:11:56,975] Trial 128 finished with value: 0.4739917754851743 and parameters: {'min_samples_leaf': 11, 'max_depth': 8}. Best is trial 29 with value: 0.4740518962075848.\n",
      "[I 2025-03-23 08:11:57,073] Trial 129 finished with value: 0.4620037034365005 and parameters: {'min_samples_leaf': 18, 'max_depth': 2}. Best is trial 29 with value: 0.4740518962075848.\n",
      "[I 2025-03-23 08:11:57,128] Trial 130 finished with value: 0.4740518962075848 and parameters: {'min_samples_leaf': 12, 'max_depth': 2}. Best is trial 29 with value: 0.4740518962075848.\n",
      "[I 2025-03-23 08:11:57,214] Trial 131 finished with value: 0.4740518962075848 and parameters: {'min_samples_leaf': 13, 'max_depth': 2}. Best is trial 29 with value: 0.4740518962075848.\n",
      "[I 2025-03-23 08:11:57,283] Trial 132 finished with value: 0.4740518962075848 and parameters: {'min_samples_leaf': 14, 'max_depth': 2}. Best is trial 29 with value: 0.4740518962075848.\n",
      "[I 2025-03-23 08:11:57,360] Trial 133 finished with value: 0.4740518962075848 and parameters: {'min_samples_leaf': 13, 'max_depth': 2}. Best is trial 29 with value: 0.4740518962075848.\n",
      "[I 2025-03-23 08:11:57,451] Trial 134 finished with value: 0.4740518962075848 and parameters: {'min_samples_leaf': 14, 'max_depth': 2}. Best is trial 29 with value: 0.4740518962075848.\n",
      "[I 2025-03-23 08:11:57,529] Trial 135 finished with value: 0.4740518962075848 and parameters: {'min_samples_leaf': 15, 'max_depth': 2}. Best is trial 29 with value: 0.4740518962075848.\n",
      "[I 2025-03-23 08:11:57,618] Trial 136 finished with value: 0.4740518962075848 and parameters: {'min_samples_leaf': 12, 'max_depth': 2}. Best is trial 29 with value: 0.4740518962075848.\n",
      "[I 2025-03-23 08:11:57,707] Trial 137 finished with value: 0.4740518962075848 and parameters: {'min_samples_leaf': 11, 'max_depth': 2}. Best is trial 29 with value: 0.4740518962075848.\n",
      "[I 2025-03-23 08:11:57,782] Trial 138 finished with value: 0.4740518962075848 and parameters: {'min_samples_leaf': 13, 'max_depth': 2}. Best is trial 29 with value: 0.4740518962075848.\n",
      "[I 2025-03-23 08:11:57,852] Trial 139 finished with value: 0.45398359906692637 and parameters: {'min_samples_leaf': 15, 'max_depth': 4}. Best is trial 29 with value: 0.4740518962075848.\n",
      "[I 2025-03-23 08:11:57,922] Trial 140 finished with value: 0.4699877353726283 and parameters: {'min_samples_leaf': 12, 'max_depth': 3}. Best is trial 29 with value: 0.4740518962075848.\n",
      "[I 2025-03-23 08:11:57,990] Trial 141 finished with value: 0.4740518962075848 and parameters: {'min_samples_leaf': 16, 'max_depth': 2}. Best is trial 29 with value: 0.4740518962075848.\n",
      "[I 2025-03-23 08:11:58,084] Trial 142 finished with value: 0.4740518962075848 and parameters: {'min_samples_leaf': 16, 'max_depth': 2}. Best is trial 29 with value: 0.4740518962075848.\n",
      "[I 2025-03-23 08:11:58,173] Trial 143 finished with value: 0.4740518962075848 and parameters: {'min_samples_leaf': 17, 'max_depth': 2}. Best is trial 29 with value: 0.4740518962075848.\n",
      "[I 2025-03-23 08:11:58,262] Trial 144 finished with value: 0.4740518962075848 and parameters: {'min_samples_leaf': 14, 'max_depth': 2}. Best is trial 29 with value: 0.4740518962075848.\n",
      "[I 2025-03-23 08:11:58,353] Trial 145 finished with value: 0.4740518962075848 and parameters: {'min_samples_leaf': 13, 'max_depth': 2}. Best is trial 29 with value: 0.4740518962075848.\n",
      "[I 2025-03-23 08:11:58,423] Trial 146 finished with value: 0.4739917754851743 and parameters: {'min_samples_leaf': 15, 'max_depth': 6}. Best is trial 29 with value: 0.4740518962075848.\n",
      "[I 2025-03-23 08:11:58,510] Trial 147 finished with value: 0.4740518962075848 and parameters: {'min_samples_leaf': 11, 'max_depth': 2}. Best is trial 29 with value: 0.4740518962075848.\n",
      "[I 2025-03-23 08:11:58,567] Trial 148 finished with value: 0.4740518962075848 and parameters: {'min_samples_leaf': 12, 'max_depth': 2}. Best is trial 29 with value: 0.4740518962075848.\n",
      "[I 2025-03-23 08:11:58,656] Trial 149 finished with value: 0.4740518962075848 and parameters: {'min_samples_leaf': 13, 'max_depth': 2}. Best is trial 29 with value: 0.4740518962075848.\n",
      "[I 2025-03-23 08:11:58,739] Trial 150 finished with value: 0.4740518962075848 and parameters: {'min_samples_leaf': 10, 'max_depth': 2}. Best is trial 29 with value: 0.4740518962075848.\n",
      "[I 2025-03-23 08:11:58,815] Trial 151 finished with value: 0.4620037034365005 and parameters: {'min_samples_leaf': 19, 'max_depth': 2}. Best is trial 29 with value: 0.4740518962075848.\n",
      "[I 2025-03-23 08:11:58,886] Trial 152 finished with value: 0.4740518962075848 and parameters: {'min_samples_leaf': 17, 'max_depth': 2}. Best is trial 29 with value: 0.4740518962075848.\n",
      "[I 2025-03-23 08:11:58,957] Trial 153 finished with value: 0.4740518962075848 and parameters: {'min_samples_leaf': 16, 'max_depth': 2}. Best is trial 29 with value: 0.4740518962075848.\n",
      "[I 2025-03-23 08:11:59,030] Trial 154 finished with value: 0.4740518962075848 and parameters: {'min_samples_leaf': 17, 'max_depth': 2}. Best is trial 29 with value: 0.4740518962075848.\n",
      "[I 2025-03-23 08:11:59,134] Trial 155 finished with value: 0.4620037034365005 and parameters: {'min_samples_leaf': 18, 'max_depth': 2}. Best is trial 29 with value: 0.4740518962075848.\n",
      "[I 2025-03-23 08:11:59,206] Trial 156 finished with value: 0.4740518962075848 and parameters: {'min_samples_leaf': 15, 'max_depth': 2}. Best is trial 29 with value: 0.4740518962075848.\n",
      "[I 2025-03-23 08:11:59,289] Trial 157 finished with value: 0.4740518962075848 and parameters: {'min_samples_leaf': 16, 'max_depth': 2}. Best is trial 29 with value: 0.4740518962075848.\n",
      "[I 2025-03-23 08:11:59,347] Trial 158 finished with value: 0.4740518962075848 and parameters: {'min_samples_leaf': 12, 'max_depth': 2}. Best is trial 29 with value: 0.4740518962075848.\n",
      "[I 2025-03-23 08:11:59,402] Trial 159 finished with value: 0.4740518962075848 and parameters: {'min_samples_leaf': 14, 'max_depth': 2}. Best is trial 29 with value: 0.4740518962075848.\n",
      "[I 2025-03-23 08:11:59,464] Trial 160 finished with value: 0.4739917754851743 and parameters: {'min_samples_leaf': 2, 'max_depth': 7}. Best is trial 29 with value: 0.4740518962075848.\n",
      "[I 2025-03-23 08:11:59,532] Trial 161 finished with value: 0.4740518962075848 and parameters: {'min_samples_leaf': 17, 'max_depth': 2}. Best is trial 29 with value: 0.4740518962075848.\n",
      "[I 2025-03-23 08:11:59,621] Trial 162 finished with value: 0.4620037034365005 and parameters: {'min_samples_leaf': 18, 'max_depth': 2}. Best is trial 29 with value: 0.4740518962075848.\n",
      "[I 2025-03-23 08:11:59,724] Trial 163 finished with value: 0.4740518962075848 and parameters: {'min_samples_leaf': 17, 'max_depth': 2}. Best is trial 29 with value: 0.4740518962075848.\n",
      "[I 2025-03-23 08:11:59,796] Trial 164 finished with value: 0.4620037034365005 and parameters: {'min_samples_leaf': 18, 'max_depth': 2}. Best is trial 29 with value: 0.4740518962075848.\n",
      "[I 2025-03-23 08:11:59,866] Trial 165 finished with value: 0.4740518962075848 and parameters: {'min_samples_leaf': 16, 'max_depth': 2}. Best is trial 29 with value: 0.4740518962075848.\n",
      "[I 2025-03-23 08:11:59,934] Trial 166 finished with value: 0.4740518962075848 and parameters: {'min_samples_leaf': 12, 'max_depth': 2}. Best is trial 29 with value: 0.4740518962075848.\n",
      "[I 2025-03-23 08:12:00,010] Trial 167 finished with value: 0.4740518962075848 and parameters: {'min_samples_leaf': 13, 'max_depth': 2}. Best is trial 29 with value: 0.4740518962075848.\n",
      "[I 2025-03-23 08:12:00,097] Trial 168 finished with value: 0.4740518962075848 and parameters: {'min_samples_leaf': 17, 'max_depth': 2}. Best is trial 29 with value: 0.4740518962075848.\n",
      "[I 2025-03-23 08:12:00,193] Trial 169 finished with value: 0.45398359906692637 and parameters: {'min_samples_leaf': 11, 'max_depth': 5}. Best is trial 29 with value: 0.4740518962075848.\n",
      "[I 2025-03-23 08:12:00,288] Trial 170 finished with value: 0.4740518962075848 and parameters: {'min_samples_leaf': 15, 'max_depth': 2}. Best is trial 29 with value: 0.4740518962075848.\n",
      "[I 2025-03-23 08:12:00,353] Trial 171 finished with value: 0.4740518962075848 and parameters: {'min_samples_leaf': 10, 'max_depth': 2}. Best is trial 29 with value: 0.4740518962075848.\n",
      "[I 2025-03-23 08:12:00,429] Trial 172 finished with value: 0.4740518962075848 and parameters: {'min_samples_leaf': 11, 'max_depth': 2}. Best is trial 29 with value: 0.4740518962075848.\n",
      "[I 2025-03-23 08:12:00,525] Trial 173 finished with value: 0.4740518962075848 and parameters: {'min_samples_leaf': 11, 'max_depth': 2}. Best is trial 29 with value: 0.4740518962075848.\n",
      "[I 2025-03-23 08:12:00,594] Trial 174 finished with value: 0.4740518962075848 and parameters: {'min_samples_leaf': 12, 'max_depth': 2}. Best is trial 29 with value: 0.4740518962075848.\n",
      "[I 2025-03-23 08:12:00,672] Trial 175 finished with value: 0.4740518962075848 and parameters: {'min_samples_leaf': 17, 'max_depth': 2}. Best is trial 29 with value: 0.4740518962075848.\n",
      "[I 2025-03-23 08:12:00,754] Trial 176 finished with value: 0.4740518962075848 and parameters: {'min_samples_leaf': 12, 'max_depth': 2}. Best is trial 29 with value: 0.4740518962075848.\n",
      "[I 2025-03-23 08:12:00,839] Trial 177 finished with value: 0.4740518962075848 and parameters: {'min_samples_leaf': 14, 'max_depth': 2}. Best is trial 29 with value: 0.4740518962075848.\n",
      "[I 2025-03-23 08:12:00,913] Trial 178 finished with value: 0.4740518962075848 and parameters: {'min_samples_leaf': 11, 'max_depth': 2}. Best is trial 29 with value: 0.4740518962075848.\n",
      "[I 2025-03-23 08:12:01,027] Trial 179 finished with value: 0.4740518962075848 and parameters: {'min_samples_leaf': 10, 'max_depth': 2}. Best is trial 29 with value: 0.4740518962075848.\n",
      "[I 2025-03-23 08:12:01,122] Trial 180 finished with value: 0.4740518962075848 and parameters: {'min_samples_leaf': 14, 'max_depth': 2}. Best is trial 29 with value: 0.4740518962075848.\n",
      "[I 2025-03-23 08:12:01,196] Trial 181 finished with value: 0.4740518962075848 and parameters: {'min_samples_leaf': 13, 'max_depth': 2}. Best is trial 29 with value: 0.4740518962075848.\n",
      "[I 2025-03-23 08:12:01,286] Trial 182 finished with value: 0.4740518962075848 and parameters: {'min_samples_leaf': 13, 'max_depth': 2}. Best is trial 29 with value: 0.4740518962075848.\n",
      "[I 2025-03-23 08:12:01,382] Trial 183 finished with value: 0.4740518962075848 and parameters: {'min_samples_leaf': 12, 'max_depth': 2}. Best is trial 29 with value: 0.4740518962075848.\n",
      "[I 2025-03-23 08:12:01,476] Trial 184 finished with value: 0.4740518962075848 and parameters: {'min_samples_leaf': 13, 'max_depth': 2}. Best is trial 29 with value: 0.4740518962075848.\n",
      "[I 2025-03-23 08:12:01,549] Trial 185 finished with value: 0.4740518962075848 and parameters: {'min_samples_leaf': 16, 'max_depth': 2}. Best is trial 29 with value: 0.4740518962075848.\n",
      "[I 2025-03-23 08:12:01,623] Trial 186 finished with value: 0.4740518962075848 and parameters: {'min_samples_leaf': 15, 'max_depth': 2}. Best is trial 29 with value: 0.4740518962075848.\n",
      "[I 2025-03-23 08:12:01,720] Trial 187 finished with value: 0.4740518962075848 and parameters: {'min_samples_leaf': 13, 'max_depth': 2}. Best is trial 29 with value: 0.4740518962075848.\n",
      "[I 2025-03-23 08:12:01,825] Trial 188 finished with value: 0.4740518962075848 and parameters: {'min_samples_leaf': 11, 'max_depth': 2}. Best is trial 29 with value: 0.4740518962075848.\n",
      "[I 2025-03-23 08:12:01,917] Trial 189 finished with value: 0.4740518962075848 and parameters: {'min_samples_leaf': 12, 'max_depth': 2}. Best is trial 29 with value: 0.4740518962075848.\n",
      "[I 2025-03-23 08:12:02,008] Trial 190 finished with value: 0.4740518962075848 and parameters: {'min_samples_leaf': 13, 'max_depth': 2}. Best is trial 29 with value: 0.4740518962075848.\n",
      "[I 2025-03-23 08:12:02,079] Trial 191 finished with value: 0.4740518962075848 and parameters: {'min_samples_leaf': 12, 'max_depth': 2}. Best is trial 29 with value: 0.4740518962075848.\n",
      "[I 2025-03-23 08:12:02,147] Trial 192 finished with value: 0.4740518962075848 and parameters: {'min_samples_leaf': 11, 'max_depth': 2}. Best is trial 29 with value: 0.4740518962075848.\n",
      "[I 2025-03-23 08:12:02,225] Trial 193 finished with value: 0.4740518962075848 and parameters: {'min_samples_leaf': 12, 'max_depth': 2}. Best is trial 29 with value: 0.4740518962075848.\n",
      "[I 2025-03-23 08:12:02,295] Trial 194 finished with value: 0.4740518962075848 and parameters: {'min_samples_leaf': 14, 'max_depth': 2}. Best is trial 29 with value: 0.4740518962075848.\n",
      "[I 2025-03-23 08:12:02,366] Trial 195 finished with value: 0.4740518962075848 and parameters: {'min_samples_leaf': 12, 'max_depth': 2}. Best is trial 29 with value: 0.4740518962075848.\n",
      "[I 2025-03-23 08:12:02,437] Trial 196 finished with value: 0.4740518962075848 and parameters: {'min_samples_leaf': 17, 'max_depth': 2}. Best is trial 29 with value: 0.4740518962075848.\n",
      "[I 2025-03-23 08:12:02,537] Trial 197 finished with value: 0.4740518962075848 and parameters: {'min_samples_leaf': 11, 'max_depth': 2}. Best is trial 29 with value: 0.4740518962075848.\n",
      "[I 2025-03-23 08:12:02,603] Trial 198 finished with value: 0.4740518962075848 and parameters: {'min_samples_leaf': 14, 'max_depth': 2}. Best is trial 29 with value: 0.4740518962075848.\n",
      "[I 2025-03-23 08:12:02,701] Trial 199 finished with value: 0.4740518962075848 and parameters: {'min_samples_leaf': 16, 'max_depth': 2}. Best is trial 29 with value: 0.4740518962075848.\n"
     ]
    }
   ],
   "source": [
    "# Executar a automação de experimentos\n",
    "estudo_decisiontree = optuna.create_study(direction='maximize')\n",
    "estudo_decisiontree.optimize(decisiontree_optuna, n_trials=200)"
   ]
  },
  {
   "cell_type": "code",
   "execution_count": 106,
   "metadata": {},
   "outputs": [
    {
     "name": "stdout",
     "output_type": "stream",
     "text": [
      "Melhor acurácia: 0.4740518962075848\n",
      "Melhor conjunto de hiperparametros: {'min_samples_leaf': 15, 'max_depth': 2}\n"
     ]
    }
   ],
   "source": [
    "# Mostrar melhor resultado e melhor conjunto de hiperparametros\n",
    "print(f'Melhor acurácia: {estudo_decisiontree.best_value}')\n",
    "print(f'Melhor conjunto de hiperparametros: {estudo_decisiontree.best_params}')"
   ]
  },
  {
   "cell_type": "code",
   "execution_count": null,
   "metadata": {},
   "outputs": [],
   "source": []
  }
 ],
 "metadata": {
  "kernelspec": {
   "display_name": "classificacao_arvore_decisao-pApQBjQT",
   "language": "python",
   "name": "python3"
  },
  "language_info": {
   "codemirror_mode": {
    "name": "ipython",
    "version": 3
   },
   "file_extension": ".py",
   "mimetype": "text/x-python",
   "name": "python",
   "nbconvert_exporter": "python",
   "pygments_lexer": "ipython3",
   "version": "3.12.3"
  }
 },
 "nbformat": 4,
 "nbformat_minor": 2
}
